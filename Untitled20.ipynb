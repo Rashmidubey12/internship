{
 "cells": [
  {
   "cell_type": "markdown",
   "metadata": {},
   "source": [
    "# Web scraping - assignment 2 "
   ]
  },
  {
   "cell_type": "markdown",
   "metadata": {},
   "source": [
    "## Q1: Write a python program to scrape data for “Data Analyst” Job position in “Bangalore” location. You have to scrape the job-title, job-location, company_name, experience_required. You have to scrape first 10 jobs data."
   ]
  },
  {
   "cell_type": "code",
   "execution_count": 2,
   "metadata": {},
   "outputs": [],
   "source": [
    "# let's import all required libraries\n",
    "import selenium\n",
    "from selenium import webdriver\n",
    "import pandas as pd\n",
    "import warnings\n",
    "warnings.filterwarnings('ignore')"
   ]
  },
  {
   "cell_type": "code",
   "execution_count": 131,
   "metadata": {},
   "outputs": [],
   "source": [
    "# let's first connect to web driver\n",
    "driver = webdriver.Chrome(r'C:\\Users\\HP\\Downloads\\chromedriver_win32 (1)\\chromedriver.exe')"
   ]
  },
  {
   "cell_type": "code",
   "execution_count": 4,
   "metadata": {},
   "outputs": [],
   "source": [
    "driver = webdriver.Chrome('chromedriver.exe')"
   ]
  },
  {
   "cell_type": "code",
   "execution_count": 6,
   "metadata": {},
   "outputs": [],
   "source": [
    "url = 'https://www.naukri.com/' \n",
    "driver.get(url)"
   ]
  },
  {
   "cell_type": "code",
   "execution_count": 7,
   "metadata": {},
   "outputs": [
    {
     "data": {
      "text/plain": [
       "<selenium.webdriver.remote.webelement.WebElement (session=\"4d73f65a650de05c8abbbd38d5be86c8\", element=\"a72dda01-e8b8-4687-bcc1-52eb0716a714\")>"
      ]
     },
     "execution_count": 7,
     "metadata": {},
     "output_type": "execute_result"
    }
   ],
   "source": [
    "# finding web element for search  job bar using id\n",
    "search_job = driver.find_element_by_id(\"qsb-keyword-sugg\")\n",
    "search_job                                       "
   ]
  },
  {
   "cell_type": "code",
   "execution_count": 8,
   "metadata": {},
   "outputs": [],
   "source": [
    "# write on search bar\n",
    "search_job.send_keys(\"Data Analyst\")"
   ]
  },
  {
   "cell_type": "code",
   "execution_count": 9,
   "metadata": {},
   "outputs": [
    {
     "data": {
      "text/plain": [
       "<selenium.webdriver.remote.webelement.WebElement (session=\"4d73f65a650de05c8abbbd38d5be86c8\", element=\"47e51879-f4e5-462c-95e2-5b3f30a0b1c6\")>"
      ]
     },
     "execution_count": 9,
     "metadata": {},
     "output_type": "execute_result"
    }
   ],
   "source": [
    "# finding web element for search locn bar using absolute path\n",
    "search_locn = driver.find_element_by_xpath('/html/body/div[1]/div[3]/div[2]/section/div/form/div[2]/div/div/div/div[1]/div[2]/input')\n",
    "search_locn"
   ]
  },
  {
   "cell_type": "code",
   "execution_count": 170,
   "metadata": {},
   "outputs": [],
   "source": [
    "# finding web element for job location bar\n",
    "search_locn.send_keys(\"Bangalore\")\n"
   ]
  },
  {
   "cell_type": "code",
   "execution_count": 11,
   "metadata": {},
   "outputs": [
    {
     "data": {
      "text/plain": [
       "<selenium.webdriver.remote.webelement.WebElement (session=\"4d73f65a650de05c8abbbd38d5be86c8\", element=\"c21d5fa7-82cc-4399-8333-69383e20959b\")>"
      ]
     },
     "execution_count": 11,
     "metadata": {},
     "output_type": "execute_result"
    }
   ],
   "source": [
    "# clicking using absolute xpath function\n",
    "search_btn = driver.find_element_by_xpath('/html/body/div[1]/div[3]/div[2]/section/div/form/div[3]/button')\n",
    "search_btn"
   ]
  },
  {
   "cell_type": "code",
   "execution_count": 12,
   "metadata": {},
   "outputs": [],
   "source": [
    "search_btn.click()"
   ]
  },
  {
   "cell_type": "markdown",
   "metadata": {},
   "source": [
    "## Extracting job titles"
   ]
  },
  {
   "cell_type": "code",
   "execution_count": 13,
   "metadata": {},
   "outputs": [
    {
     "data": {
      "text/plain": [
       "[<selenium.webdriver.remote.webelement.WebElement (session=\"4d73f65a650de05c8abbbd38d5be86c8\", element=\"07f6dafd-3bdc-43f4-9164-8d7bf9ea0368\")>,\n",
       " <selenium.webdriver.remote.webelement.WebElement (session=\"4d73f65a650de05c8abbbd38d5be86c8\", element=\"5444bd82-8e59-42b2-9c0d-c65316d77c27\")>,\n",
       " <selenium.webdriver.remote.webelement.WebElement (session=\"4d73f65a650de05c8abbbd38d5be86c8\", element=\"187ef389-17a0-43d8-9891-01d0bab6105d\")>,\n",
       " <selenium.webdriver.remote.webelement.WebElement (session=\"4d73f65a650de05c8abbbd38d5be86c8\", element=\"f5824e79-7dc6-4725-bd8d-fe9e70395c66\")>,\n",
       " <selenium.webdriver.remote.webelement.WebElement (session=\"4d73f65a650de05c8abbbd38d5be86c8\", element=\"136f0ab2-d03b-4f1d-a3ea-9eb6255142f8\")>,\n",
       " <selenium.webdriver.remote.webelement.WebElement (session=\"4d73f65a650de05c8abbbd38d5be86c8\", element=\"55203d06-6b02-4a12-a735-d58dcfe917ab\")>,\n",
       " <selenium.webdriver.remote.webelement.WebElement (session=\"4d73f65a650de05c8abbbd38d5be86c8\", element=\"6517abcb-de85-461b-8894-4dc4d0891bbb\")>,\n",
       " <selenium.webdriver.remote.webelement.WebElement (session=\"4d73f65a650de05c8abbbd38d5be86c8\", element=\"c2da279a-da7f-4de8-a722-248afd31f826\")>,\n",
       " <selenium.webdriver.remote.webelement.WebElement (session=\"4d73f65a650de05c8abbbd38d5be86c8\", element=\"2023be65-9381-4f75-890e-d6927e884288\")>,\n",
       " <selenium.webdriver.remote.webelement.WebElement (session=\"4d73f65a650de05c8abbbd38d5be86c8\", element=\"f825c37e-b750-45ae-9c81-6295f5e2f67e\")>]"
      ]
     },
     "execution_count": 13,
     "metadata": {},
     "output_type": "execute_result"
    }
   ],
   "source": [
    "# let's extract all web elements having job titles \n",
    "title_tags = driver.find_elements_by_xpath('//a[@class=\"title fw500 ellipsis\"]')\n",
    "len(title_tags)\n",
    "title_tags[0:10]"
   ]
  },
  {
   "cell_type": "code",
   "execution_count": 14,
   "metadata": {},
   "outputs": [
    {
     "data": {
      "text/plain": [
       "['Lead - Data Analyst / Scientist',\n",
       " 'Research - Data Analyst / Associate',\n",
       " 'Data Analyst - CRM Platform',\n",
       " 'Senior Data Analyst - Supporting Audits',\n",
       " 'Senior Data Analyst - KPO',\n",
       " 'Data Analyst',\n",
       " 'Financial Data Analyst',\n",
       " 'Tcs Hiring For Data Analyst / Engineers',\n",
       " 'Business Data Analyst - Database Design/Mining',\n",
       " 'Senior Analyst, Data Engineering']"
      ]
     },
     "execution_count": 14,
     "metadata": {},
     "output_type": "execute_result"
    }
   ],
   "source": [
    "# Now the text of job title is inside the web elements extracted above\n",
    "# so we will run a for loop to iterate over the tags and will extract text from tags\n",
    "job_titles = []\n",
    "\n",
    "for i in title_tags:\n",
    "    job_titles.append(i.text)\n",
    "len(job_titles)    \n",
    "job_titles[0:10]"
   ]
  },
  {
   "cell_type": "markdown",
   "metadata": {},
   "source": [
    "## Extracting company names"
   ]
  },
  {
   "cell_type": "code",
   "execution_count": 15,
   "metadata": {},
   "outputs": [
    {
     "data": {
      "text/plain": [
       "[<selenium.webdriver.remote.webelement.WebElement (session=\"4d73f65a650de05c8abbbd38d5be86c8\", element=\"f5a90e9c-67e4-4122-b86e-c94fe5b5ede4\")>,\n",
       " <selenium.webdriver.remote.webelement.WebElement (session=\"4d73f65a650de05c8abbbd38d5be86c8\", element=\"a80d3ec4-d9f1-4838-97bc-17eb409f0795\")>,\n",
       " <selenium.webdriver.remote.webelement.WebElement (session=\"4d73f65a650de05c8abbbd38d5be86c8\", element=\"9b9e92ad-7832-4d40-bc41-aaef00b8b028\")>,\n",
       " <selenium.webdriver.remote.webelement.WebElement (session=\"4d73f65a650de05c8abbbd38d5be86c8\", element=\"53fa3bf3-512c-43a5-91e5-220080224a96\")>,\n",
       " <selenium.webdriver.remote.webelement.WebElement (session=\"4d73f65a650de05c8abbbd38d5be86c8\", element=\"6bac4ed3-8b71-47db-80a2-1d4b6cfe2d1d\")>,\n",
       " <selenium.webdriver.remote.webelement.WebElement (session=\"4d73f65a650de05c8abbbd38d5be86c8\", element=\"694998da-d7e7-453e-a821-a425c4cac2d6\")>,\n",
       " <selenium.webdriver.remote.webelement.WebElement (session=\"4d73f65a650de05c8abbbd38d5be86c8\", element=\"7f2cc9d5-b144-49c4-8bee-49cda5135403\")>,\n",
       " <selenium.webdriver.remote.webelement.WebElement (session=\"4d73f65a650de05c8abbbd38d5be86c8\", element=\"5744bc7f-8e7f-4243-bee5-116c11bdefc8\")>,\n",
       " <selenium.webdriver.remote.webelement.WebElement (session=\"4d73f65a650de05c8abbbd38d5be86c8\", element=\"3722c83c-215d-4bd8-9bbd-bcb61de9b65d\")>,\n",
       " <selenium.webdriver.remote.webelement.WebElement (session=\"4d73f65a650de05c8abbbd38d5be86c8\", element=\"be78b7f1-0708-4a20-adac-d47bd3cbc404\")>]"
      ]
     },
     "execution_count": 15,
     "metadata": {},
     "output_type": "execute_result"
    }
   ],
   "source": [
    "# let's extract all web elements having company names\n",
    "company_tags = driver.find_elements_by_xpath('//a[@class=\"subTitle ellipsis fleft\"]')\n",
    "len(company_tags)\n",
    "company_tags[0:10]"
   ]
  },
  {
   "cell_type": "code",
   "execution_count": 16,
   "metadata": {},
   "outputs": [
    {
     "data": {
      "text/plain": [
       "['Axim Technologies', 'AXL HR Tech', '', '', '', '', '', '', '', '']"
      ]
     },
     "execution_count": 16,
     "metadata": {},
     "output_type": "execute_result"
    }
   ],
   "source": [
    "# so we will run a for loop to iterate over the tags and will extract text from tags\n",
    "company_names =[]\n",
    "\n",
    "for i in company_tags:\n",
    "    company_names.append(i.text)\n",
    "len(company_names) \n",
    "company_names[0:10]"
   ]
  },
  {
   "cell_type": "markdown",
   "metadata": {},
   "source": [
    "## Extracting experience"
   ]
  },
  {
   "cell_type": "code",
   "execution_count": 17,
   "metadata": {},
   "outputs": [
    {
     "data": {
      "text/plain": [
       "20"
      ]
     },
     "execution_count": 17,
     "metadata": {},
     "output_type": "execute_result"
    }
   ],
   "source": [
    "# let's extract all web elements having experience using parent tag\n",
    "exp_tags = driver.find_elements_by_xpath('//li[@class=\"fleft grey-text br2 placeHolderLi experience\"]')\n",
    "len(exp_tags)"
   ]
  },
  {
   "cell_type": "code",
   "execution_count": 18,
   "metadata": {},
   "outputs": [
    {
     "data": {
      "text/plain": [
       "['12-14 Yrs', '0-2 Yrs', '', '', '', '', '', '', '', '']"
      ]
     },
     "execution_count": 18,
     "metadata": {},
     "output_type": "execute_result"
    }
   ],
   "source": [
    "experience = []\n",
    "\n",
    "for i in exp_tags:\n",
    "    experience.append(i.text)\n",
    "len(experience)\n",
    "experience[0:10]"
   ]
  },
  {
   "cell_type": "markdown",
   "metadata": {},
   "source": [
    "## Extracting location"
   ]
  },
  {
   "cell_type": "code",
   "execution_count": 19,
   "metadata": {},
   "outputs": [
    {
     "data": {
      "text/plain": [
       "20"
      ]
     },
     "execution_count": 19,
     "metadata": {},
     "output_type": "execute_result"
    }
   ],
   "source": [
    "locn_tags = driver.find_elements_by_xpath('//li[@class=\"fleft grey-text br2 placeHolderLi location\"]')\n",
    "len(locn_tags )"
   ]
  },
  {
   "cell_type": "code",
   "execution_count": 20,
   "metadata": {},
   "outputs": [
    {
     "data": {
      "text/plain": [
       "['Bangalore/Bengaluru',\n",
       " 'Mumbai, Delhi / NCR, Bangalore/Bengaluru',\n",
       " '',\n",
       " '',\n",
       " '',\n",
       " '',\n",
       " '',\n",
       " '',\n",
       " '',\n",
       " '']"
      ]
     },
     "execution_count": 20,
     "metadata": {},
     "output_type": "execute_result"
    }
   ],
   "source": [
    "location = []\n",
    "\n",
    "for i in locn_tags:\n",
    "    location.append(i.text)\n",
    "len(location)   \n",
    "location[0:10]"
   ]
  },
  {
   "cell_type": "code",
   "execution_count": 21,
   "metadata": {},
   "outputs": [
    {
     "data": {
      "text/plain": [
       "(20, 20, 20, 20)"
      ]
     },
     "execution_count": 21,
     "metadata": {},
     "output_type": "execute_result"
    }
   ],
   "source": [
    "len(job_titles),len(company_names), len(experience), len(location)"
   ]
  },
  {
   "cell_type": "code",
   "execution_count": 22,
   "metadata": {},
   "outputs": [
    {
     "data": {
      "text/html": [
       "<div>\n",
       "<style scoped>\n",
       "    .dataframe tbody tr th:only-of-type {\n",
       "        vertical-align: middle;\n",
       "    }\n",
       "\n",
       "    .dataframe tbody tr th {\n",
       "        vertical-align: top;\n",
       "    }\n",
       "\n",
       "    .dataframe thead th {\n",
       "        text-align: right;\n",
       "    }\n",
       "</style>\n",
       "<table border=\"1\" class=\"dataframe\">\n",
       "  <thead>\n",
       "    <tr style=\"text-align: right;\">\n",
       "      <th></th>\n",
       "      <th>job title</th>\n",
       "      <th>company</th>\n",
       "      <th>experience</th>\n",
       "      <th>location</th>\n",
       "    </tr>\n",
       "  </thead>\n",
       "  <tbody>\n",
       "    <tr>\n",
       "      <th>0</th>\n",
       "      <td>Lead - Data Analyst / Scientist</td>\n",
       "      <td>Axim Technologies</td>\n",
       "      <td>12-14 Yrs</td>\n",
       "      <td>Bangalore/Bengaluru</td>\n",
       "    </tr>\n",
       "    <tr>\n",
       "      <th>1</th>\n",
       "      <td>Research - Data Analyst / Associate</td>\n",
       "      <td>AXL HR Tech</td>\n",
       "      <td>0-2 Yrs</td>\n",
       "      <td>Mumbai, Delhi / NCR, Bangalore/Bengaluru</td>\n",
       "    </tr>\n",
       "    <tr>\n",
       "      <th>2</th>\n",
       "      <td>Data Analyst - CRM Platform</td>\n",
       "      <td></td>\n",
       "      <td></td>\n",
       "      <td></td>\n",
       "    </tr>\n",
       "    <tr>\n",
       "      <th>3</th>\n",
       "      <td>Senior Data Analyst - Supporting Audits</td>\n",
       "      <td></td>\n",
       "      <td></td>\n",
       "      <td></td>\n",
       "    </tr>\n",
       "    <tr>\n",
       "      <th>4</th>\n",
       "      <td>Senior Data Analyst - KPO</td>\n",
       "      <td></td>\n",
       "      <td></td>\n",
       "      <td></td>\n",
       "    </tr>\n",
       "    <tr>\n",
       "      <th>5</th>\n",
       "      <td>Data Analyst</td>\n",
       "      <td></td>\n",
       "      <td></td>\n",
       "      <td></td>\n",
       "    </tr>\n",
       "    <tr>\n",
       "      <th>6</th>\n",
       "      <td>Financial Data Analyst</td>\n",
       "      <td></td>\n",
       "      <td></td>\n",
       "      <td></td>\n",
       "    </tr>\n",
       "    <tr>\n",
       "      <th>7</th>\n",
       "      <td>Tcs Hiring For Data Analyst / Engineers</td>\n",
       "      <td></td>\n",
       "      <td></td>\n",
       "      <td></td>\n",
       "    </tr>\n",
       "    <tr>\n",
       "      <th>8</th>\n",
       "      <td>Business Data Analyst - Database Design/Mining</td>\n",
       "      <td></td>\n",
       "      <td></td>\n",
       "      <td></td>\n",
       "    </tr>\n",
       "    <tr>\n",
       "      <th>9</th>\n",
       "      <td>Senior Analyst, Data Engineering</td>\n",
       "      <td></td>\n",
       "      <td></td>\n",
       "      <td></td>\n",
       "    </tr>\n",
       "  </tbody>\n",
       "</table>\n",
       "</div>"
      ],
      "text/plain": [
       "                                        job title            company  \\\n",
       "0                 Lead - Data Analyst / Scientist  Axim Technologies   \n",
       "1             Research - Data Analyst / Associate        AXL HR Tech   \n",
       "2                     Data Analyst - CRM Platform                      \n",
       "3         Senior Data Analyst - Supporting Audits                      \n",
       "4                       Senior Data Analyst - KPO                      \n",
       "5                                    Data Analyst                      \n",
       "6                          Financial Data Analyst                      \n",
       "7         Tcs Hiring For Data Analyst / Engineers                      \n",
       "8  Business Data Analyst - Database Design/Mining                      \n",
       "9                Senior Analyst, Data Engineering                      \n",
       "\n",
       "  experience                                  location  \n",
       "0  12-14 Yrs                       Bangalore/Bengaluru  \n",
       "1    0-2 Yrs  Mumbai, Delhi / NCR, Bangalore/Bengaluru  \n",
       "2                                                       \n",
       "3                                                       \n",
       "4                                                       \n",
       "5                                                       \n",
       "6                                                       \n",
       "7                                                       \n",
       "8                                                       \n",
       "9                                                       "
      ]
     },
     "execution_count": 22,
     "metadata": {},
     "output_type": "execute_result"
    }
   ],
   "source": [
    "jobs = pd.DataFrame()\n",
    "jobs['job title'] = job_titles[0:10]\n",
    "jobs['company'] = company_names[0:10]\n",
    "jobs['experience'] = experience[0:10]\n",
    "jobs['location']  =  location[0:10]\n",
    "jobs"
   ]
  },
  {
   "cell_type": "markdown",
   "metadata": {},
   "source": [
    "## Q2: Write a python program to scrape data for “Data Scientist” Job position in “Bangalore” location. You have to scrape the job-title, job-location, company_name. You have to scrape first 10 jobs data.\n",
    " \n",
    " "
   ]
  },
  {
   "cell_type": "code",
   "execution_count": 23,
   "metadata": {},
   "outputs": [],
   "source": [
    "url = 'https://www.naukri.com/' \n",
    "driver.get(url)"
   ]
  },
  {
   "cell_type": "code",
   "execution_count": 24,
   "metadata": {},
   "outputs": [
    {
     "data": {
      "text/plain": [
       "<selenium.webdriver.remote.webelement.WebElement (session=\"4d73f65a650de05c8abbbd38d5be86c8\", element=\"ebe1fc97-38f7-488f-aaaa-15e7a88ef687\")>"
      ]
     },
     "execution_count": 24,
     "metadata": {},
     "output_type": "execute_result"
    }
   ],
   "source": [
    "# finding web element for search  job bar using id\n",
    "search_job = driver.find_element_by_id(\"qsb-keyword-sugg\")\n",
    "search_job  "
   ]
  },
  {
   "cell_type": "code",
   "execution_count": 25,
   "metadata": {},
   "outputs": [],
   "source": [
    "# write on search bar\n",
    "search_job.send_keys(\"Data Scientist\")"
   ]
  },
  {
   "cell_type": "code",
   "execution_count": 26,
   "metadata": {},
   "outputs": [
    {
     "data": {
      "text/plain": [
       "<selenium.webdriver.remote.webelement.WebElement (session=\"4d73f65a650de05c8abbbd38d5be86c8\", element=\"8da873a4-a49b-40fa-9bc2-75d44f1b607f\")>"
      ]
     },
     "execution_count": 26,
     "metadata": {},
     "output_type": "execute_result"
    }
   ],
   "source": [
    "# finding web element for search locn bar using absolute path\n",
    "search_locn = driver.find_element_by_xpath('/html/body/div[1]/div[3]/div[2]/section/div/form/div[2]/div/div/div/div[1]/div[2]/input')\n",
    "search_locn"
   ]
  },
  {
   "cell_type": "code",
   "execution_count": 27,
   "metadata": {},
   "outputs": [],
   "source": [
    "# finding web element for job location bar\n",
    "search_locn.send_keys(\"Bangalore\")"
   ]
  },
  {
   "cell_type": "code",
   "execution_count": 28,
   "metadata": {},
   "outputs": [
    {
     "data": {
      "text/plain": [
       "<selenium.webdriver.remote.webelement.WebElement (session=\"4d73f65a650de05c8abbbd38d5be86c8\", element=\"b4959c84-cfd9-4a0b-bb2c-08812a5844c7\")>"
      ]
     },
     "execution_count": 28,
     "metadata": {},
     "output_type": "execute_result"
    }
   ],
   "source": [
    "# clicking using absolute xpath function\n",
    "search_btn = driver.find_element_by_xpath('/html/body/div[1]/div[3]/div[2]/section/div/form/div[3]/button')\n",
    "search_btn"
   ]
  },
  {
   "cell_type": "code",
   "execution_count": 29,
   "metadata": {},
   "outputs": [],
   "source": [
    "search_btn.click()"
   ]
  },
  {
   "cell_type": "markdown",
   "metadata": {},
   "source": [
    "## Extracting job titles"
   ]
  },
  {
   "cell_type": "code",
   "execution_count": 30,
   "metadata": {},
   "outputs": [
    {
     "data": {
      "text/plain": [
       "[<selenium.webdriver.remote.webelement.WebElement (session=\"4d73f65a650de05c8abbbd38d5be86c8\", element=\"84d15032-4ed0-4ef6-b2c5-7695dc6301d6\")>,\n",
       " <selenium.webdriver.remote.webelement.WebElement (session=\"4d73f65a650de05c8abbbd38d5be86c8\", element=\"f2b3d40e-1047-4ff6-aee5-f35e36d2a967\")>,\n",
       " <selenium.webdriver.remote.webelement.WebElement (session=\"4d73f65a650de05c8abbbd38d5be86c8\", element=\"1b0d4d3e-a5fc-4115-93b8-405014f40329\")>,\n",
       " <selenium.webdriver.remote.webelement.WebElement (session=\"4d73f65a650de05c8abbbd38d5be86c8\", element=\"d8416ef2-fda6-46b1-a68f-eb14e0c42e98\")>,\n",
       " <selenium.webdriver.remote.webelement.WebElement (session=\"4d73f65a650de05c8abbbd38d5be86c8\", element=\"2a39d86a-d8c5-4b4a-9f74-92bfeb22b86c\")>,\n",
       " <selenium.webdriver.remote.webelement.WebElement (session=\"4d73f65a650de05c8abbbd38d5be86c8\", element=\"e18cf5ac-65b7-45b5-8527-cb3d638847d4\")>,\n",
       " <selenium.webdriver.remote.webelement.WebElement (session=\"4d73f65a650de05c8abbbd38d5be86c8\", element=\"b7a8fabf-14d3-4a4c-830f-778d13df7b2b\")>,\n",
       " <selenium.webdriver.remote.webelement.WebElement (session=\"4d73f65a650de05c8abbbd38d5be86c8\", element=\"b4cb8496-6f8f-478d-a4e3-1ed599ff0137\")>,\n",
       " <selenium.webdriver.remote.webelement.WebElement (session=\"4d73f65a650de05c8abbbd38d5be86c8\", element=\"165fe6e0-02b5-4c5d-b1e1-d72937bf7db0\")>,\n",
       " <selenium.webdriver.remote.webelement.WebElement (session=\"4d73f65a650de05c8abbbd38d5be86c8\", element=\"f9a61034-ee8c-4ded-b7de-d46cc51e7214\")>]"
      ]
     },
     "execution_count": 30,
     "metadata": {},
     "output_type": "execute_result"
    }
   ],
   "source": [
    "# let's extract all web elements having job titles \n",
    "title_tags = driver.find_elements_by_xpath('//a[@class=\"title fw500 ellipsis\"]')\n",
    "len(title_tags)\n",
    "title_tags[0:10]"
   ]
  },
  {
   "cell_type": "code",
   "execution_count": 31,
   "metadata": {},
   "outputs": [
    {
     "data": {
      "text/plain": [
       "['Lead/Senior Data Scientist (NLP)',\n",
       " 'Commercial Analytics Data Scientist',\n",
       " 'Senior Data Scientist - Logistics',\n",
       " 'Lead Data Scientist - NLP/OpenCV',\n",
       " 'Lead Data Scientist',\n",
       " 'Lead Data Scientist - Prescriptive Analytics/Predictive Modeling',\n",
       " 'Lead - Data Analyst / Scientist',\n",
       " 'Hiring For Data Scientist @ Bangalore',\n",
       " 'Data Scientist - Logistics',\n",
       " 'Job opening with Wipro For Data Scientist']"
      ]
     },
     "execution_count": 31,
     "metadata": {},
     "output_type": "execute_result"
    }
   ],
   "source": [
    "# Now the text of job title is inside the web elements extracted above\n",
    "# so we will run a for loop to iterate over the tags and will extract text from tags\n",
    "job_titles = []\n",
    "\n",
    "for i in title_tags:\n",
    "    job_titles.append(i.text)\n",
    "len(job_titles)    \n",
    "job_titles[0:10]"
   ]
  },
  {
   "cell_type": "markdown",
   "metadata": {},
   "source": [
    "## Extracting company names"
   ]
  },
  {
   "cell_type": "code",
   "execution_count": 32,
   "metadata": {},
   "outputs": [
    {
     "data": {
      "text/plain": [
       "[<selenium.webdriver.remote.webelement.WebElement (session=\"4d73f65a650de05c8abbbd38d5be86c8\", element=\"7f4e5818-39ed-4d54-9900-c4b80601c2ff\")>,\n",
       " <selenium.webdriver.remote.webelement.WebElement (session=\"4d73f65a650de05c8abbbd38d5be86c8\", element=\"2c730a5c-4b2d-4e46-a5b4-93031c739e53\")>,\n",
       " <selenium.webdriver.remote.webelement.WebElement (session=\"4d73f65a650de05c8abbbd38d5be86c8\", element=\"536ff816-dffd-442f-81d9-6be5bcf8d9ed\")>,\n",
       " <selenium.webdriver.remote.webelement.WebElement (session=\"4d73f65a650de05c8abbbd38d5be86c8\", element=\"aac4e3d7-1e1e-43bc-b163-3ad03235c44d\")>,\n",
       " <selenium.webdriver.remote.webelement.WebElement (session=\"4d73f65a650de05c8abbbd38d5be86c8\", element=\"097914d9-0557-451e-a284-4562570e3834\")>,\n",
       " <selenium.webdriver.remote.webelement.WebElement (session=\"4d73f65a650de05c8abbbd38d5be86c8\", element=\"88f620f2-8779-46cc-912a-1a88c6f05fc3\")>,\n",
       " <selenium.webdriver.remote.webelement.WebElement (session=\"4d73f65a650de05c8abbbd38d5be86c8\", element=\"d95dfd3d-ef09-4fc0-9c42-7aaac838bf7c\")>,\n",
       " <selenium.webdriver.remote.webelement.WebElement (session=\"4d73f65a650de05c8abbbd38d5be86c8\", element=\"7fc39d22-295c-465e-a55c-e4479db94631\")>,\n",
       " <selenium.webdriver.remote.webelement.WebElement (session=\"4d73f65a650de05c8abbbd38d5be86c8\", element=\"7b143193-9b4e-435b-90b4-618e2e14240b\")>,\n",
       " <selenium.webdriver.remote.webelement.WebElement (session=\"4d73f65a650de05c8abbbd38d5be86c8\", element=\"991a048c-9b51-4d16-bca5-74648cd6337a\")>]"
      ]
     },
     "execution_count": 32,
     "metadata": {},
     "output_type": "execute_result"
    }
   ],
   "source": [
    "# let's extract all web elements having company names\n",
    "company_tags = driver.find_elements_by_xpath('//a[@class=\"subTitle ellipsis fleft\"]')\n",
    "len(company_tags)\n",
    "company_tags[0:10]"
   ]
  },
  {
   "cell_type": "code",
   "execution_count": 33,
   "metadata": {},
   "outputs": [
    {
     "data": {
      "text/plain": [
       "['Samya.AI A FRACTAL Entity',\n",
       " 'Dell',\n",
       " 'GO-JEK India',\n",
       " 'Codersbrain',\n",
       " 'First American',\n",
       " 'Codersbrain',\n",
       " 'Axim Technologies',\n",
       " 'West Pharmaceutical Packaging India Pvt. Ltd.',\n",
       " 'Gojek Tech',\n",
       " 'Wipro']"
      ]
     },
     "execution_count": 33,
     "metadata": {},
     "output_type": "execute_result"
    }
   ],
   "source": [
    "# so we will run a for loop to iterate over the tags and will extract text from tags\n",
    "company_names =[]\n",
    "\n",
    "for i in company_tags:\n",
    "    company_names.append(i.text)\n",
    "len(company_names) \n",
    "company_names[0:10]"
   ]
  },
  {
   "cell_type": "markdown",
   "metadata": {},
   "source": [
    "## Extracting experience"
   ]
  },
  {
   "cell_type": "code",
   "execution_count": 34,
   "metadata": {},
   "outputs": [
    {
     "data": {
      "text/plain": [
       "20"
      ]
     },
     "execution_count": 34,
     "metadata": {},
     "output_type": "execute_result"
    }
   ],
   "source": [
    "# let's extract all web elements having experience using parent tag\n",
    "exp_tags = driver.find_elements_by_xpath('//li[@class=\"fleft grey-text br2 placeHolderLi experience\"]')\n",
    "len(exp_tags)"
   ]
  },
  {
   "cell_type": "code",
   "execution_count": 35,
   "metadata": {},
   "outputs": [
    {
     "data": {
      "text/plain": [
       "['3-8 Yrs',\n",
       " '12-15 Yrs',\n",
       " '5-11 Yrs',\n",
       " '6-11 Yrs',\n",
       " '9-14 Yrs',\n",
       " '6-11 Yrs',\n",
       " '12-14 Yrs',\n",
       " '2-5 Yrs',\n",
       " '2-6 Yrs',\n",
       " '5-10 Yrs']"
      ]
     },
     "execution_count": 35,
     "metadata": {},
     "output_type": "execute_result"
    }
   ],
   "source": [
    "experience = []\n",
    "\n",
    "for i in exp_tags:\n",
    "    experience.append(i.text)\n",
    "len(experience)\n",
    "experience[0:10]"
   ]
  },
  {
   "cell_type": "markdown",
   "metadata": {},
   "source": [
    "## Extracting location"
   ]
  },
  {
   "cell_type": "code",
   "execution_count": 36,
   "metadata": {},
   "outputs": [
    {
     "data": {
      "text/plain": [
       "20"
      ]
     },
     "execution_count": 36,
     "metadata": {},
     "output_type": "execute_result"
    }
   ],
   "source": [
    "locn_tags = driver.find_elements_by_xpath('//li[@class=\"fleft grey-text br2 placeHolderLi location\"]')\n",
    "len(locn_tags )"
   ]
  },
  {
   "cell_type": "code",
   "execution_count": 37,
   "metadata": {},
   "outputs": [
    {
     "data": {
      "text/plain": [
       "['Bangalore/Bengaluru\\n(WFH during Covid)',\n",
       " 'Bangalore/Bengaluru',\n",
       " 'Bangalore/Bengaluru',\n",
       " 'Hyderabad/Secunderabad, Bangalore/Bengaluru',\n",
       " 'Bangalore/Bengaluru',\n",
       " 'Hyderabad/Secunderabad, Bangalore/Bengaluru',\n",
       " 'Bangalore/Bengaluru',\n",
       " 'Bangalore/Bengaluru\\n(WFH during Covid)',\n",
       " 'Bangalore/Bengaluru',\n",
       " 'Hyderabad/Secunderabad, Pune, Chennai, Bangalore/Bengaluru']"
      ]
     },
     "execution_count": 37,
     "metadata": {},
     "output_type": "execute_result"
    }
   ],
   "source": [
    "location = []\n",
    "\n",
    "for i in locn_tags:\n",
    "    location.append(i.text)\n",
    "len(location)   \n",
    "location[0:10]"
   ]
  },
  {
   "cell_type": "code",
   "execution_count": 38,
   "metadata": {},
   "outputs": [
    {
     "data": {
      "text/plain": [
       "(20, 20, 20, 20)"
      ]
     },
     "execution_count": 38,
     "metadata": {},
     "output_type": "execute_result"
    }
   ],
   "source": [
    "len(job_titles),len(company_names), len(experience), len(location)"
   ]
  },
  {
   "cell_type": "code",
   "execution_count": 39,
   "metadata": {},
   "outputs": [
    {
     "data": {
      "text/html": [
       "<div>\n",
       "<style scoped>\n",
       "    .dataframe tbody tr th:only-of-type {\n",
       "        vertical-align: middle;\n",
       "    }\n",
       "\n",
       "    .dataframe tbody tr th {\n",
       "        vertical-align: top;\n",
       "    }\n",
       "\n",
       "    .dataframe thead th {\n",
       "        text-align: right;\n",
       "    }\n",
       "</style>\n",
       "<table border=\"1\" class=\"dataframe\">\n",
       "  <thead>\n",
       "    <tr style=\"text-align: right;\">\n",
       "      <th></th>\n",
       "      <th>job title</th>\n",
       "      <th>company</th>\n",
       "      <th>experience</th>\n",
       "      <th>location</th>\n",
       "    </tr>\n",
       "  </thead>\n",
       "  <tbody>\n",
       "    <tr>\n",
       "      <th>0</th>\n",
       "      <td>Lead/Senior Data Scientist (NLP)</td>\n",
       "      <td>Samya.AI A FRACTAL Entity</td>\n",
       "      <td>3-8 Yrs</td>\n",
       "      <td>Bangalore/Bengaluru\\n(WFH during Covid)</td>\n",
       "    </tr>\n",
       "    <tr>\n",
       "      <th>1</th>\n",
       "      <td>Commercial Analytics Data Scientist</td>\n",
       "      <td>Dell</td>\n",
       "      <td>12-15 Yrs</td>\n",
       "      <td>Bangalore/Bengaluru</td>\n",
       "    </tr>\n",
       "    <tr>\n",
       "      <th>2</th>\n",
       "      <td>Senior Data Scientist - Logistics</td>\n",
       "      <td>GO-JEK India</td>\n",
       "      <td>5-11 Yrs</td>\n",
       "      <td>Bangalore/Bengaluru</td>\n",
       "    </tr>\n",
       "    <tr>\n",
       "      <th>3</th>\n",
       "      <td>Lead Data Scientist - NLP/OpenCV</td>\n",
       "      <td>Codersbrain</td>\n",
       "      <td>6-11 Yrs</td>\n",
       "      <td>Hyderabad/Secunderabad, Bangalore/Bengaluru</td>\n",
       "    </tr>\n",
       "    <tr>\n",
       "      <th>4</th>\n",
       "      <td>Lead Data Scientist</td>\n",
       "      <td>First American</td>\n",
       "      <td>9-14 Yrs</td>\n",
       "      <td>Bangalore/Bengaluru</td>\n",
       "    </tr>\n",
       "    <tr>\n",
       "      <th>5</th>\n",
       "      <td>Lead Data Scientist - Prescriptive Analytics/P...</td>\n",
       "      <td>Codersbrain</td>\n",
       "      <td>6-11 Yrs</td>\n",
       "      <td>Hyderabad/Secunderabad, Bangalore/Bengaluru</td>\n",
       "    </tr>\n",
       "    <tr>\n",
       "      <th>6</th>\n",
       "      <td>Lead - Data Analyst / Scientist</td>\n",
       "      <td>Axim Technologies</td>\n",
       "      <td>12-14 Yrs</td>\n",
       "      <td>Bangalore/Bengaluru</td>\n",
       "    </tr>\n",
       "    <tr>\n",
       "      <th>7</th>\n",
       "      <td>Hiring For Data Scientist @ Bangalore</td>\n",
       "      <td>West Pharmaceutical Packaging India Pvt. Ltd.</td>\n",
       "      <td>2-5 Yrs</td>\n",
       "      <td>Bangalore/Bengaluru\\n(WFH during Covid)</td>\n",
       "    </tr>\n",
       "    <tr>\n",
       "      <th>8</th>\n",
       "      <td>Data Scientist - Logistics</td>\n",
       "      <td>Gojek Tech</td>\n",
       "      <td>2-6 Yrs</td>\n",
       "      <td>Bangalore/Bengaluru</td>\n",
       "    </tr>\n",
       "    <tr>\n",
       "      <th>9</th>\n",
       "      <td>Job opening with Wipro For Data Scientist</td>\n",
       "      <td>Wipro</td>\n",
       "      <td>5-10 Yrs</td>\n",
       "      <td>Hyderabad/Secunderabad, Pune, Chennai, Bangalo...</td>\n",
       "    </tr>\n",
       "  </tbody>\n",
       "</table>\n",
       "</div>"
      ],
      "text/plain": [
       "                                           job title  \\\n",
       "0                   Lead/Senior Data Scientist (NLP)   \n",
       "1                Commercial Analytics Data Scientist   \n",
       "2                  Senior Data Scientist - Logistics   \n",
       "3                   Lead Data Scientist - NLP/OpenCV   \n",
       "4                                Lead Data Scientist   \n",
       "5  Lead Data Scientist - Prescriptive Analytics/P...   \n",
       "6                    Lead - Data Analyst / Scientist   \n",
       "7              Hiring For Data Scientist @ Bangalore   \n",
       "8                         Data Scientist - Logistics   \n",
       "9          Job opening with Wipro For Data Scientist   \n",
       "\n",
       "                                         company experience  \\\n",
       "0                      Samya.AI A FRACTAL Entity    3-8 Yrs   \n",
       "1                                           Dell  12-15 Yrs   \n",
       "2                                   GO-JEK India   5-11 Yrs   \n",
       "3                                    Codersbrain   6-11 Yrs   \n",
       "4                                 First American   9-14 Yrs   \n",
       "5                                    Codersbrain   6-11 Yrs   \n",
       "6                              Axim Technologies  12-14 Yrs   \n",
       "7  West Pharmaceutical Packaging India Pvt. Ltd.    2-5 Yrs   \n",
       "8                                     Gojek Tech    2-6 Yrs   \n",
       "9                                          Wipro   5-10 Yrs   \n",
       "\n",
       "                                            location  \n",
       "0            Bangalore/Bengaluru\\n(WFH during Covid)  \n",
       "1                                Bangalore/Bengaluru  \n",
       "2                                Bangalore/Bengaluru  \n",
       "3        Hyderabad/Secunderabad, Bangalore/Bengaluru  \n",
       "4                                Bangalore/Bengaluru  \n",
       "5        Hyderabad/Secunderabad, Bangalore/Bengaluru  \n",
       "6                                Bangalore/Bengaluru  \n",
       "7            Bangalore/Bengaluru\\n(WFH during Covid)  \n",
       "8                                Bangalore/Bengaluru  \n",
       "9  Hyderabad/Secunderabad, Pune, Chennai, Bangalo...  "
      ]
     },
     "execution_count": 39,
     "metadata": {},
     "output_type": "execute_result"
    }
   ],
   "source": [
    "jobs = pd.DataFrame()\n",
    "jobs['job title'] = job_titles[0:10]\n",
    "jobs['company'] = company_names[0:10]\n",
    "jobs['experience'] = experience[0:10]\n",
    "jobs['location']  =  location[0:10]\n",
    "jobs"
   ]
  },
  {
   "cell_type": "markdown",
   "metadata": {},
   "source": [
    "## Q.3 You have to use the location and salary filter.You have to scrape data for “Data Scientist” designation for first 10 job results.You have to scrape the job-title, job-location, company name, experience required.The location filter to be used is “Delhi/NCR”. The salary filter to be used is “3-6” lakhs."
   ]
  },
  {
   "cell_type": "code",
   "execution_count": 40,
   "metadata": {},
   "outputs": [],
   "source": [
    "url = 'https://www.naukri.com/' \n",
    "driver.get(url)"
   ]
  },
  {
   "cell_type": "code",
   "execution_count": 41,
   "metadata": {},
   "outputs": [
    {
     "data": {
      "text/plain": [
       "<selenium.webdriver.remote.webelement.WebElement (session=\"4d73f65a650de05c8abbbd38d5be86c8\", element=\"6124466f-8987-46b7-b08b-1f463d274eb2\")>"
      ]
     },
     "execution_count": 41,
     "metadata": {},
     "output_type": "execute_result"
    }
   ],
   "source": [
    "# finding web element for search  job bar using id\n",
    "search_job = driver.find_element_by_id(\"qsb-keyword-sugg\")\n",
    "search_job  "
   ]
  },
  {
   "cell_type": "code",
   "execution_count": 42,
   "metadata": {},
   "outputs": [],
   "source": [
    "# write on search bar\n",
    "search_job.send_keys(\"Data Scientist\")"
   ]
  },
  {
   "cell_type": "code",
   "execution_count": 43,
   "metadata": {},
   "outputs": [
    {
     "data": {
      "text/plain": [
       "<selenium.webdriver.remote.webelement.WebElement (session=\"4d73f65a650de05c8abbbd38d5be86c8\", element=\"f4d76108-d8de-4c42-aa90-13f495497667\")>"
      ]
     },
     "execution_count": 43,
     "metadata": {},
     "output_type": "execute_result"
    }
   ],
   "source": [
    "# finding web element for search locn bar using absolute path\n",
    "search_locn = driver.find_element_by_xpath('/html/body/div[1]/div[3]/div[2]/section/div/form/div[2]/div/div/div/div[1]/div[2]/input')\n",
    "search_locn"
   ]
  },
  {
   "cell_type": "code",
   "execution_count": 44,
   "metadata": {},
   "outputs": [],
   "source": [
    "# finding web element for job location bar\n",
    "search_locn.send_keys(\"Delhi/NCR\")"
   ]
  },
  {
   "cell_type": "code",
   "execution_count": 45,
   "metadata": {},
   "outputs": [
    {
     "data": {
      "text/plain": [
       "<selenium.webdriver.remote.webelement.WebElement (session=\"4d73f65a650de05c8abbbd38d5be86c8\", element=\"df7129cf-a17f-4715-b18a-ee2b331282c1\")>"
      ]
     },
     "execution_count": 45,
     "metadata": {},
     "output_type": "execute_result"
    }
   ],
   "source": [
    "# clicking using absolute xpath function\n",
    "search_btn = driver.find_element_by_xpath('/html/body/div[1]/div[3]/div[2]/section/div/form/div[3]/button')\n",
    "search_btn"
   ]
  },
  {
   "cell_type": "code",
   "execution_count": 46,
   "metadata": {},
   "outputs": [],
   "source": [
    "search_btn.click()"
   ]
  },
  {
   "cell_type": "markdown",
   "metadata": {},
   "source": [
    "clicking filters by selecting check boxes using absolute path"
   ]
  },
  {
   "cell_type": "code",
   "execution_count": 49,
   "metadata": {},
   "outputs": [
    {
     "data": {
      "text/plain": [
       "<selenium.webdriver.remote.webelement.WebElement (session=\"4d73f65a650de05c8abbbd38d5be86c8\", element=\"6d4d1123-2ded-4080-ae2e-9131f697d581\")>"
      ]
     },
     "execution_count": 49,
     "metadata": {},
     "output_type": "execute_result"
    }
   ],
   "source": [
    "salary_check = driver.find_element_by_xpath('/html/body/div[1]/div[3]/div[2]/section[1]/div[2]/div[2]/div[2]/div[1]/label/i')\n",
    "salary_check"
   ]
  },
  {
   "cell_type": "code",
   "execution_count": 50,
   "metadata": {},
   "outputs": [],
   "source": [
    "salary_check.click()"
   ]
  },
  {
   "cell_type": "code",
   "execution_count": 51,
   "metadata": {},
   "outputs": [],
   "source": [
    "locn_check =  driver.find_element_by_xpath('/html/body/div[1]/div[3]/div[2]/section[1]/div[2]/div[3]/div[2]/div[2]/label/i')"
   ]
  },
  {
   "cell_type": "code",
   "execution_count": 52,
   "metadata": {},
   "outputs": [],
   "source": [
    "locn_check.click()"
   ]
  },
  {
   "cell_type": "markdown",
   "metadata": {},
   "source": [
    "## Extracting job titles"
   ]
  },
  {
   "cell_type": "code",
   "execution_count": 53,
   "metadata": {},
   "outputs": [
    {
     "data": {
      "text/plain": [
       "[<selenium.webdriver.remote.webelement.WebElement (session=\"4d73f65a650de05c8abbbd38d5be86c8\", element=\"12785cb9-b64f-4f05-b536-6bbbe9627022\")>,\n",
       " <selenium.webdriver.remote.webelement.WebElement (session=\"4d73f65a650de05c8abbbd38d5be86c8\", element=\"7bd7a54b-0284-459f-ba07-cb04abf42de2\")>,\n",
       " <selenium.webdriver.remote.webelement.WebElement (session=\"4d73f65a650de05c8abbbd38d5be86c8\", element=\"db96c837-869e-469d-b25e-04fe5009f36e\")>,\n",
       " <selenium.webdriver.remote.webelement.WebElement (session=\"4d73f65a650de05c8abbbd38d5be86c8\", element=\"64973982-1993-47e9-8fed-64197af79222\")>,\n",
       " <selenium.webdriver.remote.webelement.WebElement (session=\"4d73f65a650de05c8abbbd38d5be86c8\", element=\"f90eb888-fc69-4035-a9e0-3e249aae06cc\")>,\n",
       " <selenium.webdriver.remote.webelement.WebElement (session=\"4d73f65a650de05c8abbbd38d5be86c8\", element=\"a94a182d-4039-4d97-8882-c7c7f8cb6687\")>,\n",
       " <selenium.webdriver.remote.webelement.WebElement (session=\"4d73f65a650de05c8abbbd38d5be86c8\", element=\"35c73ce5-1272-4de9-a834-7a0dcf78bc4b\")>,\n",
       " <selenium.webdriver.remote.webelement.WebElement (session=\"4d73f65a650de05c8abbbd38d5be86c8\", element=\"a285bbdf-8f29-46b3-a398-2b265dc0ce43\")>,\n",
       " <selenium.webdriver.remote.webelement.WebElement (session=\"4d73f65a650de05c8abbbd38d5be86c8\", element=\"96e7421f-0ed9-44e5-af11-24418ee402dd\")>,\n",
       " <selenium.webdriver.remote.webelement.WebElement (session=\"4d73f65a650de05c8abbbd38d5be86c8\", element=\"c4870dbb-990d-48c3-9547-a0bccacd1472\")>]"
      ]
     },
     "execution_count": 53,
     "metadata": {},
     "output_type": "execute_result"
    }
   ],
   "source": [
    "# let's extract all web elements having job titles \n",
    "title_tags = driver.find_elements_by_xpath('//a[@class=\"title fw500 ellipsis\"]')\n",
    "len(title_tags)\n",
    "title_tags[0:10]"
   ]
  },
  {
   "cell_type": "code",
   "execution_count": 54,
   "metadata": {},
   "outputs": [
    {
     "data": {
      "text/plain": [
       "['Openings For Jr/mid/Sr level data Scientists',\n",
       " 'ML Engineer/Data Scientist',\n",
       " 'Lead Data Scientist',\n",
       " 'Data Scientist role',\n",
       " 'Data Scientist role',\n",
       " 'Data Scientist',\n",
       " 'We are hiring Data Scientist professionals For our reputed client',\n",
       " 'Senior Data Analyst',\n",
       " 'Job Opportunity || Lead Data Engineer || Infogain',\n",
       " 'Azure Data Engineer']"
      ]
     },
     "execution_count": 54,
     "metadata": {},
     "output_type": "execute_result"
    }
   ],
   "source": [
    "# Now the text of job title is inside the web elements extracted above\n",
    "# so we will run a for loop to iterate over the tags and will extract text from tags\n",
    "job_titles = []\n",
    "\n",
    "for i in title_tags:\n",
    "    job_titles.append(i.text)\n",
    "len(job_titles)    \n",
    "job_titles[0:10]"
   ]
  },
  {
   "cell_type": "markdown",
   "metadata": {},
   "source": [
    "## Extracting company names"
   ]
  },
  {
   "cell_type": "code",
   "execution_count": 55,
   "metadata": {},
   "outputs": [
    {
     "data": {
      "text/plain": [
       "[<selenium.webdriver.remote.webelement.WebElement (session=\"4d73f65a650de05c8abbbd38d5be86c8\", element=\"f1478a9c-8690-4378-a8ad-88ab92d6eaee\")>,\n",
       " <selenium.webdriver.remote.webelement.WebElement (session=\"4d73f65a650de05c8abbbd38d5be86c8\", element=\"a084ee58-899a-484f-ace5-7ffc55cc1f88\")>,\n",
       " <selenium.webdriver.remote.webelement.WebElement (session=\"4d73f65a650de05c8abbbd38d5be86c8\", element=\"4861b43d-ab9d-4083-aedb-ee11464499da\")>,\n",
       " <selenium.webdriver.remote.webelement.WebElement (session=\"4d73f65a650de05c8abbbd38d5be86c8\", element=\"ecc6e653-0bf7-42ec-aa6c-5209829edba9\")>,\n",
       " <selenium.webdriver.remote.webelement.WebElement (session=\"4d73f65a650de05c8abbbd38d5be86c8\", element=\"52e1055c-58ca-40ee-a119-c491e37c382d\")>,\n",
       " <selenium.webdriver.remote.webelement.WebElement (session=\"4d73f65a650de05c8abbbd38d5be86c8\", element=\"c8885d49-8c17-49ef-a940-dc78bf872cc7\")>,\n",
       " <selenium.webdriver.remote.webelement.WebElement (session=\"4d73f65a650de05c8abbbd38d5be86c8\", element=\"2ef66282-e2de-4b39-a62d-4c89d0b58969\")>,\n",
       " <selenium.webdriver.remote.webelement.WebElement (session=\"4d73f65a650de05c8abbbd38d5be86c8\", element=\"b2908eea-7bb0-4f53-b35e-0d76a7f08f22\")>,\n",
       " <selenium.webdriver.remote.webelement.WebElement (session=\"4d73f65a650de05c8abbbd38d5be86c8\", element=\"fbb8964a-34e7-4733-8172-d169944ba83a\")>,\n",
       " <selenium.webdriver.remote.webelement.WebElement (session=\"4d73f65a650de05c8abbbd38d5be86c8\", element=\"80412d0d-01ff-4b5b-be93-f849fb96330b\")>]"
      ]
     },
     "execution_count": 55,
     "metadata": {},
     "output_type": "execute_result"
    }
   ],
   "source": [
    "# let's extract all web elements having company names\n",
    "company_tags = driver.find_elements_by_xpath('//a[@class=\"subTitle ellipsis fleft\"]')\n",
    "len(company_tags)\n",
    "company_tags[0:10]"
   ]
  },
  {
   "cell_type": "code",
   "execution_count": 56,
   "metadata": {},
   "outputs": [
    {
     "data": {
      "text/plain": [
       "['Pluto seven business solutions (p) limited',\n",
       " 'Rapid Talent Solutions',\n",
       " 'TransOrg Solutions Services (P) Ltd.',\n",
       " 'Mount Talent Consulting Private Limited',\n",
       " 'Mount Talent Consulting Private Limited',\n",
       " 'Mapps IT Services Pvt Ltd.',\n",
       " 'Infinics Global Solutions Pvt Ltd',\n",
       " 'SYREN TECHNOLOGIES PRIVATE LIMITED',\n",
       " 'Infogain',\n",
       " 'Wipro']"
      ]
     },
     "execution_count": 56,
     "metadata": {},
     "output_type": "execute_result"
    }
   ],
   "source": [
    "# so we will run a for loop to iterate over the tags and will extract text from tags\n",
    "company_names =[]\n",
    "\n",
    "for i in company_tags:\n",
    "    company_names.append(i.text)\n",
    "len(company_names) \n",
    "company_names[0:10]"
   ]
  },
  {
   "cell_type": "markdown",
   "metadata": {},
   "source": [
    "## Extracting experience"
   ]
  },
  {
   "cell_type": "code",
   "execution_count": 57,
   "metadata": {},
   "outputs": [
    {
     "data": {
      "text/plain": [
       "20"
      ]
     },
     "execution_count": 57,
     "metadata": {},
     "output_type": "execute_result"
    }
   ],
   "source": [
    "# let's extract all web elements having experience using parent tag\n",
    "exp_tags = driver.find_elements_by_xpath('//li[@class=\"fleft grey-text br2 placeHolderLi experience\"]')\n",
    "len(exp_tags)"
   ]
  },
  {
   "cell_type": "code",
   "execution_count": 58,
   "metadata": {},
   "outputs": [
    {
     "data": {
      "text/plain": [
       "['2-6 Yrs',\n",
       " '6-11 Yrs',\n",
       " '4-9 Yrs',\n",
       " '1-3 Yrs',\n",
       " '1-3 Yrs',\n",
       " '5-8 Yrs',\n",
       " '6-11 Yrs',\n",
       " '5-10 Yrs',\n",
       " '7-12 Yrs',\n",
       " '3-7 Yrs']"
      ]
     },
     "execution_count": 58,
     "metadata": {},
     "output_type": "execute_result"
    }
   ],
   "source": [
    "experience = []\n",
    "\n",
    "for i in exp_tags:\n",
    "    experience.append(i.text)\n",
    "len(experience)\n",
    "experience[0:10]"
   ]
  },
  {
   "cell_type": "markdown",
   "metadata": {},
   "source": [
    "## Extracting location"
   ]
  },
  {
   "cell_type": "code",
   "execution_count": 59,
   "metadata": {},
   "outputs": [
    {
     "data": {
      "text/plain": [
       "20"
      ]
     },
     "execution_count": 59,
     "metadata": {},
     "output_type": "execute_result"
    }
   ],
   "source": [
    "locn_tags = driver.find_elements_by_xpath('//li[@class=\"fleft grey-text br2 placeHolderLi location\"]')\n",
    "len(locn_tags )"
   ]
  },
  {
   "cell_type": "code",
   "execution_count": 60,
   "metadata": {},
   "outputs": [
    {
     "data": {
      "text/plain": [
       "['Kolkata, Hyderabad/Secunderabad, Pune, Ahmedabad, Chennai, Bangalore/Bengaluru, Delhi / NCR, Mumbai (All Areas)\\n(WFH during Covid)',\n",
       " 'Kolkata, Mumbai, Visakhapatnam, Hyderabad/Secunderabad, Pune, Chennai, Ahmedabad, Delhi / NCR, Bangalore/Bengaluru\\n(WFH during Covid)',\n",
       " 'Bangalore/Bengaluru, Delhi / NCR, Mumbai (All Areas)\\n(WFH during Covid)',\n",
       " 'Noida, Hyderabad/Secunderabad, Pune, Gurgaon/Gurugram, Bangalore/Bengaluru, Delhi / NCR\\n(WFH during Covid)',\n",
       " 'Noida, Hyderabad/Secunderabad, Pune, Gurgaon/Gurugram, Bangalore/Bengaluru, Delhi / NCR\\n(WFH during Covid)',\n",
       " 'Kolkata, Bangalore/Bengaluru, Delhi / NCR\\n(WFH during Covid)',\n",
       " 'Kolkata, Hyderabad/Secunderabad, Pune, Ahmedabad, Chennai, Bangalore/Bengaluru, Delhi / NCR, Mumbai (All Areas)\\n(WFH during Covid)',\n",
       " 'Kolkata, Hyderabad/Secunderabad, Pune, Ahmedabad, Chennai, Bangalore/Bengaluru, Delhi / NCR, Mumbai (All Areas)\\n(WFH during Covid)',\n",
       " 'Pune, Bangalore/Bengaluru, Delhi / NCR\\n(WFH during Covid)',\n",
       " 'Kolkata, Hyderabad/Secunderabad, Pune, Chennai, Bangalore/Bengaluru, Delhi / NCR, Mumbai (All Areas)\\n(WFH during Covid)']"
      ]
     },
     "execution_count": 60,
     "metadata": {},
     "output_type": "execute_result"
    }
   ],
   "source": [
    "location = []\n",
    "\n",
    "for i in locn_tags:\n",
    "    location.append(i.text)\n",
    "len(location)   \n",
    "location[0:10]"
   ]
  },
  {
   "cell_type": "code",
   "execution_count": 61,
   "metadata": {},
   "outputs": [
    {
     "data": {
      "text/plain": [
       "(20, 20, 20, 20)"
      ]
     },
     "execution_count": 61,
     "metadata": {},
     "output_type": "execute_result"
    }
   ],
   "source": [
    "len(job_titles),len(company_names), len(experience), len(location)"
   ]
  },
  {
   "cell_type": "code",
   "execution_count": 62,
   "metadata": {
    "scrolled": true
   },
   "outputs": [
    {
     "data": {
      "text/html": [
       "<div>\n",
       "<style scoped>\n",
       "    .dataframe tbody tr th:only-of-type {\n",
       "        vertical-align: middle;\n",
       "    }\n",
       "\n",
       "    .dataframe tbody tr th {\n",
       "        vertical-align: top;\n",
       "    }\n",
       "\n",
       "    .dataframe thead th {\n",
       "        text-align: right;\n",
       "    }\n",
       "</style>\n",
       "<table border=\"1\" class=\"dataframe\">\n",
       "  <thead>\n",
       "    <tr style=\"text-align: right;\">\n",
       "      <th></th>\n",
       "      <th>job title</th>\n",
       "      <th>company</th>\n",
       "      <th>experience</th>\n",
       "      <th>location</th>\n",
       "    </tr>\n",
       "  </thead>\n",
       "  <tbody>\n",
       "    <tr>\n",
       "      <th>0</th>\n",
       "      <td>Openings For Jr/mid/Sr level data Scientists</td>\n",
       "      <td>Pluto seven business solutions (p) limited</td>\n",
       "      <td>2-6 Yrs</td>\n",
       "      <td>Kolkata, Hyderabad/Secunderabad, Pune, Ahmedab...</td>\n",
       "    </tr>\n",
       "    <tr>\n",
       "      <th>1</th>\n",
       "      <td>ML Engineer/Data Scientist</td>\n",
       "      <td>Rapid Talent Solutions</td>\n",
       "      <td>6-11 Yrs</td>\n",
       "      <td>Kolkata, Mumbai, Visakhapatnam, Hyderabad/Secu...</td>\n",
       "    </tr>\n",
       "    <tr>\n",
       "      <th>2</th>\n",
       "      <td>Lead Data Scientist</td>\n",
       "      <td>TransOrg Solutions Services (P) Ltd.</td>\n",
       "      <td>4-9 Yrs</td>\n",
       "      <td>Bangalore/Bengaluru, Delhi / NCR, Mumbai (All ...</td>\n",
       "    </tr>\n",
       "    <tr>\n",
       "      <th>3</th>\n",
       "      <td>Data Scientist role</td>\n",
       "      <td>Mount Talent Consulting Private Limited</td>\n",
       "      <td>1-3 Yrs</td>\n",
       "      <td>Noida, Hyderabad/Secunderabad, Pune, Gurgaon/G...</td>\n",
       "    </tr>\n",
       "    <tr>\n",
       "      <th>4</th>\n",
       "      <td>Data Scientist role</td>\n",
       "      <td>Mount Talent Consulting Private Limited</td>\n",
       "      <td>1-3 Yrs</td>\n",
       "      <td>Noida, Hyderabad/Secunderabad, Pune, Gurgaon/G...</td>\n",
       "    </tr>\n",
       "    <tr>\n",
       "      <th>5</th>\n",
       "      <td>Data Scientist</td>\n",
       "      <td>Mapps IT Services Pvt Ltd.</td>\n",
       "      <td>5-8 Yrs</td>\n",
       "      <td>Kolkata, Bangalore/Bengaluru, Delhi / NCR\\n(WF...</td>\n",
       "    </tr>\n",
       "    <tr>\n",
       "      <th>6</th>\n",
       "      <td>We are hiring Data Scientist professionals For...</td>\n",
       "      <td>Infinics Global Solutions Pvt Ltd</td>\n",
       "      <td>6-11 Yrs</td>\n",
       "      <td>Kolkata, Hyderabad/Secunderabad, Pune, Ahmedab...</td>\n",
       "    </tr>\n",
       "    <tr>\n",
       "      <th>7</th>\n",
       "      <td>Senior Data Analyst</td>\n",
       "      <td>SYREN TECHNOLOGIES PRIVATE LIMITED</td>\n",
       "      <td>5-10 Yrs</td>\n",
       "      <td>Kolkata, Hyderabad/Secunderabad, Pune, Ahmedab...</td>\n",
       "    </tr>\n",
       "    <tr>\n",
       "      <th>8</th>\n",
       "      <td>Job Opportunity || Lead Data Engineer || Infogain</td>\n",
       "      <td>Infogain</td>\n",
       "      <td>7-12 Yrs</td>\n",
       "      <td>Pune, Bangalore/Bengaluru, Delhi / NCR\\n(WFH d...</td>\n",
       "    </tr>\n",
       "    <tr>\n",
       "      <th>9</th>\n",
       "      <td>Azure Data Engineer</td>\n",
       "      <td>Wipro</td>\n",
       "      <td>3-7 Yrs</td>\n",
       "      <td>Kolkata, Hyderabad/Secunderabad, Pune, Chennai...</td>\n",
       "    </tr>\n",
       "  </tbody>\n",
       "</table>\n",
       "</div>"
      ],
      "text/plain": [
       "                                           job title  \\\n",
       "0       Openings For Jr/mid/Sr level data Scientists   \n",
       "1                         ML Engineer/Data Scientist   \n",
       "2                                Lead Data Scientist   \n",
       "3                                Data Scientist role   \n",
       "4                                Data Scientist role   \n",
       "5                                     Data Scientist   \n",
       "6  We are hiring Data Scientist professionals For...   \n",
       "7                                Senior Data Analyst   \n",
       "8  Job Opportunity || Lead Data Engineer || Infogain   \n",
       "9                                Azure Data Engineer   \n",
       "\n",
       "                                      company experience  \\\n",
       "0  Pluto seven business solutions (p) limited    2-6 Yrs   \n",
       "1                      Rapid Talent Solutions   6-11 Yrs   \n",
       "2        TransOrg Solutions Services (P) Ltd.    4-9 Yrs   \n",
       "3     Mount Talent Consulting Private Limited    1-3 Yrs   \n",
       "4     Mount Talent Consulting Private Limited    1-3 Yrs   \n",
       "5                  Mapps IT Services Pvt Ltd.    5-8 Yrs   \n",
       "6           Infinics Global Solutions Pvt Ltd   6-11 Yrs   \n",
       "7          SYREN TECHNOLOGIES PRIVATE LIMITED   5-10 Yrs   \n",
       "8                                    Infogain   7-12 Yrs   \n",
       "9                                       Wipro    3-7 Yrs   \n",
       "\n",
       "                                            location  \n",
       "0  Kolkata, Hyderabad/Secunderabad, Pune, Ahmedab...  \n",
       "1  Kolkata, Mumbai, Visakhapatnam, Hyderabad/Secu...  \n",
       "2  Bangalore/Bengaluru, Delhi / NCR, Mumbai (All ...  \n",
       "3  Noida, Hyderabad/Secunderabad, Pune, Gurgaon/G...  \n",
       "4  Noida, Hyderabad/Secunderabad, Pune, Gurgaon/G...  \n",
       "5  Kolkata, Bangalore/Bengaluru, Delhi / NCR\\n(WF...  \n",
       "6  Kolkata, Hyderabad/Secunderabad, Pune, Ahmedab...  \n",
       "7  Kolkata, Hyderabad/Secunderabad, Pune, Ahmedab...  \n",
       "8  Pune, Bangalore/Bengaluru, Delhi / NCR\\n(WFH d...  \n",
       "9  Kolkata, Hyderabad/Secunderabad, Pune, Chennai...  "
      ]
     },
     "execution_count": 62,
     "metadata": {},
     "output_type": "execute_result"
    }
   ],
   "source": [
    "jobs = pd.DataFrame()\n",
    "jobs['job title'] = job_titles[0:10]\n",
    "jobs['company'] = company_names[0:10]\n",
    "jobs['experience'] = experience[0:10]\n",
    "jobs['location']  =  location[0:10]\n",
    "jobs"
   ]
  },
  {
   "cell_type": "markdown",
   "metadata": {},
   "source": [
    "## Q4: Scrape data of first 100 sunglasses listings on flipkart.com. You have to scrape four attributes:\n",
    "1. Brand\n",
    "2. Product Description\n",
    "3. Price\n"
   ]
  },
  {
   "cell_type": "code",
   "execution_count": 100,
   "metadata": {},
   "outputs": [],
   "source": [
    "url = 'https://www.flipkart.com/' \n",
    "driver.get(url)    "
   ]
  },
  {
   "cell_type": "code",
   "execution_count": 101,
   "metadata": {},
   "outputs": [
    {
     "data": {
      "text/plain": [
       "<selenium.webdriver.remote.webelement.WebElement (session=\"4d73f65a650de05c8abbbd38d5be86c8\", element=\"fb6e4f4e-f085-4c3a-ad10-928295fc5a61\")>"
      ]
     },
     "execution_count": 101,
     "metadata": {},
     "output_type": "execute_result"
    }
   ],
   "source": [
    "search_itom = driver.find_element_by_xpath('/html/body/div[1]/div/div[1]/div[1]/div[2]/div[2]/form/div/div/input')\n",
    "search_itom"
   ]
  },
  {
   "cell_type": "code",
   "execution_count": 102,
   "metadata": {},
   "outputs": [],
   "source": [
    "search_itom.send_keys(\"sunglasses\")"
   ]
  },
  {
   "cell_type": "code",
   "execution_count": 103,
   "metadata": {},
   "outputs": [
    {
     "data": {
      "text/plain": [
       "<selenium.webdriver.remote.webelement.WebElement (session=\"4d73f65a650de05c8abbbd38d5be86c8\", element=\"0df8b3e4-e5f0-463c-a711-7cec97305129\")>"
      ]
     },
     "execution_count": 103,
     "metadata": {},
     "output_type": "execute_result"
    }
   ],
   "source": [
    "search_btn = driver.find_element_by_xpath('/html/body/div/div/div[1]/div[1]/div[2]/div[2]/form/div/button')\n",
    "search_btn"
   ]
  },
  {
   "cell_type": "code",
   "execution_count": 104,
   "metadata": {},
   "outputs": [],
   "source": [
    "search_btn.click()"
   ]
  },
  {
   "cell_type": "markdown",
   "metadata": {},
   "source": [
    "## Extracting brands"
   ]
  },
  {
   "cell_type": "code",
   "execution_count": 105,
   "metadata": {},
   "outputs": [
    {
     "data": {
      "text/plain": [
       "[<selenium.webdriver.remote.webelement.WebElement (session=\"4d73f65a650de05c8abbbd38d5be86c8\", element=\"d50ecc19-0e90-4173-9527-9057b5f48e24\")>,\n",
       " <selenium.webdriver.remote.webelement.WebElement (session=\"4d73f65a650de05c8abbbd38d5be86c8\", element=\"3a779d77-b0d5-444c-837e-7d486237bfe1\")>,\n",
       " <selenium.webdriver.remote.webelement.WebElement (session=\"4d73f65a650de05c8abbbd38d5be86c8\", element=\"06fa463b-1464-4379-babc-3f7bd3656988\")>,\n",
       " <selenium.webdriver.remote.webelement.WebElement (session=\"4d73f65a650de05c8abbbd38d5be86c8\", element=\"1f3e503b-2bb2-4b2e-9e46-b318943b501a\")>,\n",
       " <selenium.webdriver.remote.webelement.WebElement (session=\"4d73f65a650de05c8abbbd38d5be86c8\", element=\"a01b2d2d-b34c-4674-9ab9-b505146e60ee\")>,\n",
       " <selenium.webdriver.remote.webelement.WebElement (session=\"4d73f65a650de05c8abbbd38d5be86c8\", element=\"bbb34ae8-2d25-45fc-8003-6dfadaa47dc8\")>,\n",
       " <selenium.webdriver.remote.webelement.WebElement (session=\"4d73f65a650de05c8abbbd38d5be86c8\", element=\"a96a73d7-6b39-4dd5-b7de-966507b4c0a4\")>,\n",
       " <selenium.webdriver.remote.webelement.WebElement (session=\"4d73f65a650de05c8abbbd38d5be86c8\", element=\"f8a573ec-9ea7-47be-8ac0-bec8742520cd\")>,\n",
       " <selenium.webdriver.remote.webelement.WebElement (session=\"4d73f65a650de05c8abbbd38d5be86c8\", element=\"53e75bbb-980b-4f0a-9f9a-6befc62d8d5e\")>,\n",
       " <selenium.webdriver.remote.webelement.WebElement (session=\"4d73f65a650de05c8abbbd38d5be86c8\", element=\"4ec70628-7c90-407b-9c98-7dbf65b6b2f8\")>,\n",
       " <selenium.webdriver.remote.webelement.WebElement (session=\"4d73f65a650de05c8abbbd38d5be86c8\", element=\"df10f52d-f866-4d71-9b20-8fa797fcf67a\")>,\n",
       " <selenium.webdriver.remote.webelement.WebElement (session=\"4d73f65a650de05c8abbbd38d5be86c8\", element=\"26f0a8bb-e550-45b8-a482-a3b09fc2da25\")>,\n",
       " <selenium.webdriver.remote.webelement.WebElement (session=\"4d73f65a650de05c8abbbd38d5be86c8\", element=\"44f029a9-1bc6-4dc3-9349-29e94cc43f3b\")>,\n",
       " <selenium.webdriver.remote.webelement.WebElement (session=\"4d73f65a650de05c8abbbd38d5be86c8\", element=\"bc09f32f-5e52-4311-ad17-41418efa2661\")>,\n",
       " <selenium.webdriver.remote.webelement.WebElement (session=\"4d73f65a650de05c8abbbd38d5be86c8\", element=\"fa2ca4af-d076-4981-8d66-bb281f848f82\")>,\n",
       " <selenium.webdriver.remote.webelement.WebElement (session=\"4d73f65a650de05c8abbbd38d5be86c8\", element=\"39dec204-4bd5-4966-b535-9ed14919bee7\")>,\n",
       " <selenium.webdriver.remote.webelement.WebElement (session=\"4d73f65a650de05c8abbbd38d5be86c8\", element=\"f7c3c98b-269f-4610-8343-ddb012291dc9\")>,\n",
       " <selenium.webdriver.remote.webelement.WebElement (session=\"4d73f65a650de05c8abbbd38d5be86c8\", element=\"3bcc4b0d-1ef3-4381-9fd6-09ee0c40cf62\")>,\n",
       " <selenium.webdriver.remote.webelement.WebElement (session=\"4d73f65a650de05c8abbbd38d5be86c8\", element=\"7a8c3379-6b85-477f-8a58-12afb3632e8d\")>,\n",
       " <selenium.webdriver.remote.webelement.WebElement (session=\"4d73f65a650de05c8abbbd38d5be86c8\", element=\"059acf66-fb78-4ae0-99c2-7767cb5e261a\")>,\n",
       " <selenium.webdriver.remote.webelement.WebElement (session=\"4d73f65a650de05c8abbbd38d5be86c8\", element=\"ba51dd07-145a-45dc-b91c-82b6bb79601b\")>,\n",
       " <selenium.webdriver.remote.webelement.WebElement (session=\"4d73f65a650de05c8abbbd38d5be86c8\", element=\"46b1947a-940a-40a9-a1b3-56892c2bb1bf\")>,\n",
       " <selenium.webdriver.remote.webelement.WebElement (session=\"4d73f65a650de05c8abbbd38d5be86c8\", element=\"6801851d-f532-4a56-bc8f-b941fc36080e\")>,\n",
       " <selenium.webdriver.remote.webelement.WebElement (session=\"4d73f65a650de05c8abbbd38d5be86c8\", element=\"9d073826-1749-4867-8ee3-8befe0c18057\")>,\n",
       " <selenium.webdriver.remote.webelement.WebElement (session=\"4d73f65a650de05c8abbbd38d5be86c8\", element=\"1771a358-7544-493c-830e-bb5e89446e30\")>,\n",
       " <selenium.webdriver.remote.webelement.WebElement (session=\"4d73f65a650de05c8abbbd38d5be86c8\", element=\"d43ff2ef-8586-4034-b186-b35e614ec09f\")>,\n",
       " <selenium.webdriver.remote.webelement.WebElement (session=\"4d73f65a650de05c8abbbd38d5be86c8\", element=\"2ba354bf-dc4c-4090-bcc8-9d5410acb7a9\")>,\n",
       " <selenium.webdriver.remote.webelement.WebElement (session=\"4d73f65a650de05c8abbbd38d5be86c8\", element=\"fad87c10-0d91-4308-ba3f-1ac3d62527a7\")>,\n",
       " <selenium.webdriver.remote.webelement.WebElement (session=\"4d73f65a650de05c8abbbd38d5be86c8\", element=\"14804517-827b-4e2d-bf1c-ada84682a6c7\")>,\n",
       " <selenium.webdriver.remote.webelement.WebElement (session=\"4d73f65a650de05c8abbbd38d5be86c8\", element=\"abecfc17-daee-46c0-b000-6b72c28ace76\")>,\n",
       " <selenium.webdriver.remote.webelement.WebElement (session=\"4d73f65a650de05c8abbbd38d5be86c8\", element=\"f39956b6-cba0-4598-8cc5-07ef883d5506\")>,\n",
       " <selenium.webdriver.remote.webelement.WebElement (session=\"4d73f65a650de05c8abbbd38d5be86c8\", element=\"f5afd7c9-42bd-4e62-86f0-92fa4d1bc48c\")>,\n",
       " <selenium.webdriver.remote.webelement.WebElement (session=\"4d73f65a650de05c8abbbd38d5be86c8\", element=\"678328b7-12d6-4937-9b13-02d914037ade\")>,\n",
       " <selenium.webdriver.remote.webelement.WebElement (session=\"4d73f65a650de05c8abbbd38d5be86c8\", element=\"22b3f9f3-aa3a-4e5d-bbae-6f0aa2b5cb49\")>,\n",
       " <selenium.webdriver.remote.webelement.WebElement (session=\"4d73f65a650de05c8abbbd38d5be86c8\", element=\"95744411-630f-4b61-a7f3-689f4e8b5eee\")>,\n",
       " <selenium.webdriver.remote.webelement.WebElement (session=\"4d73f65a650de05c8abbbd38d5be86c8\", element=\"137785d6-a27e-4e06-912b-ae8bff5dfec9\")>,\n",
       " <selenium.webdriver.remote.webelement.WebElement (session=\"4d73f65a650de05c8abbbd38d5be86c8\", element=\"ce195e9b-66d6-4703-90d8-ec3eb586a992\")>,\n",
       " <selenium.webdriver.remote.webelement.WebElement (session=\"4d73f65a650de05c8abbbd38d5be86c8\", element=\"9720cfea-f5c8-4d2f-92e1-c1d0177e4e30\")>,\n",
       " <selenium.webdriver.remote.webelement.WebElement (session=\"4d73f65a650de05c8abbbd38d5be86c8\", element=\"e8e7d20f-e98b-4934-8116-f38a7751a71e\")>,\n",
       " <selenium.webdriver.remote.webelement.WebElement (session=\"4d73f65a650de05c8abbbd38d5be86c8\", element=\"5df8a3b9-9c9f-4e61-a6de-6687accd4342\")>]"
      ]
     },
     "execution_count": 105,
     "metadata": {},
     "output_type": "execute_result"
    }
   ],
   "source": [
    "brands = driver.find_elements_by_xpath('//div[@class=\"_2WkVRV\"]')\n",
    "brands"
   ]
  },
  {
   "cell_type": "code",
   "execution_count": 106,
   "metadata": {},
   "outputs": [
    {
     "data": {
      "text/plain": [
       "['VINCENT CHASE',\n",
       " 'VINCENT CHASE',\n",
       " 'SRPM',\n",
       " 'Fastrack',\n",
       " 'SHAAH COLLECTIONS',\n",
       " 'Elligator',\n",
       " 'PIRASO',\n",
       " 'ROZZETTA CRAFT',\n",
       " 'Fastrack',\n",
       " 'New Specs',\n",
       " 'kingsunglasses',\n",
       " 'VINCENT CHASE',\n",
       " 'PIRASO',\n",
       " 'kingsunglasses',\n",
       " 'SUNBEE',\n",
       " 'AISLIN',\n",
       " 'ROZZETTA CRAFT',\n",
       " 'PIRASO',\n",
       " 'New Specs',\n",
       " 'VINCENT CHASE',\n",
       " 'PHENOMENAL',\n",
       " 'SHAAH COLLECTIONS',\n",
       " 'PHENOMENAL',\n",
       " 'VINCENT CHASE',\n",
       " 'ROZZETTA CRAFT',\n",
       " 'ROYAL SON',\n",
       " 'Rich Club',\n",
       " 'NuVew',\n",
       " 'Fastrack',\n",
       " 'PIRASO',\n",
       " 'PIRASO',\n",
       " 'VILLAIN',\n",
       " 'kingsunglasses',\n",
       " 'Johaena',\n",
       " 'Elligator',\n",
       " 'VINCENT CHASE',\n",
       " 'Fastrack',\n",
       " 'ROYAL SON',\n",
       " 'Rich Club',\n",
       " 'AISLIN']"
      ]
     },
     "execution_count": 106,
     "metadata": {},
     "output_type": "execute_result"
    }
   ],
   "source": [
    "brand_names =[]\n",
    "\n",
    "for i in brands:\n",
    "    brand_names.append(i.text)\n",
    "len(brand_names) \n",
    "brand_names"
   ]
  },
  {
   "cell_type": "markdown",
   "metadata": {},
   "source": [
    "## Extracting Product Description"
   ]
  },
  {
   "cell_type": "code",
   "execution_count": 107,
   "metadata": {},
   "outputs": [
    {
     "data": {
      "text/plain": [
       "[<selenium.webdriver.remote.webelement.WebElement (session=\"4d73f65a650de05c8abbbd38d5be86c8\", element=\"89cdf348-47f5-4daa-8e9e-a4cd78443f59\")>,\n",
       " <selenium.webdriver.remote.webelement.WebElement (session=\"4d73f65a650de05c8abbbd38d5be86c8\", element=\"40f8bed6-202c-46ef-b064-1b8f188b836e\")>,\n",
       " <selenium.webdriver.remote.webelement.WebElement (session=\"4d73f65a650de05c8abbbd38d5be86c8\", element=\"c875b202-9a49-43d6-9bfd-22d39ce2f82a\")>,\n",
       " <selenium.webdriver.remote.webelement.WebElement (session=\"4d73f65a650de05c8abbbd38d5be86c8\", element=\"eb4664c4-928c-46a2-9462-743584c4af40\")>,\n",
       " <selenium.webdriver.remote.webelement.WebElement (session=\"4d73f65a650de05c8abbbd38d5be86c8\", element=\"c2a0dc96-7c01-455d-8061-e2ff1e030484\")>,\n",
       " <selenium.webdriver.remote.webelement.WebElement (session=\"4d73f65a650de05c8abbbd38d5be86c8\", element=\"19081a4a-a953-4426-a95b-7f5574bfd0eb\")>,\n",
       " <selenium.webdriver.remote.webelement.WebElement (session=\"4d73f65a650de05c8abbbd38d5be86c8\", element=\"6b57aa09-3468-414f-a94d-4641c4d6f40c\")>,\n",
       " <selenium.webdriver.remote.webelement.WebElement (session=\"4d73f65a650de05c8abbbd38d5be86c8\", element=\"de6ce1a2-c39b-428f-8c71-036f7ef8bd20\")>,\n",
       " <selenium.webdriver.remote.webelement.WebElement (session=\"4d73f65a650de05c8abbbd38d5be86c8\", element=\"cd43db70-6538-4d3a-b792-2786e345a87c\")>,\n",
       " <selenium.webdriver.remote.webelement.WebElement (session=\"4d73f65a650de05c8abbbd38d5be86c8\", element=\"058531dc-9797-41c0-bbc1-bfa416617096\")>,\n",
       " <selenium.webdriver.remote.webelement.WebElement (session=\"4d73f65a650de05c8abbbd38d5be86c8\", element=\"95ad4188-29b8-437c-990d-23fc94c9aca1\")>,\n",
       " <selenium.webdriver.remote.webelement.WebElement (session=\"4d73f65a650de05c8abbbd38d5be86c8\", element=\"112b4cdf-a78f-4816-bc10-a7bc58a6d1a4\")>,\n",
       " <selenium.webdriver.remote.webelement.WebElement (session=\"4d73f65a650de05c8abbbd38d5be86c8\", element=\"32486e39-3f8c-4c20-98c8-19fc4e40b96d\")>,\n",
       " <selenium.webdriver.remote.webelement.WebElement (session=\"4d73f65a650de05c8abbbd38d5be86c8\", element=\"02f11b40-312b-43bf-a9ec-cc55b82204d3\")>,\n",
       " <selenium.webdriver.remote.webelement.WebElement (session=\"4d73f65a650de05c8abbbd38d5be86c8\", element=\"00662a33-5979-4122-98b4-f4207c0a26a8\")>,\n",
       " <selenium.webdriver.remote.webelement.WebElement (session=\"4d73f65a650de05c8abbbd38d5be86c8\", element=\"45615cbd-cc02-40c3-8321-26e2bfd79c07\")>,\n",
       " <selenium.webdriver.remote.webelement.WebElement (session=\"4d73f65a650de05c8abbbd38d5be86c8\", element=\"cd2c2025-4d28-4eac-a1a1-15d9a01f3ec9\")>,\n",
       " <selenium.webdriver.remote.webelement.WebElement (session=\"4d73f65a650de05c8abbbd38d5be86c8\", element=\"9542166e-d328-43ec-a3a3-5a02939da759\")>,\n",
       " <selenium.webdriver.remote.webelement.WebElement (session=\"4d73f65a650de05c8abbbd38d5be86c8\", element=\"34b36ddc-1d8b-4e42-9e3d-f8140f602d96\")>,\n",
       " <selenium.webdriver.remote.webelement.WebElement (session=\"4d73f65a650de05c8abbbd38d5be86c8\", element=\"996ce2ab-e201-46b0-82e2-e9ca3f28f8b8\")>,\n",
       " <selenium.webdriver.remote.webelement.WebElement (session=\"4d73f65a650de05c8abbbd38d5be86c8\", element=\"09db6c6f-bf67-4579-a737-a587ea6f6a4c\")>,\n",
       " <selenium.webdriver.remote.webelement.WebElement (session=\"4d73f65a650de05c8abbbd38d5be86c8\", element=\"ea435919-fda9-4410-b27c-5b48e8c2e303\")>,\n",
       " <selenium.webdriver.remote.webelement.WebElement (session=\"4d73f65a650de05c8abbbd38d5be86c8\", element=\"2ae84227-c421-4d91-abae-23ccdb2018bf\")>,\n",
       " <selenium.webdriver.remote.webelement.WebElement (session=\"4d73f65a650de05c8abbbd38d5be86c8\", element=\"51fb9061-1866-4b63-9323-c5eea4d21725\")>,\n",
       " <selenium.webdriver.remote.webelement.WebElement (session=\"4d73f65a650de05c8abbbd38d5be86c8\", element=\"d2d5162a-2bfc-4667-87ee-24e9d68a1cec\")>,\n",
       " <selenium.webdriver.remote.webelement.WebElement (session=\"4d73f65a650de05c8abbbd38d5be86c8\", element=\"5c8071a6-8205-43db-8ef2-bf74b0f99929\")>,\n",
       " <selenium.webdriver.remote.webelement.WebElement (session=\"4d73f65a650de05c8abbbd38d5be86c8\", element=\"3c56d827-305c-4799-a2c4-1ffdc383be96\")>,\n",
       " <selenium.webdriver.remote.webelement.WebElement (session=\"4d73f65a650de05c8abbbd38d5be86c8\", element=\"c1fa311e-3bff-40de-9c3f-3fe3c4d19030\")>,\n",
       " <selenium.webdriver.remote.webelement.WebElement (session=\"4d73f65a650de05c8abbbd38d5be86c8\", element=\"2c174c77-de46-4be3-9f90-71edd2e1adab\")>,\n",
       " <selenium.webdriver.remote.webelement.WebElement (session=\"4d73f65a650de05c8abbbd38d5be86c8\", element=\"37b72df2-5bb2-4b88-a15a-0b99863803a8\")>,\n",
       " <selenium.webdriver.remote.webelement.WebElement (session=\"4d73f65a650de05c8abbbd38d5be86c8\", element=\"f814fec4-c13e-472b-bf16-ccbf66423574\")>,\n",
       " <selenium.webdriver.remote.webelement.WebElement (session=\"4d73f65a650de05c8abbbd38d5be86c8\", element=\"3f2f4bd0-4fc3-4ff3-8fc2-a88853b59bd0\")>,\n",
       " <selenium.webdriver.remote.webelement.WebElement (session=\"4d73f65a650de05c8abbbd38d5be86c8\", element=\"2286b625-c6a6-438e-a137-72ff0b08ac08\")>,\n",
       " <selenium.webdriver.remote.webelement.WebElement (session=\"4d73f65a650de05c8abbbd38d5be86c8\", element=\"d12610d3-1e6a-417e-a62b-557dd149b2fd\")>,\n",
       " <selenium.webdriver.remote.webelement.WebElement (session=\"4d73f65a650de05c8abbbd38d5be86c8\", element=\"adb377e3-d065-4e5e-b75f-39620182cd20\")>,\n",
       " <selenium.webdriver.remote.webelement.WebElement (session=\"4d73f65a650de05c8abbbd38d5be86c8\", element=\"4d1149d8-397c-4bb9-8dba-a25f93ffcbd3\")>,\n",
       " <selenium.webdriver.remote.webelement.WebElement (session=\"4d73f65a650de05c8abbbd38d5be86c8\", element=\"fb98a3c9-f03c-45b3-b0c6-33aa57f4b6e7\")>,\n",
       " <selenium.webdriver.remote.webelement.WebElement (session=\"4d73f65a650de05c8abbbd38d5be86c8\", element=\"0314f689-103e-4b0d-9e75-2c99a1d017a6\")>,\n",
       " <selenium.webdriver.remote.webelement.WebElement (session=\"4d73f65a650de05c8abbbd38d5be86c8\", element=\"069a8ad3-58bb-483a-9558-526b5634dc5f\")>,\n",
       " <selenium.webdriver.remote.webelement.WebElement (session=\"4d73f65a650de05c8abbbd38d5be86c8\", element=\"1f504232-e443-4875-aedc-0a78718aad56\")>]"
      ]
     },
     "execution_count": 107,
     "metadata": {},
     "output_type": "execute_result"
    }
   ],
   "source": [
    "Product_Description = driver.find_elements_by_xpath('//a[@class=\"IRpwTa\"]')\n",
    "Product_Description"
   ]
  },
  {
   "cell_type": "code",
   "execution_count": 108,
   "metadata": {},
   "outputs": [
    {
     "data": {
      "text/plain": [
       "['by Lenskart UV Protection Aviator Sunglasses (53)',\n",
       " 'by Lenskart UV Protection Aviator Sunglasses (Free Size...',\n",
       " 'UV Protection Wayfarer Sunglasses (56)',\n",
       " 'UV Protection Wayfarer Sunglasses (Free Size)',\n",
       " 'UV Protection, Polarized, Mirrored Rectangular Sunglass...',\n",
       " 'UV Protection Round Sunglasses (54)',\n",
       " 'UV Protection Aviator Sunglasses (54)',\n",
       " 'UV Protection, Gradient Retro Square Sunglasses (Free S...',\n",
       " 'Gradient, UV Protection Wayfarer Sunglasses (Free Size)',\n",
       " 'UV Protection Rectangular Sunglasses (Free Size)',\n",
       " 'UV Protection Round Sunglasses (54)',\n",
       " 'by Lenskart Polarized, UV Protection Aviator Sunglasses...',\n",
       " 'UV Protection Aviator Sunglasses (54)',\n",
       " 'Mirrored, UV Protection Wayfarer Sunglasses (53)',\n",
       " 'UV Protection, Polarized, Mirrored Round Sunglasses (Fr...',\n",
       " 'Toughened Glass Lens, UV Protection Aviator, Wrap-aroun...',\n",
       " 'UV Protection, Gradient Rectangular Sunglasses (Free Si...',\n",
       " 'UV Protection Wayfarer Sunglasses (32)',\n",
       " 'Mirrored, UV Protection, Riding Glasses, Others Round S...',\n",
       " 'by Lenskart Polarized, UV Protection Aviator Sunglasses...',\n",
       " 'UV Protection Retro Square Sunglasses (Free Size)',\n",
       " 'UV Protection, Polarized, Mirrored Rectangular Sunglass...',\n",
       " 'UV Protection, Mirrored Retro Square Sunglasses (53)',\n",
       " 'by Lenskart Polarized, UV Protection Wayfarer Sunglasse...',\n",
       " 'UV Protection Retro Square Sunglasses (Free Size)',\n",
       " 'Mirrored Aviator Sunglasses (55)',\n",
       " 'Polarized Round Sunglasses (48)',\n",
       " 'UV Protection Aviator Sunglasses (57)',\n",
       " 'UV Protection Aviator Sunglasses (Free Size)',\n",
       " 'UV Protection Aviator Sunglasses (58)',\n",
       " 'UV Protection Aviator Sunglasses (54)',\n",
       " 'Others Wayfarer Sunglasses (Free Size)',\n",
       " 'UV Protection, Riding Glasses, Mirrored Wayfarer Sungla...',\n",
       " 'Riding Glasses, UV Protection Oval Sunglasses (48)',\n",
       " 'UV Protection Round Sunglasses (53)',\n",
       " 'by Lenskart UV Protection Aviator Sunglasses (53)',\n",
       " 'UV Protection Shield Sunglasses (Free Size)',\n",
       " 'UV Protection Rectangular Sunglasses (58)',\n",
       " 'UV Protection Round Sunglasses (50)',\n",
       " 'UV Protection, Mirrored Wayfarer, Rectangular Sunglasse...']"
      ]
     },
     "execution_count": 108,
     "metadata": {},
     "output_type": "execute_result"
    }
   ],
   "source": [
    "description =[]\n",
    "\n",
    "for i in Product_Description:\n",
    "    description.append(i.text)\n",
    "len(description) \n",
    "description"
   ]
  },
  {
   "cell_type": "markdown",
   "metadata": {},
   "source": [
    "## Extracting price"
   ]
  },
  {
   "cell_type": "code",
   "execution_count": 109,
   "metadata": {},
   "outputs": [
    {
     "data": {
      "text/plain": [
       "[<selenium.webdriver.remote.webelement.WebElement (session=\"4d73f65a650de05c8abbbd38d5be86c8\", element=\"00eb1cd9-6fbe-4d98-9d0d-1523805ad2f6\")>,\n",
       " <selenium.webdriver.remote.webelement.WebElement (session=\"4d73f65a650de05c8abbbd38d5be86c8\", element=\"7266cf41-17fc-4b14-9a75-e92ece9c47db\")>,\n",
       " <selenium.webdriver.remote.webelement.WebElement (session=\"4d73f65a650de05c8abbbd38d5be86c8\", element=\"fe02f8f7-a7e6-41a5-821d-fd23f80fbbe5\")>,\n",
       " <selenium.webdriver.remote.webelement.WebElement (session=\"4d73f65a650de05c8abbbd38d5be86c8\", element=\"14e57ce8-de2f-48c4-931b-bb48315593ad\")>,\n",
       " <selenium.webdriver.remote.webelement.WebElement (session=\"4d73f65a650de05c8abbbd38d5be86c8\", element=\"d370a435-03cd-46bc-90aa-05824d199d5f\")>,\n",
       " <selenium.webdriver.remote.webelement.WebElement (session=\"4d73f65a650de05c8abbbd38d5be86c8\", element=\"27642f87-6ff0-447b-81c6-21fc47ffe26c\")>,\n",
       " <selenium.webdriver.remote.webelement.WebElement (session=\"4d73f65a650de05c8abbbd38d5be86c8\", element=\"3972eae6-b22d-4314-b8e6-61ba2374ea76\")>,\n",
       " <selenium.webdriver.remote.webelement.WebElement (session=\"4d73f65a650de05c8abbbd38d5be86c8\", element=\"35eec160-d60b-4129-889c-1e0eed646f7b\")>,\n",
       " <selenium.webdriver.remote.webelement.WebElement (session=\"4d73f65a650de05c8abbbd38d5be86c8\", element=\"a87c2eb7-e4c5-44f1-8508-d2eee98b2c7e\")>,\n",
       " <selenium.webdriver.remote.webelement.WebElement (session=\"4d73f65a650de05c8abbbd38d5be86c8\", element=\"c4086c5d-eaf5-4305-a78b-531405e43990\")>,\n",
       " <selenium.webdriver.remote.webelement.WebElement (session=\"4d73f65a650de05c8abbbd38d5be86c8\", element=\"6af29657-68fd-498b-98b8-c7e8ac99a36c\")>,\n",
       " <selenium.webdriver.remote.webelement.WebElement (session=\"4d73f65a650de05c8abbbd38d5be86c8\", element=\"d3748914-17b0-48a7-919d-b597e91fa15b\")>,\n",
       " <selenium.webdriver.remote.webelement.WebElement (session=\"4d73f65a650de05c8abbbd38d5be86c8\", element=\"be85f63f-33a1-42ea-bc8c-76373862e8be\")>,\n",
       " <selenium.webdriver.remote.webelement.WebElement (session=\"4d73f65a650de05c8abbbd38d5be86c8\", element=\"5d291251-7b64-4684-b9e3-3c7276f4c923\")>,\n",
       " <selenium.webdriver.remote.webelement.WebElement (session=\"4d73f65a650de05c8abbbd38d5be86c8\", element=\"f96634c1-85b9-4c8e-b469-f58ddc059419\")>,\n",
       " <selenium.webdriver.remote.webelement.WebElement (session=\"4d73f65a650de05c8abbbd38d5be86c8\", element=\"5b5fba35-75d1-43c0-a25a-1939c22abdbb\")>,\n",
       " <selenium.webdriver.remote.webelement.WebElement (session=\"4d73f65a650de05c8abbbd38d5be86c8\", element=\"4f5cdc34-2973-4416-8e68-c613776a194f\")>,\n",
       " <selenium.webdriver.remote.webelement.WebElement (session=\"4d73f65a650de05c8abbbd38d5be86c8\", element=\"cf01a6ad-4eab-4643-b9d0-aca6383f7f5d\")>,\n",
       " <selenium.webdriver.remote.webelement.WebElement (session=\"4d73f65a650de05c8abbbd38d5be86c8\", element=\"3dafb90d-9c67-4958-afbc-963fd386415f\")>,\n",
       " <selenium.webdriver.remote.webelement.WebElement (session=\"4d73f65a650de05c8abbbd38d5be86c8\", element=\"c65c2e79-0570-4055-88bf-1be4f6e7044d\")>,\n",
       " <selenium.webdriver.remote.webelement.WebElement (session=\"4d73f65a650de05c8abbbd38d5be86c8\", element=\"22f76f5d-c703-45cf-b13c-3fada631184d\")>,\n",
       " <selenium.webdriver.remote.webelement.WebElement (session=\"4d73f65a650de05c8abbbd38d5be86c8\", element=\"f3642b74-1c25-40b4-8500-d39b9e743c93\")>,\n",
       " <selenium.webdriver.remote.webelement.WebElement (session=\"4d73f65a650de05c8abbbd38d5be86c8\", element=\"113d062d-f8c6-4aa8-8bad-82bdf25cb7a7\")>,\n",
       " <selenium.webdriver.remote.webelement.WebElement (session=\"4d73f65a650de05c8abbbd38d5be86c8\", element=\"777d2887-c410-4f75-8a8c-162fb76640a0\")>,\n",
       " <selenium.webdriver.remote.webelement.WebElement (session=\"4d73f65a650de05c8abbbd38d5be86c8\", element=\"9a04b68c-7234-42b3-9684-321e93e23403\")>,\n",
       " <selenium.webdriver.remote.webelement.WebElement (session=\"4d73f65a650de05c8abbbd38d5be86c8\", element=\"07d67755-0e2b-43d9-88c3-9616905c23a8\")>,\n",
       " <selenium.webdriver.remote.webelement.WebElement (session=\"4d73f65a650de05c8abbbd38d5be86c8\", element=\"7b2023f4-4c66-4480-91d2-34d2b71a0033\")>,\n",
       " <selenium.webdriver.remote.webelement.WebElement (session=\"4d73f65a650de05c8abbbd38d5be86c8\", element=\"e60d23e4-eac7-4252-ad90-78e59fee6f69\")>,\n",
       " <selenium.webdriver.remote.webelement.WebElement (session=\"4d73f65a650de05c8abbbd38d5be86c8\", element=\"d46c4417-f6c2-47d6-857a-400125a5c015\")>,\n",
       " <selenium.webdriver.remote.webelement.WebElement (session=\"4d73f65a650de05c8abbbd38d5be86c8\", element=\"21764f52-c0ad-47f9-b17d-3288a850a596\")>,\n",
       " <selenium.webdriver.remote.webelement.WebElement (session=\"4d73f65a650de05c8abbbd38d5be86c8\", element=\"1d7f0899-2a77-482a-9639-79056464d853\")>,\n",
       " <selenium.webdriver.remote.webelement.WebElement (session=\"4d73f65a650de05c8abbbd38d5be86c8\", element=\"f84c957f-779f-47fc-80fc-949a21d9706a\")>,\n",
       " <selenium.webdriver.remote.webelement.WebElement (session=\"4d73f65a650de05c8abbbd38d5be86c8\", element=\"971e05db-5695-42b5-8821-1ae619341eb2\")>,\n",
       " <selenium.webdriver.remote.webelement.WebElement (session=\"4d73f65a650de05c8abbbd38d5be86c8\", element=\"92578830-4ca1-4f19-9b9e-4a56db7848a5\")>,\n",
       " <selenium.webdriver.remote.webelement.WebElement (session=\"4d73f65a650de05c8abbbd38d5be86c8\", element=\"6cd47c1a-6fe5-47dd-aa5d-ef2372b038bb\")>,\n",
       " <selenium.webdriver.remote.webelement.WebElement (session=\"4d73f65a650de05c8abbbd38d5be86c8\", element=\"65a3bc6e-66c3-4dc5-967b-1a631ed1bf82\")>,\n",
       " <selenium.webdriver.remote.webelement.WebElement (session=\"4d73f65a650de05c8abbbd38d5be86c8\", element=\"14dfc071-5a53-4427-9b39-dccb1d3e1351\")>,\n",
       " <selenium.webdriver.remote.webelement.WebElement (session=\"4d73f65a650de05c8abbbd38d5be86c8\", element=\"666c7c27-aa4c-4cef-a488-d8e9f38d438b\")>,\n",
       " <selenium.webdriver.remote.webelement.WebElement (session=\"4d73f65a650de05c8abbbd38d5be86c8\", element=\"ee084be3-9657-48a2-9a2d-52e3bb8cd497\")>,\n",
       " <selenium.webdriver.remote.webelement.WebElement (session=\"4d73f65a650de05c8abbbd38d5be86c8\", element=\"3dff5c8e-fbb6-4d06-bad0-22ab810da378\")>]"
      ]
     },
     "execution_count": 109,
     "metadata": {},
     "output_type": "execute_result"
    }
   ],
   "source": [
    "price = driver.find_elements_by_xpath('//div[@class=\"_30jeq3\"]')\n",
    "price"
   ]
  },
  {
   "cell_type": "code",
   "execution_count": 110,
   "metadata": {},
   "outputs": [
    {
     "data": {
      "text/plain": [
       "['₹999',\n",
       " '₹999',\n",
       " '₹188',\n",
       " '₹759',\n",
       " '₹165',\n",
       " '₹248',\n",
       " '₹200',\n",
       " '₹426',\n",
       " '₹509',\n",
       " '₹259',\n",
       " '₹189',\n",
       " '₹999',\n",
       " '₹200',\n",
       " '₹274',\n",
       " '₹271',\n",
       " '₹1,145',\n",
       " '₹383',\n",
       " '₹190',\n",
       " '₹262',\n",
       " '₹999',\n",
       " '₹309',\n",
       " '₹181',\n",
       " '₹299',\n",
       " '₹999',\n",
       " '₹474',\n",
       " '₹359',\n",
       " '₹165',\n",
       " '₹325',\n",
       " '₹639',\n",
       " '₹299',\n",
       " '₹200',\n",
       " '₹522',\n",
       " '₹187',\n",
       " '₹156',\n",
       " '₹179',\n",
       " '₹999',\n",
       " '₹809',\n",
       " '₹449',\n",
       " '₹355',\n",
       " '₹1,045']"
      ]
     },
     "execution_count": 110,
     "metadata": {},
     "output_type": "execute_result"
    }
   ],
   "source": [
    "prices =[]\n",
    "\n",
    "for i in price:\n",
    "    prices.append(i.text)\n",
    "len(prices) \n",
    "prices"
   ]
  },
  {
   "cell_type": "code",
   "execution_count": 111,
   "metadata": {},
   "outputs": [],
   "source": [
    "# code to click on the next button for page 2\n",
    "search_btn1 = driver.find_element_by_xpath('/html/body/div/div/div[3]/div[1]/div[2]/div[12]/div/div/nav/a[11]')\n",
    "search_btn1.click()"
   ]
  },
  {
   "cell_type": "code",
   "execution_count": 112,
   "metadata": {},
   "outputs": [
    {
     "data": {
      "text/plain": [
       "[<selenium.webdriver.remote.webelement.WebElement (session=\"4d73f65a650de05c8abbbd38d5be86c8\", element=\"7b183e63-20c3-4818-88ee-c2bc840e8173\")>,\n",
       " <selenium.webdriver.remote.webelement.WebElement (session=\"4d73f65a650de05c8abbbd38d5be86c8\", element=\"ea5d004a-48e0-4c16-af71-b49156c48782\")>,\n",
       " <selenium.webdriver.remote.webelement.WebElement (session=\"4d73f65a650de05c8abbbd38d5be86c8\", element=\"764dabc9-4125-43ae-9400-aa54c59dd79c\")>,\n",
       " <selenium.webdriver.remote.webelement.WebElement (session=\"4d73f65a650de05c8abbbd38d5be86c8\", element=\"3a7af90b-b16e-4f57-af63-184d634dd19b\")>,\n",
       " <selenium.webdriver.remote.webelement.WebElement (session=\"4d73f65a650de05c8abbbd38d5be86c8\", element=\"03ae5a4a-3661-4630-9fb6-0a7d99749c71\")>,\n",
       " <selenium.webdriver.remote.webelement.WebElement (session=\"4d73f65a650de05c8abbbd38d5be86c8\", element=\"04a20747-5ad5-4b88-864e-77f79b8cdcbd\")>,\n",
       " <selenium.webdriver.remote.webelement.WebElement (session=\"4d73f65a650de05c8abbbd38d5be86c8\", element=\"48c4f142-999f-4bbc-bae5-b06b01af0444\")>,\n",
       " <selenium.webdriver.remote.webelement.WebElement (session=\"4d73f65a650de05c8abbbd38d5be86c8\", element=\"166ef39e-30b6-4019-a441-86d71f8fb5d8\")>,\n",
       " <selenium.webdriver.remote.webelement.WebElement (session=\"4d73f65a650de05c8abbbd38d5be86c8\", element=\"2dc39778-7af5-4e51-b81b-69914c9e056a\")>,\n",
       " <selenium.webdriver.remote.webelement.WebElement (session=\"4d73f65a650de05c8abbbd38d5be86c8\", element=\"61dfff56-bc12-43e8-9daf-f7e7182545c7\")>,\n",
       " <selenium.webdriver.remote.webelement.WebElement (session=\"4d73f65a650de05c8abbbd38d5be86c8\", element=\"758482ae-d120-4a2f-b68d-b4b5026df6a3\")>,\n",
       " <selenium.webdriver.remote.webelement.WebElement (session=\"4d73f65a650de05c8abbbd38d5be86c8\", element=\"a967a907-4b8d-48f6-b36a-de10b6804a4c\")>,\n",
       " <selenium.webdriver.remote.webelement.WebElement (session=\"4d73f65a650de05c8abbbd38d5be86c8\", element=\"9b4c0107-6087-46fc-a3a3-5112c37415ab\")>,\n",
       " <selenium.webdriver.remote.webelement.WebElement (session=\"4d73f65a650de05c8abbbd38d5be86c8\", element=\"62f43665-4ca6-4c2e-98f6-63ee60f57e8b\")>,\n",
       " <selenium.webdriver.remote.webelement.WebElement (session=\"4d73f65a650de05c8abbbd38d5be86c8\", element=\"1fe32de0-510a-4772-87ca-75c0a90e255a\")>,\n",
       " <selenium.webdriver.remote.webelement.WebElement (session=\"4d73f65a650de05c8abbbd38d5be86c8\", element=\"8000df55-9105-4d85-9bb0-4f77a8833c73\")>,\n",
       " <selenium.webdriver.remote.webelement.WebElement (session=\"4d73f65a650de05c8abbbd38d5be86c8\", element=\"7ac162c2-ff2b-45b7-8891-7d3f4a48e62b\")>,\n",
       " <selenium.webdriver.remote.webelement.WebElement (session=\"4d73f65a650de05c8abbbd38d5be86c8\", element=\"411d2fda-3187-46ae-bd5c-cee28603e5f9\")>,\n",
       " <selenium.webdriver.remote.webelement.WebElement (session=\"4d73f65a650de05c8abbbd38d5be86c8\", element=\"9b4fe5a9-3fab-4b23-9e38-0919608137f7\")>,\n",
       " <selenium.webdriver.remote.webelement.WebElement (session=\"4d73f65a650de05c8abbbd38d5be86c8\", element=\"c86774fb-f524-4818-b31c-5c64beeecc1c\")>,\n",
       " <selenium.webdriver.remote.webelement.WebElement (session=\"4d73f65a650de05c8abbbd38d5be86c8\", element=\"2ee29c92-4153-409d-bf2c-182dd4d4e294\")>,\n",
       " <selenium.webdriver.remote.webelement.WebElement (session=\"4d73f65a650de05c8abbbd38d5be86c8\", element=\"d53cf2be-206d-4974-ab4c-7ff4c2dd77e1\")>,\n",
       " <selenium.webdriver.remote.webelement.WebElement (session=\"4d73f65a650de05c8abbbd38d5be86c8\", element=\"2ff6f92c-dc61-4b01-828d-4fb207782806\")>,\n",
       " <selenium.webdriver.remote.webelement.WebElement (session=\"4d73f65a650de05c8abbbd38d5be86c8\", element=\"0d9c505f-e12e-4ca7-bc5d-3cfab6934e9a\")>,\n",
       " <selenium.webdriver.remote.webelement.WebElement (session=\"4d73f65a650de05c8abbbd38d5be86c8\", element=\"37853ce5-0b07-45ed-b5cd-d056cf77beab\")>,\n",
       " <selenium.webdriver.remote.webelement.WebElement (session=\"4d73f65a650de05c8abbbd38d5be86c8\", element=\"f5a09f59-80e3-419a-8ee8-cfd84a31cc04\")>,\n",
       " <selenium.webdriver.remote.webelement.WebElement (session=\"4d73f65a650de05c8abbbd38d5be86c8\", element=\"be7e286d-63df-49e9-a895-b8919b5a7406\")>,\n",
       " <selenium.webdriver.remote.webelement.WebElement (session=\"4d73f65a650de05c8abbbd38d5be86c8\", element=\"8a43dac1-7963-45e8-87ba-2c60f940f0ae\")>,\n",
       " <selenium.webdriver.remote.webelement.WebElement (session=\"4d73f65a650de05c8abbbd38d5be86c8\", element=\"40b23135-e07a-4b83-957a-e4acb97322b9\")>,\n",
       " <selenium.webdriver.remote.webelement.WebElement (session=\"4d73f65a650de05c8abbbd38d5be86c8\", element=\"d2063932-fdbc-4c81-bf37-1181555df94d\")>,\n",
       " <selenium.webdriver.remote.webelement.WebElement (session=\"4d73f65a650de05c8abbbd38d5be86c8\", element=\"ddb7235c-910d-4cf5-bd6e-1a908568f2c8\")>,\n",
       " <selenium.webdriver.remote.webelement.WebElement (session=\"4d73f65a650de05c8abbbd38d5be86c8\", element=\"160d90ef-f1ed-4c9e-a74e-864dde733533\")>,\n",
       " <selenium.webdriver.remote.webelement.WebElement (session=\"4d73f65a650de05c8abbbd38d5be86c8\", element=\"c883037d-4a9e-4a1e-90f7-84ef3939f4a0\")>,\n",
       " <selenium.webdriver.remote.webelement.WebElement (session=\"4d73f65a650de05c8abbbd38d5be86c8\", element=\"58627439-4e25-440d-b494-a509080e21d3\")>,\n",
       " <selenium.webdriver.remote.webelement.WebElement (session=\"4d73f65a650de05c8abbbd38d5be86c8\", element=\"fa3fe95d-7f30-40e9-bede-aa090609990c\")>,\n",
       " <selenium.webdriver.remote.webelement.WebElement (session=\"4d73f65a650de05c8abbbd38d5be86c8\", element=\"a6cfb360-6fe0-49e7-8e87-bfa446c1ea33\")>,\n",
       " <selenium.webdriver.remote.webelement.WebElement (session=\"4d73f65a650de05c8abbbd38d5be86c8\", element=\"8098a91f-06b6-43e0-9229-17c17b3551f0\")>,\n",
       " <selenium.webdriver.remote.webelement.WebElement (session=\"4d73f65a650de05c8abbbd38d5be86c8\", element=\"d7bfb87a-ee95-4ff1-894d-86dc170c92c1\")>,\n",
       " <selenium.webdriver.remote.webelement.WebElement (session=\"4d73f65a650de05c8abbbd38d5be86c8\", element=\"c35670cc-f86b-4ca9-ad78-09cba804dc6d\")>,\n",
       " <selenium.webdriver.remote.webelement.WebElement (session=\"4d73f65a650de05c8abbbd38d5be86c8\", element=\"d33b30fb-3c3b-4126-849d-0524874219b9\")>]"
      ]
     },
     "execution_count": 112,
     "metadata": {},
     "output_type": "execute_result"
    }
   ],
   "source": [
    "brands1 = driver.find_elements_by_xpath('//div[@class=\"_2WkVRV\"]')\n",
    "brands1"
   ]
  },
  {
   "cell_type": "code",
   "execution_count": 116,
   "metadata": {},
   "outputs": [
    {
     "data": {
      "text/plain": [
       "['Lee Topper',\n",
       " 'PIRASO',\n",
       " 'Fastrack',\n",
       " 'AISLIN',\n",
       " 'Singco India',\n",
       " 'kingsunglasses',\n",
       " 'PHENOMENAL',\n",
       " 'AISLIN',\n",
       " 'SUNBEE',\n",
       " 'agera',\n",
       " 'ROZZETTA CRAFT',\n",
       " 'AISLIN',\n",
       " 'Elligator',\n",
       " 'ROZZETTA CRAFT',\n",
       " 'PHENOMENAL',\n",
       " 'AISLIN',\n",
       " 'ROYAL SON',\n",
       " 'ROZZETTA CRAFT',\n",
       " 'maxa',\n",
       " 'VINCENT CHASE',\n",
       " 'hipe',\n",
       " 'kingsunglasses',\n",
       " 'ROZZETTA CRAFT',\n",
       " 'AISLIN',\n",
       " 'Fastrack',\n",
       " 'ROYAL SON',\n",
       " 'ROZZETTA CRAFT',\n",
       " 'VINCENT CHASE',\n",
       " 'Lee Topper',\n",
       " 'DEIXELS',\n",
       " 'Elligator',\n",
       " 'AISLIN',\n",
       " 'ROYAL SON',\n",
       " 'SUNBEE',\n",
       " 'Singco India',\n",
       " 'AISLIN',\n",
       " 'Elligator',\n",
       " 'GANSTA',\n",
       " 'PIRASO',\n",
       " 'VINCENT CHASE']"
      ]
     },
     "execution_count": 116,
     "metadata": {},
     "output_type": "execute_result"
    }
   ],
   "source": [
    "brand_names1 =[]\n",
    "\n",
    "for i in brands1:\n",
    "    brand_names1.append(i.text)\n",
    "len(brand_names1) \n",
    "brand_names1"
   ]
  },
  {
   "cell_type": "code",
   "execution_count": 118,
   "metadata": {},
   "outputs": [
    {
     "data": {
      "text/plain": [
       "[<selenium.webdriver.remote.webelement.WebElement (session=\"4d73f65a650de05c8abbbd38d5be86c8\", element=\"8186583a-80c6-4726-bb49-8e1279840bff\")>,\n",
       " <selenium.webdriver.remote.webelement.WebElement (session=\"4d73f65a650de05c8abbbd38d5be86c8\", element=\"b013ec6c-a5ff-469d-b76d-3b340fcca4ae\")>,\n",
       " <selenium.webdriver.remote.webelement.WebElement (session=\"4d73f65a650de05c8abbbd38d5be86c8\", element=\"f517760e-f3e8-42d5-9e1d-29a50bd8286c\")>,\n",
       " <selenium.webdriver.remote.webelement.WebElement (session=\"4d73f65a650de05c8abbbd38d5be86c8\", element=\"796cffcc-d274-45a2-a8eb-87bc874791c0\")>,\n",
       " <selenium.webdriver.remote.webelement.WebElement (session=\"4d73f65a650de05c8abbbd38d5be86c8\", element=\"e4a2903b-557b-4790-b619-d52c15d1284a\")>,\n",
       " <selenium.webdriver.remote.webelement.WebElement (session=\"4d73f65a650de05c8abbbd38d5be86c8\", element=\"0908a25e-1793-4070-a59b-04bdafb88a73\")>,\n",
       " <selenium.webdriver.remote.webelement.WebElement (session=\"4d73f65a650de05c8abbbd38d5be86c8\", element=\"bd33510f-b72a-408e-b347-d9f8a5d116d3\")>,\n",
       " <selenium.webdriver.remote.webelement.WebElement (session=\"4d73f65a650de05c8abbbd38d5be86c8\", element=\"1d6d50fb-589e-4002-a698-65fb2cd80d22\")>,\n",
       " <selenium.webdriver.remote.webelement.WebElement (session=\"4d73f65a650de05c8abbbd38d5be86c8\", element=\"63149214-1d15-46cc-9a25-7c0d802730a0\")>,\n",
       " <selenium.webdriver.remote.webelement.WebElement (session=\"4d73f65a650de05c8abbbd38d5be86c8\", element=\"f57db245-7cfb-4bd8-ae28-5b176df44113\")>,\n",
       " <selenium.webdriver.remote.webelement.WebElement (session=\"4d73f65a650de05c8abbbd38d5be86c8\", element=\"5b6d973c-89f8-42e3-8d59-5f7f21131575\")>,\n",
       " <selenium.webdriver.remote.webelement.WebElement (session=\"4d73f65a650de05c8abbbd38d5be86c8\", element=\"25828cbd-c1d5-40d6-8747-609906ac5352\")>,\n",
       " <selenium.webdriver.remote.webelement.WebElement (session=\"4d73f65a650de05c8abbbd38d5be86c8\", element=\"a744fe37-c49c-4b8a-bf67-e8bc875ce4be\")>,\n",
       " <selenium.webdriver.remote.webelement.WebElement (session=\"4d73f65a650de05c8abbbd38d5be86c8\", element=\"b00bb7ef-1c5e-4c00-948e-3a7c3eebfe69\")>,\n",
       " <selenium.webdriver.remote.webelement.WebElement (session=\"4d73f65a650de05c8abbbd38d5be86c8\", element=\"d1c9b01f-9534-4529-b59a-e40934402fcc\")>,\n",
       " <selenium.webdriver.remote.webelement.WebElement (session=\"4d73f65a650de05c8abbbd38d5be86c8\", element=\"95db9622-7b65-4631-8988-654522623f63\")>,\n",
       " <selenium.webdriver.remote.webelement.WebElement (session=\"4d73f65a650de05c8abbbd38d5be86c8\", element=\"86962267-af5b-4a2d-8d6f-e9be9d70581e\")>,\n",
       " <selenium.webdriver.remote.webelement.WebElement (session=\"4d73f65a650de05c8abbbd38d5be86c8\", element=\"66ca103e-b842-4c6c-9b02-026384856d15\")>,\n",
       " <selenium.webdriver.remote.webelement.WebElement (session=\"4d73f65a650de05c8abbbd38d5be86c8\", element=\"a86f00c8-85c6-4e8e-9eb1-a6ed956db2f9\")>,\n",
       " <selenium.webdriver.remote.webelement.WebElement (session=\"4d73f65a650de05c8abbbd38d5be86c8\", element=\"4c3d331d-a997-4f8e-b9c0-ea2e6a99a047\")>,\n",
       " <selenium.webdriver.remote.webelement.WebElement (session=\"4d73f65a650de05c8abbbd38d5be86c8\", element=\"46ff0d80-ab82-4b5f-90da-02a1842e9876\")>,\n",
       " <selenium.webdriver.remote.webelement.WebElement (session=\"4d73f65a650de05c8abbbd38d5be86c8\", element=\"615997e5-e817-4ede-a36c-b4a9aba8706f\")>,\n",
       " <selenium.webdriver.remote.webelement.WebElement (session=\"4d73f65a650de05c8abbbd38d5be86c8\", element=\"28b8c026-19f9-499c-9548-c777844a90cc\")>,\n",
       " <selenium.webdriver.remote.webelement.WebElement (session=\"4d73f65a650de05c8abbbd38d5be86c8\", element=\"8a02a76c-58e7-4d5c-868a-4f0f357e6d2a\")>,\n",
       " <selenium.webdriver.remote.webelement.WebElement (session=\"4d73f65a650de05c8abbbd38d5be86c8\", element=\"b025c78d-be1f-43ff-94e2-c42865edc652\")>,\n",
       " <selenium.webdriver.remote.webelement.WebElement (session=\"4d73f65a650de05c8abbbd38d5be86c8\", element=\"14ce52a6-2702-4617-b075-a8c020633415\")>,\n",
       " <selenium.webdriver.remote.webelement.WebElement (session=\"4d73f65a650de05c8abbbd38d5be86c8\", element=\"d7c26ade-58d2-407e-b862-35157fff7032\")>,\n",
       " <selenium.webdriver.remote.webelement.WebElement (session=\"4d73f65a650de05c8abbbd38d5be86c8\", element=\"4684af9f-c346-4129-bec6-bc5639be0b8d\")>,\n",
       " <selenium.webdriver.remote.webelement.WebElement (session=\"4d73f65a650de05c8abbbd38d5be86c8\", element=\"0f10770f-3181-4a40-9bf5-ffbf467c32a4\")>,\n",
       " <selenium.webdriver.remote.webelement.WebElement (session=\"4d73f65a650de05c8abbbd38d5be86c8\", element=\"b96c77e7-a301-4e84-a767-946f05d945b3\")>,\n",
       " <selenium.webdriver.remote.webelement.WebElement (session=\"4d73f65a650de05c8abbbd38d5be86c8\", element=\"96332a27-001e-44b1-b83a-cbc8dafbf770\")>,\n",
       " <selenium.webdriver.remote.webelement.WebElement (session=\"4d73f65a650de05c8abbbd38d5be86c8\", element=\"10d201a4-fb89-4963-a99c-343393283fc3\")>,\n",
       " <selenium.webdriver.remote.webelement.WebElement (session=\"4d73f65a650de05c8abbbd38d5be86c8\", element=\"32d6f1e6-bb99-429e-8611-3a967f132dbf\")>,\n",
       " <selenium.webdriver.remote.webelement.WebElement (session=\"4d73f65a650de05c8abbbd38d5be86c8\", element=\"01e39f50-bfbb-445c-989f-a1586b61b9e2\")>,\n",
       " <selenium.webdriver.remote.webelement.WebElement (session=\"4d73f65a650de05c8abbbd38d5be86c8\", element=\"cc164c60-b796-4eed-9013-4220c3e1fa50\")>,\n",
       " <selenium.webdriver.remote.webelement.WebElement (session=\"4d73f65a650de05c8abbbd38d5be86c8\", element=\"7754b183-d632-4a9a-af91-004517fea43c\")>,\n",
       " <selenium.webdriver.remote.webelement.WebElement (session=\"4d73f65a650de05c8abbbd38d5be86c8\", element=\"9c190520-05b4-4285-8d43-c1981e6c2b0a\")>,\n",
       " <selenium.webdriver.remote.webelement.WebElement (session=\"4d73f65a650de05c8abbbd38d5be86c8\", element=\"dd65fc5f-e7ff-4bb3-a031-4cd7b054953f\")>,\n",
       " <selenium.webdriver.remote.webelement.WebElement (session=\"4d73f65a650de05c8abbbd38d5be86c8\", element=\"75dabef4-f3ba-4e8f-8e56-2f46be4ad551\")>,\n",
       " <selenium.webdriver.remote.webelement.WebElement (session=\"4d73f65a650de05c8abbbd38d5be86c8\", element=\"751f145d-30b5-4580-b263-00b8c56b533c\")>]"
      ]
     },
     "execution_count": 118,
     "metadata": {},
     "output_type": "execute_result"
    }
   ],
   "source": [
    "Product_Description1 = driver.find_elements_by_xpath('//a[@class=\"IRpwTa\"]')\n",
    "Product_Description1"
   ]
  },
  {
   "cell_type": "code",
   "execution_count": 119,
   "metadata": {},
   "outputs": [
    {
     "data": {
      "text/plain": [
       "['Riding Glasses, Night Vision Wrap-around Sunglasses (Fr...',\n",
       " 'UV Protection Butterfly Sunglasses (65)',\n",
       " 'UV Protection Aviator Sunglasses (58)',\n",
       " 'UV Protection, Gradient Round Sunglasses (58)',\n",
       " 'Riding Glasses, UV Protection, Others Aviator Sunglasse...',\n",
       " 'UV Protection, Night Vision Wayfarer Sunglasses (Free S...',\n",
       " 'UV Protection, Mirrored Clubmaster Sunglasses (Free Siz...',\n",
       " 'UV Protection, Gradient Cat-eye, Over-sized Sunglasses ...',\n",
       " 'UV Protection, Polarized Wayfarer Sunglasses (Free Size...',\n",
       " 'Gradient Aviator Sunglasses (55)',\n",
       " 'UV Protection, Gradient Rectangular Sunglasses (Free Si...',\n",
       " 'UV Protection Wayfarer, Rectangular Sunglasses (55)',\n",
       " 'UV Protection Round Sunglasses (54)',\n",
       " 'UV Protection, Gradient Retro Square Sunglasses (Free S...',\n",
       " 'UV Protection, Mirrored Retro Square Sunglasses (53)',\n",
       " 'Toughened Glass Lens, UV Protection Aviator Sunglasses ...',\n",
       " 'Mirrored Aviator Sunglasses (55)',\n",
       " 'UV Protection, Gradient Round Sunglasses (Free Size)',\n",
       " 'UV Protection, Riding Glasses Rectangular, Wayfarer, Ov...',\n",
       " 'by Lenskart UV Protection Wayfarer Sunglasses (51)',\n",
       " 'Mirrored, Gradient, UV Protection Aviator Sunglasses (5...',\n",
       " 'UV Protection Round Sunglasses (Free Size)',\n",
       " 'Mirrored, UV Protection Round Sunglasses (Free Size)',\n",
       " 'Toughened Glass Lens, UV Protection Wayfarer, Rectangul...',\n",
       " 'UV Protection Rectangular Sunglasses (Free Size)',\n",
       " 'Mirrored Aviator Sunglasses (55)',\n",
       " 'UV Protection, Gradient Round Sunglasses (Free Size)',\n",
       " 'by Lenskart UV Protection Round Sunglasses (48)',\n",
       " 'UV Protection, Riding Glasses Retro Square, Spectacle ...',\n",
       " 'UV Protection Aviator, Wayfarer Sunglasses (Free Size)',\n",
       " 'UV Protection Retro Square, Round Sunglasses (54)',\n",
       " 'UV Protection, Gradient Cat-eye Sunglasses (61)',\n",
       " 'UV Protection Retro Square Sunglasses (58)',\n",
       " 'UV Protection, Polarized, Mirrored Wayfarer Sunglasses ...',\n",
       " 'UV Protection, Riding Glasses, Others Aviator, Wayfarer...',\n",
       " 'Polarized, UV Protection Wayfarer, Rectangular Sunglass...',\n",
       " 'UV Protection Round Sunglasses (55)',\n",
       " 'UV Protection, Riding Glasses Wayfarer Sunglasses (53)',\n",
       " 'UV Protection Aviator Sunglasses (Free Size)',\n",
       " 'by Lenskart Polarized, UV Protection Aviator Sunglasses...']"
      ]
     },
     "execution_count": 119,
     "metadata": {},
     "output_type": "execute_result"
    }
   ],
   "source": [
    "description1 =[]\n",
    "\n",
    "for i in Product_Description1:\n",
    "    description1.append(i.text)\n",
    "len(description1) \n",
    "description1"
   ]
  },
  {
   "cell_type": "code",
   "execution_count": 121,
   "metadata": {},
   "outputs": [
    {
     "data": {
      "text/plain": [
       "[<selenium.webdriver.remote.webelement.WebElement (session=\"4d73f65a650de05c8abbbd38d5be86c8\", element=\"50e3fa7f-61b4-47ab-86ab-e4d6d3f87cc8\")>,\n",
       " <selenium.webdriver.remote.webelement.WebElement (session=\"4d73f65a650de05c8abbbd38d5be86c8\", element=\"ed2a3560-37fe-4942-9e82-57fe0b68fa97\")>,\n",
       " <selenium.webdriver.remote.webelement.WebElement (session=\"4d73f65a650de05c8abbbd38d5be86c8\", element=\"cc49ecc3-d6bc-4df0-b88f-7923a1f08632\")>,\n",
       " <selenium.webdriver.remote.webelement.WebElement (session=\"4d73f65a650de05c8abbbd38d5be86c8\", element=\"5d8f35fc-7e9f-4cc9-80a6-a0a35f9f1e64\")>,\n",
       " <selenium.webdriver.remote.webelement.WebElement (session=\"4d73f65a650de05c8abbbd38d5be86c8\", element=\"0da574a3-e9b7-4e16-8b59-9339ecf0b5a6\")>,\n",
       " <selenium.webdriver.remote.webelement.WebElement (session=\"4d73f65a650de05c8abbbd38d5be86c8\", element=\"4d3e64dc-98d8-470a-92e6-24352eb3faa4\")>,\n",
       " <selenium.webdriver.remote.webelement.WebElement (session=\"4d73f65a650de05c8abbbd38d5be86c8\", element=\"aa48e4fa-b401-4c36-8c3a-d83e73fa209e\")>,\n",
       " <selenium.webdriver.remote.webelement.WebElement (session=\"4d73f65a650de05c8abbbd38d5be86c8\", element=\"869a018f-f757-405b-bbce-0226106494a5\")>,\n",
       " <selenium.webdriver.remote.webelement.WebElement (session=\"4d73f65a650de05c8abbbd38d5be86c8\", element=\"317ab807-6782-41e0-9729-80c4f1481a08\")>,\n",
       " <selenium.webdriver.remote.webelement.WebElement (session=\"4d73f65a650de05c8abbbd38d5be86c8\", element=\"d6e5527a-9879-4dbc-a8ec-a1d843fb133a\")>,\n",
       " <selenium.webdriver.remote.webelement.WebElement (session=\"4d73f65a650de05c8abbbd38d5be86c8\", element=\"d6bf8331-8482-46eb-b9f2-4ec78f51726a\")>,\n",
       " <selenium.webdriver.remote.webelement.WebElement (session=\"4d73f65a650de05c8abbbd38d5be86c8\", element=\"9ac90479-46e1-4f20-b081-a182126cce4c\")>,\n",
       " <selenium.webdriver.remote.webelement.WebElement (session=\"4d73f65a650de05c8abbbd38d5be86c8\", element=\"1d15e837-57ab-4440-8e5d-bc42a0067886\")>,\n",
       " <selenium.webdriver.remote.webelement.WebElement (session=\"4d73f65a650de05c8abbbd38d5be86c8\", element=\"6e14d2a0-5e0d-4d33-a439-aa62b00d42b3\")>,\n",
       " <selenium.webdriver.remote.webelement.WebElement (session=\"4d73f65a650de05c8abbbd38d5be86c8\", element=\"63dc83e0-30cf-489a-89a8-0d23d9cbfa3f\")>,\n",
       " <selenium.webdriver.remote.webelement.WebElement (session=\"4d73f65a650de05c8abbbd38d5be86c8\", element=\"4598d6bb-bded-43bc-bee5-d8f371591726\")>,\n",
       " <selenium.webdriver.remote.webelement.WebElement (session=\"4d73f65a650de05c8abbbd38d5be86c8\", element=\"2c62d6df-f58b-4769-bf93-aef75154397f\")>,\n",
       " <selenium.webdriver.remote.webelement.WebElement (session=\"4d73f65a650de05c8abbbd38d5be86c8\", element=\"3666edc3-1772-4782-a056-398cacfd9807\")>,\n",
       " <selenium.webdriver.remote.webelement.WebElement (session=\"4d73f65a650de05c8abbbd38d5be86c8\", element=\"f559ca16-f4b7-4340-b266-40ec70b5e380\")>,\n",
       " <selenium.webdriver.remote.webelement.WebElement (session=\"4d73f65a650de05c8abbbd38d5be86c8\", element=\"d9cc5f11-9b53-4e08-ae34-0eb17cf6a0f5\")>,\n",
       " <selenium.webdriver.remote.webelement.WebElement (session=\"4d73f65a650de05c8abbbd38d5be86c8\", element=\"db0d75b6-3350-4dd8-9e9d-bab5f00231f5\")>,\n",
       " <selenium.webdriver.remote.webelement.WebElement (session=\"4d73f65a650de05c8abbbd38d5be86c8\", element=\"c94edd99-0d62-444c-aa4a-968b6b22e92b\")>,\n",
       " <selenium.webdriver.remote.webelement.WebElement (session=\"4d73f65a650de05c8abbbd38d5be86c8\", element=\"5056eba3-eb8a-4b98-b6be-bc295d2605ac\")>,\n",
       " <selenium.webdriver.remote.webelement.WebElement (session=\"4d73f65a650de05c8abbbd38d5be86c8\", element=\"a6ebcd96-fae6-43f6-a67a-025f285b0123\")>,\n",
       " <selenium.webdriver.remote.webelement.WebElement (session=\"4d73f65a650de05c8abbbd38d5be86c8\", element=\"438b4bb2-67af-4665-bdba-20bdf79cad5a\")>,\n",
       " <selenium.webdriver.remote.webelement.WebElement (session=\"4d73f65a650de05c8abbbd38d5be86c8\", element=\"799d9003-8f6a-41b9-a94e-1c5acc30a56b\")>,\n",
       " <selenium.webdriver.remote.webelement.WebElement (session=\"4d73f65a650de05c8abbbd38d5be86c8\", element=\"916d932c-d2ad-476f-ba2b-5cf86e567cc3\")>,\n",
       " <selenium.webdriver.remote.webelement.WebElement (session=\"4d73f65a650de05c8abbbd38d5be86c8\", element=\"8474cf60-1b50-4202-85fd-9b97174f76ce\")>,\n",
       " <selenium.webdriver.remote.webelement.WebElement (session=\"4d73f65a650de05c8abbbd38d5be86c8\", element=\"4141d26a-7b93-43ec-8d0d-a57b781fad75\")>,\n",
       " <selenium.webdriver.remote.webelement.WebElement (session=\"4d73f65a650de05c8abbbd38d5be86c8\", element=\"c6256837-b822-42cb-9de2-16df2b89e875\")>,\n",
       " <selenium.webdriver.remote.webelement.WebElement (session=\"4d73f65a650de05c8abbbd38d5be86c8\", element=\"4443e839-feb1-4bbe-a851-bd6b8893552d\")>,\n",
       " <selenium.webdriver.remote.webelement.WebElement (session=\"4d73f65a650de05c8abbbd38d5be86c8\", element=\"76e88cbf-7282-40c4-b654-8f1c4dfca8b0\")>,\n",
       " <selenium.webdriver.remote.webelement.WebElement (session=\"4d73f65a650de05c8abbbd38d5be86c8\", element=\"a92b4784-ae8f-4259-bd17-a87e43d02827\")>,\n",
       " <selenium.webdriver.remote.webelement.WebElement (session=\"4d73f65a650de05c8abbbd38d5be86c8\", element=\"ada96777-3811-4a3a-b58d-bf675cccf0f2\")>,\n",
       " <selenium.webdriver.remote.webelement.WebElement (session=\"4d73f65a650de05c8abbbd38d5be86c8\", element=\"72ace923-0dba-4d54-8692-cd8788e93585\")>,\n",
       " <selenium.webdriver.remote.webelement.WebElement (session=\"4d73f65a650de05c8abbbd38d5be86c8\", element=\"f8f0d6a5-7ad6-4b8c-a848-08f788738442\")>,\n",
       " <selenium.webdriver.remote.webelement.WebElement (session=\"4d73f65a650de05c8abbbd38d5be86c8\", element=\"f6510f0d-fd1a-4b17-823f-14a356937192\")>,\n",
       " <selenium.webdriver.remote.webelement.WebElement (session=\"4d73f65a650de05c8abbbd38d5be86c8\", element=\"7e3e22a4-778b-4276-ae18-33dfad8291ff\")>,\n",
       " <selenium.webdriver.remote.webelement.WebElement (session=\"4d73f65a650de05c8abbbd38d5be86c8\", element=\"df813a1c-60cb-4872-9cbe-5eb51eb54b22\")>,\n",
       " <selenium.webdriver.remote.webelement.WebElement (session=\"4d73f65a650de05c8abbbd38d5be86c8\", element=\"f1e8c97c-6975-4d47-989b-deae2c3568ee\")>]"
      ]
     },
     "execution_count": 121,
     "metadata": {},
     "output_type": "execute_result"
    }
   ],
   "source": [
    "price1 = driver.find_elements_by_xpath('//div[@class=\"_30jeq3\"]')\n",
    "price1"
   ]
  },
  {
   "cell_type": "code",
   "execution_count": 122,
   "metadata": {},
   "outputs": [
    {
     "data": {
      "text/plain": [
       "['₹276',\n",
       " '₹349',\n",
       " '₹1,089',\n",
       " '₹498',\n",
       " '₹201',\n",
       " '₹273',\n",
       " '₹287',\n",
       " '₹971',\n",
       " '₹243',\n",
       " '₹196',\n",
       " '₹348',\n",
       " '₹1,040',\n",
       " '₹265',\n",
       " '₹349',\n",
       " '₹299',\n",
       " '₹825',\n",
       " '₹359',\n",
       " '₹360',\n",
       " '₹144',\n",
       " '₹999',\n",
       " '₹178',\n",
       " '₹299',\n",
       " '₹360',\n",
       " '₹945',\n",
       " '₹639',\n",
       " '₹359',\n",
       " '₹426',\n",
       " '₹1,415',\n",
       " '₹375',\n",
       " '₹202',\n",
       " '₹291',\n",
       " '₹459',\n",
       " '₹449',\n",
       " '₹276',\n",
       " '₹203',\n",
       " '₹1,066',\n",
       " '₹239',\n",
       " '₹209',\n",
       " '₹261',\n",
       " '₹1,179']"
      ]
     },
     "execution_count": 122,
     "metadata": {},
     "output_type": "execute_result"
    }
   ],
   "source": [
    "prices1 =[]\n",
    "\n",
    "for i in price1:\n",
    "    prices1.append(i.text)\n",
    "len(prices1) \n",
    "prices1"
   ]
  },
  {
   "cell_type": "code",
   "execution_count": 123,
   "metadata": {},
   "outputs": [],
   "source": [
    "# code to click on the next button for page 3\n",
    "search_btn2 = driver.find_element_by_xpath('/html/body/div/div/div[3]/div[1]/div[2]/div[12]/div/div/nav/a[12]')\n",
    "search_btn2.click()"
   ]
  },
  {
   "cell_type": "code",
   "execution_count": 126,
   "metadata": {},
   "outputs": [
    {
     "data": {
      "text/plain": [
       "[<selenium.webdriver.remote.webelement.WebElement (session=\"4d73f65a650de05c8abbbd38d5be86c8\", element=\"538b62d9-bef0-43ac-8db2-2f9e9be23e75\")>,\n",
       " <selenium.webdriver.remote.webelement.WebElement (session=\"4d73f65a650de05c8abbbd38d5be86c8\", element=\"b3a8559f-9bdd-4376-b95a-c54d0063e103\")>,\n",
       " <selenium.webdriver.remote.webelement.WebElement (session=\"4d73f65a650de05c8abbbd38d5be86c8\", element=\"f74ab62f-fc39-4c3e-8087-9b5db4e61056\")>,\n",
       " <selenium.webdriver.remote.webelement.WebElement (session=\"4d73f65a650de05c8abbbd38d5be86c8\", element=\"a1802306-f65f-4247-b49f-2403e335597d\")>,\n",
       " <selenium.webdriver.remote.webelement.WebElement (session=\"4d73f65a650de05c8abbbd38d5be86c8\", element=\"b160952d-fda1-41d3-ae42-f009a2c91eec\")>,\n",
       " <selenium.webdriver.remote.webelement.WebElement (session=\"4d73f65a650de05c8abbbd38d5be86c8\", element=\"10dfc9f8-7787-4320-80ad-4e441a873250\")>,\n",
       " <selenium.webdriver.remote.webelement.WebElement (session=\"4d73f65a650de05c8abbbd38d5be86c8\", element=\"e23f0377-aed9-4fa2-9033-c164ba082bbe\")>,\n",
       " <selenium.webdriver.remote.webelement.WebElement (session=\"4d73f65a650de05c8abbbd38d5be86c8\", element=\"c5915286-6bbd-42c4-9a92-5066a4fbdced\")>,\n",
       " <selenium.webdriver.remote.webelement.WebElement (session=\"4d73f65a650de05c8abbbd38d5be86c8\", element=\"964aba84-827e-473f-ad30-061458b23597\")>,\n",
       " <selenium.webdriver.remote.webelement.WebElement (session=\"4d73f65a650de05c8abbbd38d5be86c8\", element=\"003df2b9-e2a0-4b89-9084-a4231dff7220\")>,\n",
       " <selenium.webdriver.remote.webelement.WebElement (session=\"4d73f65a650de05c8abbbd38d5be86c8\", element=\"5f62a939-a77e-4a4b-8a4a-48cf6f102a33\")>,\n",
       " <selenium.webdriver.remote.webelement.WebElement (session=\"4d73f65a650de05c8abbbd38d5be86c8\", element=\"0f535651-ea42-4335-8bd9-4426a37126e8\")>,\n",
       " <selenium.webdriver.remote.webelement.WebElement (session=\"4d73f65a650de05c8abbbd38d5be86c8\", element=\"7ec45210-d0bf-47fb-88d9-7c960fefc3d9\")>,\n",
       " <selenium.webdriver.remote.webelement.WebElement (session=\"4d73f65a650de05c8abbbd38d5be86c8\", element=\"9f8769bc-1fba-4bae-88f9-6f4fb1160fc8\")>,\n",
       " <selenium.webdriver.remote.webelement.WebElement (session=\"4d73f65a650de05c8abbbd38d5be86c8\", element=\"322a3055-adce-4746-b149-fd01879be4ab\")>,\n",
       " <selenium.webdriver.remote.webelement.WebElement (session=\"4d73f65a650de05c8abbbd38d5be86c8\", element=\"61d78c4f-fd35-4078-b06c-88f94cde951a\")>,\n",
       " <selenium.webdriver.remote.webelement.WebElement (session=\"4d73f65a650de05c8abbbd38d5be86c8\", element=\"35b026be-78f0-4b82-9d02-1348c78d320a\")>,\n",
       " <selenium.webdriver.remote.webelement.WebElement (session=\"4d73f65a650de05c8abbbd38d5be86c8\", element=\"74ce3ddf-a8eb-47d5-bd7e-59620dc15bde\")>,\n",
       " <selenium.webdriver.remote.webelement.WebElement (session=\"4d73f65a650de05c8abbbd38d5be86c8\", element=\"87d24ef7-b65f-44a6-94d7-76193c4d177c\")>,\n",
       " <selenium.webdriver.remote.webelement.WebElement (session=\"4d73f65a650de05c8abbbd38d5be86c8\", element=\"7f707328-68f6-4571-9436-76d4fbec6625\")>,\n",
       " <selenium.webdriver.remote.webelement.WebElement (session=\"4d73f65a650de05c8abbbd38d5be86c8\", element=\"751acfc4-3fcc-42ca-bc13-568ec902fad1\")>,\n",
       " <selenium.webdriver.remote.webelement.WebElement (session=\"4d73f65a650de05c8abbbd38d5be86c8\", element=\"3c4ef688-6631-4d1a-88cb-1825ff276f9c\")>,\n",
       " <selenium.webdriver.remote.webelement.WebElement (session=\"4d73f65a650de05c8abbbd38d5be86c8\", element=\"44f129b4-a0ab-4fe4-bcd0-eadc950113bd\")>,\n",
       " <selenium.webdriver.remote.webelement.WebElement (session=\"4d73f65a650de05c8abbbd38d5be86c8\", element=\"2db40473-e10b-4b6d-9910-e808a7aecdf8\")>,\n",
       " <selenium.webdriver.remote.webelement.WebElement (session=\"4d73f65a650de05c8abbbd38d5be86c8\", element=\"034daff1-2125-43e6-ba8e-c13352cfbfbd\")>,\n",
       " <selenium.webdriver.remote.webelement.WebElement (session=\"4d73f65a650de05c8abbbd38d5be86c8\", element=\"be0d484a-b0c0-4308-b68b-842949e04a4d\")>,\n",
       " <selenium.webdriver.remote.webelement.WebElement (session=\"4d73f65a650de05c8abbbd38d5be86c8\", element=\"b8f6549c-aadc-4581-bef3-2e63f92d076a\")>,\n",
       " <selenium.webdriver.remote.webelement.WebElement (session=\"4d73f65a650de05c8abbbd38d5be86c8\", element=\"f7ab2dc5-ad84-48ec-be98-f86cdcdf3bb8\")>,\n",
       " <selenium.webdriver.remote.webelement.WebElement (session=\"4d73f65a650de05c8abbbd38d5be86c8\", element=\"4ad805cd-a43d-46b6-93c4-024837c7ded6\")>,\n",
       " <selenium.webdriver.remote.webelement.WebElement (session=\"4d73f65a650de05c8abbbd38d5be86c8\", element=\"e26e93d6-0f61-4d28-8009-24887c39978d\")>,\n",
       " <selenium.webdriver.remote.webelement.WebElement (session=\"4d73f65a650de05c8abbbd38d5be86c8\", element=\"95d27134-495e-4a4a-a44f-dc6f41fd7ee2\")>,\n",
       " <selenium.webdriver.remote.webelement.WebElement (session=\"4d73f65a650de05c8abbbd38d5be86c8\", element=\"21bcb6ad-9c34-4be9-bd29-d3635441729e\")>,\n",
       " <selenium.webdriver.remote.webelement.WebElement (session=\"4d73f65a650de05c8abbbd38d5be86c8\", element=\"b3f977d2-bcc7-437a-846c-9717e3fdd9a0\")>,\n",
       " <selenium.webdriver.remote.webelement.WebElement (session=\"4d73f65a650de05c8abbbd38d5be86c8\", element=\"6f9ba1eb-6efd-4ddd-a877-dd528dcae8b3\")>,\n",
       " <selenium.webdriver.remote.webelement.WebElement (session=\"4d73f65a650de05c8abbbd38d5be86c8\", element=\"927269d4-2b19-491d-9868-bf7b647532c1\")>,\n",
       " <selenium.webdriver.remote.webelement.WebElement (session=\"4d73f65a650de05c8abbbd38d5be86c8\", element=\"a04ea01c-9f7d-41ad-b5d0-c6fb5b25d1b9\")>,\n",
       " <selenium.webdriver.remote.webelement.WebElement (session=\"4d73f65a650de05c8abbbd38d5be86c8\", element=\"3df28993-7bcd-4495-af7c-15492bf9db91\")>,\n",
       " <selenium.webdriver.remote.webelement.WebElement (session=\"4d73f65a650de05c8abbbd38d5be86c8\", element=\"f34581e5-e813-45ad-ba86-b6da7bd77a80\")>,\n",
       " <selenium.webdriver.remote.webelement.WebElement (session=\"4d73f65a650de05c8abbbd38d5be86c8\", element=\"6b0fefab-55b3-497f-85b1-d6e0ad5cb6d5\")>,\n",
       " <selenium.webdriver.remote.webelement.WebElement (session=\"4d73f65a650de05c8abbbd38d5be86c8\", element=\"ce0eb549-63e5-4448-980b-45b2ffe806fe\")>]"
      ]
     },
     "execution_count": 126,
     "metadata": {},
     "output_type": "execute_result"
    }
   ],
   "source": [
    "brands2 = driver.find_elements_by_xpath('//div[@class=\"_2WkVRV\"]')\n",
    "brands2"
   ]
  },
  {
   "cell_type": "code",
   "execution_count": 127,
   "metadata": {},
   "outputs": [
    {
     "data": {
      "text/plain": [
       "['ROYAL SON',\n",
       " 'PIRASO',\n",
       " 'GANSTA',\n",
       " 'RYLEN',\n",
       " 'ROYAL SON',\n",
       " 'Rich Club',\n",
       " 'New Specs',\n",
       " 'VINCENT CHASE',\n",
       " 'kingsunglasses',\n",
       " 'Fastrack',\n",
       " 'SHAAH COLLECTIONS',\n",
       " 'ROZZETTA CRAFT',\n",
       " 'Elligator',\n",
       " 'kingsunglasses',\n",
       " 'ROZZETTA CRAFT',\n",
       " 'VINCENT CHASE',\n",
       " 'ROYAL SON',\n",
       " 'Rich Club',\n",
       " 'Fastrack',\n",
       " 'VINCENT CHASE',\n",
       " 'New Specs',\n",
       " 'Elligator',\n",
       " 'hipe',\n",
       " 'NuVew',\n",
       " 'Fastrack',\n",
       " 'Fravy',\n",
       " 'Fastrack',\n",
       " 'VINCENT CHASE',\n",
       " 'PHENOMENAL',\n",
       " 'hipe',\n",
       " 'kingsunglasses',\n",
       " 'AISLIN',\n",
       " 'AISLIN',\n",
       " 'SRPM',\n",
       " 'Urbanic',\n",
       " 'VILLAIN',\n",
       " 'Lee Topper',\n",
       " 'Singco India',\n",
       " 'ROZZETTA CRAFT',\n",
       " 'AISLIN']"
      ]
     },
     "execution_count": 127,
     "metadata": {},
     "output_type": "execute_result"
    }
   ],
   "source": [
    "brand_names2 =[]\n",
    "\n",
    "for i in brands2:\n",
    "    brand_names2.append(i.text)\n",
    "len(brand_names2) \n",
    "brand_names2"
   ]
  },
  {
   "cell_type": "code",
   "execution_count": 130,
   "metadata": {},
   "outputs": [
    {
     "data": {
      "text/plain": [
       "[<selenium.webdriver.remote.webelement.WebElement (session=\"4d73f65a650de05c8abbbd38d5be86c8\", element=\"4a67ca30-3368-46bc-90fb-cbad45abebaf\")>,\n",
       " <selenium.webdriver.remote.webelement.WebElement (session=\"4d73f65a650de05c8abbbd38d5be86c8\", element=\"04b77fd8-98ed-4848-a265-a36abaa51f73\")>,\n",
       " <selenium.webdriver.remote.webelement.WebElement (session=\"4d73f65a650de05c8abbbd38d5be86c8\", element=\"ba60a34a-0151-4a43-a2be-74a93c252d71\")>,\n",
       " <selenium.webdriver.remote.webelement.WebElement (session=\"4d73f65a650de05c8abbbd38d5be86c8\", element=\"79526b0d-4203-4406-8c70-e17393164308\")>,\n",
       " <selenium.webdriver.remote.webelement.WebElement (session=\"4d73f65a650de05c8abbbd38d5be86c8\", element=\"a59c3553-d7c6-4f8d-930f-8925aa392114\")>,\n",
       " <selenium.webdriver.remote.webelement.WebElement (session=\"4d73f65a650de05c8abbbd38d5be86c8\", element=\"2421e958-6d59-4bc6-b9c1-dac15c1b9a07\")>,\n",
       " <selenium.webdriver.remote.webelement.WebElement (session=\"4d73f65a650de05c8abbbd38d5be86c8\", element=\"7425c99c-c5a2-40fa-9d7b-33576dcf94c0\")>,\n",
       " <selenium.webdriver.remote.webelement.WebElement (session=\"4d73f65a650de05c8abbbd38d5be86c8\", element=\"c32aee7b-516b-4d12-8bbf-268d79740573\")>,\n",
       " <selenium.webdriver.remote.webelement.WebElement (session=\"4d73f65a650de05c8abbbd38d5be86c8\", element=\"9749d43b-7e6b-4663-8549-af2957aa79ee\")>,\n",
       " <selenium.webdriver.remote.webelement.WebElement (session=\"4d73f65a650de05c8abbbd38d5be86c8\", element=\"b36e57b8-8eb8-4180-9047-4d6dcce90779\")>,\n",
       " <selenium.webdriver.remote.webelement.WebElement (session=\"4d73f65a650de05c8abbbd38d5be86c8\", element=\"c4617587-2f09-4541-880b-11efcd9bc86a\")>,\n",
       " <selenium.webdriver.remote.webelement.WebElement (session=\"4d73f65a650de05c8abbbd38d5be86c8\", element=\"a57aec8b-584f-4fa9-b843-c9f09f9de33a\")>,\n",
       " <selenium.webdriver.remote.webelement.WebElement (session=\"4d73f65a650de05c8abbbd38d5be86c8\", element=\"c4fdd9e9-eb90-4996-8d6c-9cd71e1f9b05\")>,\n",
       " <selenium.webdriver.remote.webelement.WebElement (session=\"4d73f65a650de05c8abbbd38d5be86c8\", element=\"3b11a944-70f0-4829-9275-6e9734a90456\")>,\n",
       " <selenium.webdriver.remote.webelement.WebElement (session=\"4d73f65a650de05c8abbbd38d5be86c8\", element=\"9484922c-4a55-45b5-ae56-07c0e91cf9ac\")>,\n",
       " <selenium.webdriver.remote.webelement.WebElement (session=\"4d73f65a650de05c8abbbd38d5be86c8\", element=\"91fb9294-3e35-4d55-9398-4f677f3fa00d\")>,\n",
       " <selenium.webdriver.remote.webelement.WebElement (session=\"4d73f65a650de05c8abbbd38d5be86c8\", element=\"776069e7-d869-4397-834e-ecac53e6cbf9\")>,\n",
       " <selenium.webdriver.remote.webelement.WebElement (session=\"4d73f65a650de05c8abbbd38d5be86c8\", element=\"deb2c8fb-5f06-4bed-807e-c9a831694285\")>,\n",
       " <selenium.webdriver.remote.webelement.WebElement (session=\"4d73f65a650de05c8abbbd38d5be86c8\", element=\"4adfb616-90fd-4c32-bb63-c3e23b728927\")>,\n",
       " <selenium.webdriver.remote.webelement.WebElement (session=\"4d73f65a650de05c8abbbd38d5be86c8\", element=\"1adeb597-0acd-46e7-aa7e-3c48cd12f774\")>,\n",
       " <selenium.webdriver.remote.webelement.WebElement (session=\"4d73f65a650de05c8abbbd38d5be86c8\", element=\"4bf01dd3-7021-4b2a-a13c-64f3022218e6\")>,\n",
       " <selenium.webdriver.remote.webelement.WebElement (session=\"4d73f65a650de05c8abbbd38d5be86c8\", element=\"f806b338-456a-4310-8ba3-10e5d0c55aee\")>,\n",
       " <selenium.webdriver.remote.webelement.WebElement (session=\"4d73f65a650de05c8abbbd38d5be86c8\", element=\"0dad54fb-8338-4c7e-a425-9d6633a4b2b8\")>,\n",
       " <selenium.webdriver.remote.webelement.WebElement (session=\"4d73f65a650de05c8abbbd38d5be86c8\", element=\"e5d584ef-da1a-44be-9f44-a5b2be001153\")>,\n",
       " <selenium.webdriver.remote.webelement.WebElement (session=\"4d73f65a650de05c8abbbd38d5be86c8\", element=\"cdea1aee-e71a-4dd8-9fef-b9b417d9a581\")>,\n",
       " <selenium.webdriver.remote.webelement.WebElement (session=\"4d73f65a650de05c8abbbd38d5be86c8\", element=\"16da20b9-fe1a-4807-a1ad-fbacbee55a6e\")>,\n",
       " <selenium.webdriver.remote.webelement.WebElement (session=\"4d73f65a650de05c8abbbd38d5be86c8\", element=\"2ad442c8-3136-4e8c-a034-ec4a49a5c553\")>,\n",
       " <selenium.webdriver.remote.webelement.WebElement (session=\"4d73f65a650de05c8abbbd38d5be86c8\", element=\"8ddf672c-b74c-4c87-b49b-0984708f1161\")>,\n",
       " <selenium.webdriver.remote.webelement.WebElement (session=\"4d73f65a650de05c8abbbd38d5be86c8\", element=\"71b90005-27d4-4025-944b-0e9ef6c5989c\")>,\n",
       " <selenium.webdriver.remote.webelement.WebElement (session=\"4d73f65a650de05c8abbbd38d5be86c8\", element=\"a35703bf-96ba-4495-9040-371df07bab36\")>,\n",
       " <selenium.webdriver.remote.webelement.WebElement (session=\"4d73f65a650de05c8abbbd38d5be86c8\", element=\"3a5aa86c-96bc-4e69-aca9-c5880e9a2794\")>,\n",
       " <selenium.webdriver.remote.webelement.WebElement (session=\"4d73f65a650de05c8abbbd38d5be86c8\", element=\"e07f9262-fa29-4762-bc2c-8210abf01b8e\")>,\n",
       " <selenium.webdriver.remote.webelement.WebElement (session=\"4d73f65a650de05c8abbbd38d5be86c8\", element=\"c2c8344b-4bd9-4d36-b904-32b9b0334a87\")>,\n",
       " <selenium.webdriver.remote.webelement.WebElement (session=\"4d73f65a650de05c8abbbd38d5be86c8\", element=\"ca6b261b-5d9d-4e95-879c-943c22326bc2\")>,\n",
       " <selenium.webdriver.remote.webelement.WebElement (session=\"4d73f65a650de05c8abbbd38d5be86c8\", element=\"ba949416-448f-46cb-9c0c-c01bd0939bc7\")>,\n",
       " <selenium.webdriver.remote.webelement.WebElement (session=\"4d73f65a650de05c8abbbd38d5be86c8\", element=\"c83947da-502e-4a00-b652-d5685b87166f\")>,\n",
       " <selenium.webdriver.remote.webelement.WebElement (session=\"4d73f65a650de05c8abbbd38d5be86c8\", element=\"09dfc6ed-d1ea-40e0-a847-39d4dbe196b2\")>,\n",
       " <selenium.webdriver.remote.webelement.WebElement (session=\"4d73f65a650de05c8abbbd38d5be86c8\", element=\"d9b4bfee-6b6f-4ab9-86d3-34394d37704d\")>,\n",
       " <selenium.webdriver.remote.webelement.WebElement (session=\"4d73f65a650de05c8abbbd38d5be86c8\", element=\"9dc85771-b9f9-4045-a995-05c8e967b9e4\")>,\n",
       " <selenium.webdriver.remote.webelement.WebElement (session=\"4d73f65a650de05c8abbbd38d5be86c8\", element=\"0eb19b3f-d7d3-4342-ad80-eaaa0581aef3\")>]"
      ]
     },
     "execution_count": 130,
     "metadata": {},
     "output_type": "execute_result"
    }
   ],
   "source": [
    "Product_Description2 = driver.find_elements_by_xpath('//a[@class=\"IRpwTa\"]')\n",
    "Product_Description2"
   ]
  },
  {
   "cell_type": "code",
   "execution_count": 131,
   "metadata": {},
   "outputs": [
    {
     "data": {
      "text/plain": [
       "['Mirrored Aviator Sunglasses (Free Size)',\n",
       " 'UV Protection Aviator Sunglasses (Free Size)',\n",
       " 'UV Protection, Riding Glasses Wayfarer Sunglasses (53)',\n",
       " 'UV Protection Retro Square Sunglasses (Free Size)',\n",
       " 'UV Protection, Gradient Butterfly Sunglasses (57)',\n",
       " 'Polarized Round Sunglasses (48)',\n",
       " 'UV Protection Rectangular Sunglasses (Free Size)',\n",
       " 'by Lenskart UV Protection Aviator Sunglasses (Free Size...',\n",
       " 'UV Protection, Mirrored Aviator Sunglasses (Free Size)',\n",
       " 'Gradient, UV Protection Wayfarer Sunglasses (Free Size)',\n",
       " 'UV Protection Round Sunglasses (Free Size)',\n",
       " 'UV Protection, Gradient Retro Square Sunglasses (Free S...',\n",
       " 'UV Protection Round, Oval Sunglasses (54)',\n",
       " 'Mirrored, UV Protection Aviator Sunglasses (56)',\n",
       " 'UV Protection Round Sunglasses (Free Size)',\n",
       " 'by Lenskart Polarized, UV Protection Aviator Sunglasses...',\n",
       " 'Mirrored Aviator Sunglasses (58)',\n",
       " 'UV Protection, Others Round Sunglasses (48)',\n",
       " 'UV Protection Wrap-around Sunglasses (63)',\n",
       " 'by Lenskart Polarized, UV Protection Aviator Sunglasses...',\n",
       " 'UV Protection Round Sunglasses (Free Size)',\n",
       " 'UV Protection, Riding Glasses Rectangular, Retro Square...',\n",
       " 'UV Protection Sports Sunglasses (Free Size)',\n",
       " 'UV Protection Aviator Sunglasses (57)',\n",
       " 'UV Protection Round Sunglasses (55)',\n",
       " 'UV Protection, Gradient, Night Vision Retro Square Sung...',\n",
       " 'Gradient, UV Protection Wayfarer Sunglasses (Free Size)',\n",
       " 'by Lenskart Polarized, UV Protection Wayfarer Sunglasse...',\n",
       " 'UV Protection Clubmaster Sunglasses (Free Size)',\n",
       " 'Mirrored, Gradient, Riding Glasses Round Sunglasses (55...',\n",
       " 'Mirrored, UV Protection Wayfarer Sunglasses (Free Size)',\n",
       " 'UV Protection Wayfarer, Rectangular Sunglasses (55)',\n",
       " 'UV Protection, Gradient Butterfly, Retro Square Sunglas...',\n",
       " 'UV Protection Wayfarer Sunglasses (53)',\n",
       " 'Others Retro Square Sunglasses (Free Size)',\n",
       " 'Others Wayfarer Sunglasses (Free Size)',\n",
       " 'UV Protection Round Sunglasses (Free Size)',\n",
       " 'Gradient, Toughened Glass Lens, UV Protection Retro Squ...',\n",
       " 'UV Protection Rectangular Sunglasses (Free Size)',\n",
       " 'UV Protection Wayfarer Sunglasses (61)']"
      ]
     },
     "execution_count": 131,
     "metadata": {},
     "output_type": "execute_result"
    }
   ],
   "source": [
    "description2 =[]\n",
    "\n",
    "for i in Product_Description2:\n",
    "    description2.append(i.text)\n",
    "len(description2) \n",
    "description2"
   ]
  },
  {
   "cell_type": "code",
   "execution_count": 132,
   "metadata": {},
   "outputs": [
    {
     "data": {
      "text/plain": [
       "[<selenium.webdriver.remote.webelement.WebElement (session=\"4d73f65a650de05c8abbbd38d5be86c8\", element=\"a3e880ae-013d-46f3-a380-8b14aab52671\")>,\n",
       " <selenium.webdriver.remote.webelement.WebElement (session=\"4d73f65a650de05c8abbbd38d5be86c8\", element=\"255296d3-59d6-4891-9117-c33bc43f323e\")>,\n",
       " <selenium.webdriver.remote.webelement.WebElement (session=\"4d73f65a650de05c8abbbd38d5be86c8\", element=\"e2dc8360-6db8-4b7b-a70b-f9dc28142dbb\")>,\n",
       " <selenium.webdriver.remote.webelement.WebElement (session=\"4d73f65a650de05c8abbbd38d5be86c8\", element=\"eec101a8-223f-425e-b0a9-f6709ecf3aaf\")>,\n",
       " <selenium.webdriver.remote.webelement.WebElement (session=\"4d73f65a650de05c8abbbd38d5be86c8\", element=\"e6b0cc98-b488-40da-bee9-756564120ace\")>,\n",
       " <selenium.webdriver.remote.webelement.WebElement (session=\"4d73f65a650de05c8abbbd38d5be86c8\", element=\"5104842d-b25c-4fd4-a175-193b80849e91\")>,\n",
       " <selenium.webdriver.remote.webelement.WebElement (session=\"4d73f65a650de05c8abbbd38d5be86c8\", element=\"ceda2cf5-7a13-4333-927d-07b3ac0efc01\")>,\n",
       " <selenium.webdriver.remote.webelement.WebElement (session=\"4d73f65a650de05c8abbbd38d5be86c8\", element=\"921e3443-20cd-401f-8cce-cabe39577d54\")>,\n",
       " <selenium.webdriver.remote.webelement.WebElement (session=\"4d73f65a650de05c8abbbd38d5be86c8\", element=\"9c566afa-f4cb-4936-83a9-9ee3b39d4e27\")>,\n",
       " <selenium.webdriver.remote.webelement.WebElement (session=\"4d73f65a650de05c8abbbd38d5be86c8\", element=\"9a4dad93-06e4-4689-bf54-9ff1a3fe8149\")>,\n",
       " <selenium.webdriver.remote.webelement.WebElement (session=\"4d73f65a650de05c8abbbd38d5be86c8\", element=\"ccfcfe6f-dfb8-4f39-8118-1e5bb0309e11\")>,\n",
       " <selenium.webdriver.remote.webelement.WebElement (session=\"4d73f65a650de05c8abbbd38d5be86c8\", element=\"58983054-8ffa-4e9a-8607-431354e2fd7b\")>,\n",
       " <selenium.webdriver.remote.webelement.WebElement (session=\"4d73f65a650de05c8abbbd38d5be86c8\", element=\"6b3ca458-a8f2-4cfb-bf97-86f6fbacbcf1\")>,\n",
       " <selenium.webdriver.remote.webelement.WebElement (session=\"4d73f65a650de05c8abbbd38d5be86c8\", element=\"c7e2d6c7-5f9e-48c1-96fc-474c8a40e0f9\")>,\n",
       " <selenium.webdriver.remote.webelement.WebElement (session=\"4d73f65a650de05c8abbbd38d5be86c8\", element=\"1d6f05b8-b622-4a2e-8d6b-ef9a761a4dc1\")>,\n",
       " <selenium.webdriver.remote.webelement.WebElement (session=\"4d73f65a650de05c8abbbd38d5be86c8\", element=\"1204793a-12de-4ef6-9343-5bb9deb35e9b\")>,\n",
       " <selenium.webdriver.remote.webelement.WebElement (session=\"4d73f65a650de05c8abbbd38d5be86c8\", element=\"17bd31f0-ec92-42a4-8c7b-9c1d09260900\")>,\n",
       " <selenium.webdriver.remote.webelement.WebElement (session=\"4d73f65a650de05c8abbbd38d5be86c8\", element=\"bde8ca1e-c373-492a-9faa-9d6414a9004a\")>,\n",
       " <selenium.webdriver.remote.webelement.WebElement (session=\"4d73f65a650de05c8abbbd38d5be86c8\", element=\"928ac24a-7271-402d-a1c5-ee7cd67d0a96\")>,\n",
       " <selenium.webdriver.remote.webelement.WebElement (session=\"4d73f65a650de05c8abbbd38d5be86c8\", element=\"29bdee83-20f6-4ce1-bd7b-f2d825e015de\")>,\n",
       " <selenium.webdriver.remote.webelement.WebElement (session=\"4d73f65a650de05c8abbbd38d5be86c8\", element=\"08b3fdc2-d758-4b9e-953f-a7c4ef14f06d\")>,\n",
       " <selenium.webdriver.remote.webelement.WebElement (session=\"4d73f65a650de05c8abbbd38d5be86c8\", element=\"b2d018ef-2f4b-4507-836e-9991c7d78e81\")>,\n",
       " <selenium.webdriver.remote.webelement.WebElement (session=\"4d73f65a650de05c8abbbd38d5be86c8\", element=\"354fa360-9411-4151-b9c8-2f05eb14f75e\")>,\n",
       " <selenium.webdriver.remote.webelement.WebElement (session=\"4d73f65a650de05c8abbbd38d5be86c8\", element=\"9d4c7820-7dd4-4d6a-a3ac-4bfb0ecb8c3f\")>,\n",
       " <selenium.webdriver.remote.webelement.WebElement (session=\"4d73f65a650de05c8abbbd38d5be86c8\", element=\"47e92f20-e920-4466-bc50-2dd986dd3dc9\")>,\n",
       " <selenium.webdriver.remote.webelement.WebElement (session=\"4d73f65a650de05c8abbbd38d5be86c8\", element=\"77d98120-0cfc-47b0-bd2c-78a54c953ad6\")>,\n",
       " <selenium.webdriver.remote.webelement.WebElement (session=\"4d73f65a650de05c8abbbd38d5be86c8\", element=\"a218cdaf-86dd-46b7-9d6a-7e3b7a1bbbbd\")>,\n",
       " <selenium.webdriver.remote.webelement.WebElement (session=\"4d73f65a650de05c8abbbd38d5be86c8\", element=\"a68c3179-268b-4d15-b3c8-06d30137c95f\")>,\n",
       " <selenium.webdriver.remote.webelement.WebElement (session=\"4d73f65a650de05c8abbbd38d5be86c8\", element=\"8192d9f5-bcec-4c29-babd-a161445d5864\")>,\n",
       " <selenium.webdriver.remote.webelement.WebElement (session=\"4d73f65a650de05c8abbbd38d5be86c8\", element=\"912708de-6738-4679-a28e-7b0bdb843dab\")>,\n",
       " <selenium.webdriver.remote.webelement.WebElement (session=\"4d73f65a650de05c8abbbd38d5be86c8\", element=\"619cc3c3-abec-4f55-8f50-d5fe2cda6faf\")>,\n",
       " <selenium.webdriver.remote.webelement.WebElement (session=\"4d73f65a650de05c8abbbd38d5be86c8\", element=\"c254c33f-0288-43ad-98d9-fe19bfb8ea3b\")>,\n",
       " <selenium.webdriver.remote.webelement.WebElement (session=\"4d73f65a650de05c8abbbd38d5be86c8\", element=\"320c9f51-bc2b-4438-ac1b-94fe1c2e905e\")>,\n",
       " <selenium.webdriver.remote.webelement.WebElement (session=\"4d73f65a650de05c8abbbd38d5be86c8\", element=\"ee6b883d-51f0-4705-b05f-121c6f96673e\")>,\n",
       " <selenium.webdriver.remote.webelement.WebElement (session=\"4d73f65a650de05c8abbbd38d5be86c8\", element=\"a1d4be1a-4c6d-4cc3-9ed1-904f77a04618\")>,\n",
       " <selenium.webdriver.remote.webelement.WebElement (session=\"4d73f65a650de05c8abbbd38d5be86c8\", element=\"145a4921-a931-4d9c-8b8d-2148f2f097e8\")>,\n",
       " <selenium.webdriver.remote.webelement.WebElement (session=\"4d73f65a650de05c8abbbd38d5be86c8\", element=\"040cf428-4471-47da-8783-ef9dc0752fea\")>,\n",
       " <selenium.webdriver.remote.webelement.WebElement (session=\"4d73f65a650de05c8abbbd38d5be86c8\", element=\"4ec0fcc3-bb70-4c7a-a65b-915336181c92\")>,\n",
       " <selenium.webdriver.remote.webelement.WebElement (session=\"4d73f65a650de05c8abbbd38d5be86c8\", element=\"5d1c30fd-b63e-4be1-b899-4909770104ab\")>,\n",
       " <selenium.webdriver.remote.webelement.WebElement (session=\"4d73f65a650de05c8abbbd38d5be86c8\", element=\"c5603d95-b2a0-4c42-ba17-a489748eb531\")>]"
      ]
     },
     "execution_count": 132,
     "metadata": {},
     "output_type": "execute_result"
    }
   ],
   "source": [
    "price2 = driver.find_elements_by_xpath('//div[@class=\"_30jeq3\"]')\n",
    "price2"
   ]
  },
  {
   "cell_type": "code",
   "execution_count": 133,
   "metadata": {},
   "outputs": [
    {
     "data": {
      "text/plain": [
       "['₹359',\n",
       " '₹261',\n",
       " '₹209',\n",
       " '₹182',\n",
       " '₹664',\n",
       " '₹163',\n",
       " '₹169',\n",
       " '₹999',\n",
       " '₹235',\n",
       " '₹659',\n",
       " '₹270',\n",
       " '₹426',\n",
       " '₹266',\n",
       " '₹211',\n",
       " '₹426',\n",
       " '₹999',\n",
       " '₹359',\n",
       " '₹216',\n",
       " '₹809',\n",
       " '₹999',\n",
       " '₹233',\n",
       " '₹305',\n",
       " '₹287',\n",
       " '₹325',\n",
       " '₹899',\n",
       " '₹245',\n",
       " '₹619',\n",
       " '₹999',\n",
       " '₹287',\n",
       " '₹189',\n",
       " '₹258',\n",
       " '₹1,040',\n",
       " '₹459',\n",
       " '₹207',\n",
       " '₹538',\n",
       " '₹522',\n",
       " '₹244',\n",
       " '₹599',\n",
       " '₹319',\n",
       " '₹698']"
      ]
     },
     "execution_count": 133,
     "metadata": {},
     "output_type": "execute_result"
    }
   ],
   "source": [
    "prices2 =[]\n",
    "\n",
    "for i in price2:\n",
    "    prices2.append(i.text)\n",
    "len(prices2) \n",
    "prices2"
   ]
  },
  {
   "cell_type": "code",
   "execution_count": 134,
   "metadata": {},
   "outputs": [
    {
     "data": {
      "text/plain": [
       "(120, 120, 120)"
      ]
     },
     "execution_count": 134,
     "metadata": {},
     "output_type": "execute_result"
    }
   ],
   "source": [
    "len(brand_names+brand_names1+brand_names2),len(description+description1+description2), len(prices+prices1+prices2)"
   ]
  },
  {
   "cell_type": "code",
   "execution_count": 136,
   "metadata": {},
   "outputs": [
    {
     "data": {
      "text/html": [
       "<div>\n",
       "<style scoped>\n",
       "    .dataframe tbody tr th:only-of-type {\n",
       "        vertical-align: middle;\n",
       "    }\n",
       "\n",
       "    .dataframe tbody tr th {\n",
       "        vertical-align: top;\n",
       "    }\n",
       "\n",
       "    .dataframe thead th {\n",
       "        text-align: right;\n",
       "    }\n",
       "</style>\n",
       "<table border=\"1\" class=\"dataframe\">\n",
       "  <thead>\n",
       "    <tr style=\"text-align: right;\">\n",
       "      <th></th>\n",
       "      <th>Brand name</th>\n",
       "      <th>Product description</th>\n",
       "      <th>Prices</th>\n",
       "    </tr>\n",
       "  </thead>\n",
       "  <tbody>\n",
       "    <tr>\n",
       "      <th>0</th>\n",
       "      <td>VINCENT CHASE</td>\n",
       "      <td>by Lenskart UV Protection Aviator Sunglasses (53)</td>\n",
       "      <td>₹999</td>\n",
       "    </tr>\n",
       "    <tr>\n",
       "      <th>1</th>\n",
       "      <td>VINCENT CHASE</td>\n",
       "      <td>by Lenskart UV Protection Aviator Sunglasses (...</td>\n",
       "      <td>₹999</td>\n",
       "    </tr>\n",
       "    <tr>\n",
       "      <th>2</th>\n",
       "      <td>SRPM</td>\n",
       "      <td>UV Protection Wayfarer Sunglasses (56)</td>\n",
       "      <td>₹188</td>\n",
       "    </tr>\n",
       "    <tr>\n",
       "      <th>3</th>\n",
       "      <td>Fastrack</td>\n",
       "      <td>UV Protection Wayfarer Sunglasses (Free Size)</td>\n",
       "      <td>₹759</td>\n",
       "    </tr>\n",
       "    <tr>\n",
       "      <th>4</th>\n",
       "      <td>SHAAH COLLECTIONS</td>\n",
       "      <td>UV Protection, Polarized, Mirrored Rectangular...</td>\n",
       "      <td>₹165</td>\n",
       "    </tr>\n",
       "    <tr>\n",
       "      <th>...</th>\n",
       "      <td>...</td>\n",
       "      <td>...</td>\n",
       "      <td>...</td>\n",
       "    </tr>\n",
       "    <tr>\n",
       "      <th>95</th>\n",
       "      <td>VINCENT CHASE</td>\n",
       "      <td>by Lenskart Polarized, UV Protection Aviator S...</td>\n",
       "      <td>₹999</td>\n",
       "    </tr>\n",
       "    <tr>\n",
       "      <th>96</th>\n",
       "      <td>ROYAL SON</td>\n",
       "      <td>Mirrored Aviator Sunglasses (58)</td>\n",
       "      <td>₹359</td>\n",
       "    </tr>\n",
       "    <tr>\n",
       "      <th>97</th>\n",
       "      <td>Rich Club</td>\n",
       "      <td>UV Protection, Others Round Sunglasses (48)</td>\n",
       "      <td>₹216</td>\n",
       "    </tr>\n",
       "    <tr>\n",
       "      <th>98</th>\n",
       "      <td>Fastrack</td>\n",
       "      <td>UV Protection Wrap-around Sunglasses (63)</td>\n",
       "      <td>₹809</td>\n",
       "    </tr>\n",
       "    <tr>\n",
       "      <th>99</th>\n",
       "      <td>VINCENT CHASE</td>\n",
       "      <td>by Lenskart Polarized, UV Protection Aviator S...</td>\n",
       "      <td>₹999</td>\n",
       "    </tr>\n",
       "  </tbody>\n",
       "</table>\n",
       "<p>100 rows × 3 columns</p>\n",
       "</div>"
      ],
      "text/plain": [
       "           Brand name                                Product description  \\\n",
       "0       VINCENT CHASE  by Lenskart UV Protection Aviator Sunglasses (53)   \n",
       "1       VINCENT CHASE  by Lenskart UV Protection Aviator Sunglasses (...   \n",
       "2                SRPM             UV Protection Wayfarer Sunglasses (56)   \n",
       "3            Fastrack      UV Protection Wayfarer Sunglasses (Free Size)   \n",
       "4   SHAAH COLLECTIONS  UV Protection, Polarized, Mirrored Rectangular...   \n",
       "..                ...                                                ...   \n",
       "95      VINCENT CHASE  by Lenskart Polarized, UV Protection Aviator S...   \n",
       "96          ROYAL SON                   Mirrored Aviator Sunglasses (58)   \n",
       "97          Rich Club        UV Protection, Others Round Sunglasses (48)   \n",
       "98           Fastrack          UV Protection Wrap-around Sunglasses (63)   \n",
       "99      VINCENT CHASE  by Lenskart Polarized, UV Protection Aviator S...   \n",
       "\n",
       "   Prices  \n",
       "0    ₹999  \n",
       "1    ₹999  \n",
       "2    ₹188  \n",
       "3    ₹759  \n",
       "4    ₹165  \n",
       "..    ...  \n",
       "95   ₹999  \n",
       "96   ₹359  \n",
       "97   ₹216  \n",
       "98   ₹809  \n",
       "99   ₹999  \n",
       "\n",
       "[100 rows x 3 columns]"
      ]
     },
     "execution_count": 136,
     "metadata": {},
     "output_type": "execute_result"
    }
   ],
   "source": [
    "sunglasses = pd.DataFrame()\n",
    "sunglasses['Brand name'] = brand_names+brand_names1+brand_names2[0:20]\n",
    "sunglasses['Product description'] = description+description1+description2[0:20]\n",
    "sunglasses['Prices'] = prices+prices1+prices2[0:20]\n",
    "sunglasses\n",
    "\n"
   ]
  },
  {
   "cell_type": "markdown",
   "metadata": {},
   "source": [
    "## Q5: Scrape 100 reviews data from flipkart.com for iphone11 phone."
   ]
  },
  {
   "cell_type": "code",
   "execution_count": 16,
   "metadata": {},
   "outputs": [],
   "source": [
    "# getting the flipkart shopping site url on the web driver\n",
    "url = \"https://www.flipkart.com/apple-iphone-11-black-64-gb-includes-earpods-power-adapter/product-reviews/itm0f37c2240b217?pid=MOBFKCTSVZAXUHGR&lid=LSTMOBFKCTSVZAXUHGREPBFGI&marketplace=FLIPKART\"\n",
    "driver.get(url)"
   ]
  },
  {
   "cell_type": "code",
   "execution_count": 29,
   "metadata": {},
   "outputs": [],
   "source": [
    "url = driver.find_elements_by_xpath('//nav[@class=\"yFHi8N\"]//a')\n",
    "prod_urls=[]\n",
    "for i in url[:11]:\n",
    "    prod_urls.append(i.get_attribute('href'))"
   ]
  },
  {
   "cell_type": "code",
   "execution_count": 32,
   "metadata": {},
   "outputs": [],
   "source": [
    "# extract all the ratings for the iPhone\n",
    "phone_rating = []\n",
    "for i in prod_urls:\n",
    "    driver.get(i)\n",
    "    try:\n",
    "        prod_rating = driver.find_elements_by_xpath('//div[@class=\"_3LWZlK _1BLPMq\"]')\n",
    "        for j in prod_rating:\n",
    "            phone_rating.append(j.text)\n",
    "    except:\n",
    "        phone_rating.append(\"---\")"
   ]
  },
  {
   "cell_type": "code",
   "execution_count": 33,
   "metadata": {},
   "outputs": [],
   "source": [
    "# extract all the review summary for the iPhone\n",
    "phone_summary = []\n",
    "for i in prod_urls:\n",
    "    driver.get(i)\n",
    "    try:\n",
    "        prod_summaries = driver.find_elements_by_xpath('//p[@class=\"_2-N8zT\"]')\n",
    "        for j in prod_summaries:\n",
    "            phone_summary.append(j.text)\n",
    "    except:\n",
    "        phone_summary.append(\"---\")"
   ]
  },
  {
   "cell_type": "code",
   "execution_count": 34,
   "metadata": {},
   "outputs": [],
   "source": [
    "# extract all the complete descriptive review for the iPhone\n",
    "full_review = []\n",
    "for i in prod_urls:\n",
    "    driver.get(i)\n",
    "    try:\n",
    "        prod_reviews = driver.find_elements_by_xpath('//div[@class=\"t-ZTKy\"]')\n",
    "        for j in prod_reviews:\n",
    "            full_review.append(j.text.replace(\"\\n\",\" \"))\n",
    "    except:\n",
    "        full_review.append(\"---\")\n"
   ]
  },
  {
   "cell_type": "code",
   "execution_count": 35,
   "metadata": {},
   "outputs": [
    {
     "name": "stdout",
     "output_type": "stream",
     "text": [
      "Lengths of columns: 107 110 110\n"
     ]
    }
   ],
   "source": [
    "# checking the length to get the data frame\n",
    "print(\"Lengths of columns:\", len(phone_rating), len(phone_summary), len(full_review))\n"
   ]
  },
  {
   "cell_type": "code",
   "execution_count": 36,
   "metadata": {},
   "outputs": [
    {
     "data": {
      "text/html": [
       "<div>\n",
       "<style scoped>\n",
       "    .dataframe tbody tr th:only-of-type {\n",
       "        vertical-align: middle;\n",
       "    }\n",
       "\n",
       "    .dataframe tbody tr th {\n",
       "        vertical-align: top;\n",
       "    }\n",
       "\n",
       "    .dataframe thead th {\n",
       "        text-align: right;\n",
       "    }\n",
       "</style>\n",
       "<table border=\"1\" class=\"dataframe\">\n",
       "  <thead>\n",
       "    <tr style=\"text-align: right;\">\n",
       "      <th></th>\n",
       "      <th>iPhone Rating</th>\n",
       "      <th>iPhone Short Summary</th>\n",
       "      <th>iPhone Full Review</th>\n",
       "    </tr>\n",
       "  </thead>\n",
       "  <tbody>\n",
       "    <tr>\n",
       "      <th>0</th>\n",
       "      <td>5</td>\n",
       "      <td>Brilliant</td>\n",
       "      <td>The Best Phone for the Money  The iPhone 11 of...</td>\n",
       "    </tr>\n",
       "    <tr>\n",
       "      <th>1</th>\n",
       "      <td>5</td>\n",
       "      <td>Simply awesome</td>\n",
       "      <td>Really satisfied with the Product I received.....</td>\n",
       "    </tr>\n",
       "    <tr>\n",
       "      <th>2</th>\n",
       "      <td>5</td>\n",
       "      <td>Perfect product!</td>\n",
       "      <td>Amazing phone with great cameras and better ba...</td>\n",
       "    </tr>\n",
       "    <tr>\n",
       "      <th>3</th>\n",
       "      <td>5</td>\n",
       "      <td>Best in the market!</td>\n",
       "      <td>Great iPhone very snappy experience as apple k...</td>\n",
       "    </tr>\n",
       "    <tr>\n",
       "      <th>4</th>\n",
       "      <td>5</td>\n",
       "      <td>Worth every penny</td>\n",
       "      <td>Previously I was using one plus 3t it was a gr...</td>\n",
       "    </tr>\n",
       "    <tr>\n",
       "      <th>...</th>\n",
       "      <td>...</td>\n",
       "      <td>...</td>\n",
       "      <td>...</td>\n",
       "    </tr>\n",
       "    <tr>\n",
       "      <th>95</th>\n",
       "      <td>3</td>\n",
       "      <td>Must buy!</td>\n",
       "      <td>Camera is excellent just lack of telephoto mod...</td>\n",
       "    </tr>\n",
       "    <tr>\n",
       "      <th>96</th>\n",
       "      <td>5</td>\n",
       "      <td>Terrific purchase</td>\n",
       "      <td>I use a Note10+ and have been using both iOS a...</td>\n",
       "    </tr>\n",
       "    <tr>\n",
       "      <th>97</th>\n",
       "      <td>5</td>\n",
       "      <td>Awesome</td>\n",
       "      <td>The phone is completely good As far as camera ...</td>\n",
       "    </tr>\n",
       "    <tr>\n",
       "      <th>98</th>\n",
       "      <td>5</td>\n",
       "      <td>Decent product</td>\n",
       "      <td>Everything u ll like it when u use this iPhone...</td>\n",
       "    </tr>\n",
       "    <tr>\n",
       "      <th>99</th>\n",
       "      <td>5</td>\n",
       "      <td>Wonderful</td>\n",
       "      <td>Nice value for money good and best price I pho...</td>\n",
       "    </tr>\n",
       "  </tbody>\n",
       "</table>\n",
       "<p>100 rows × 3 columns</p>\n",
       "</div>"
      ],
      "text/plain": [
       "   iPhone Rating iPhone Short Summary  \\\n",
       "0              5            Brilliant   \n",
       "1              5       Simply awesome   \n",
       "2              5     Perfect product!   \n",
       "3              5  Best in the market!   \n",
       "4              5    Worth every penny   \n",
       "..           ...                  ...   \n",
       "95             3            Must buy!   \n",
       "96             5    Terrific purchase   \n",
       "97             5              Awesome   \n",
       "98             5       Decent product   \n",
       "99             5            Wonderful   \n",
       "\n",
       "                                   iPhone Full Review  \n",
       "0   The Best Phone for the Money  The iPhone 11 of...  \n",
       "1   Really satisfied with the Product I received.....  \n",
       "2   Amazing phone with great cameras and better ba...  \n",
       "3   Great iPhone very snappy experience as apple k...  \n",
       "4   Previously I was using one plus 3t it was a gr...  \n",
       "..                                                ...  \n",
       "95  Camera is excellent just lack of telephoto mod...  \n",
       "96  I use a Note10+ and have been using both iOS a...  \n",
       "97  The phone is completely good As far as camera ...  \n",
       "98  Everything u ll like it when u use this iPhone...  \n",
       "99  Nice value for money good and best price I pho...  \n",
       "\n",
       "[100 rows x 3 columns]"
      ]
     },
     "execution_count": 36,
     "metadata": {},
     "output_type": "execute_result"
    }
   ],
   "source": [
    "# creating the data frame now\n",
    "df = pd.DataFrame({})\n",
    "df['iPhone Rating']=phone_rating[:100]\n",
    "df['iPhone Short Summary']=phone_summary[:100]\n",
    "df['iPhone Full Review']=full_review[:100]\n",
    "df"
   ]
  },
  {
   "cell_type": "markdown",
   "metadata": {},
   "source": [
    "## Q6: Scrape data for first 100 sneakers you find when you visit flipkart.com andsearch for “sneakers” in the search field.\n",
    "You have to scrape 4 attributes of each sneaker:\n",
    "1. Brand\n",
    "2. Product Description\n",
    "3. Price"
   ]
  },
  {
   "cell_type": "code",
   "execution_count": 63,
   "metadata": {},
   "outputs": [],
   "source": [
    "# getting the flipkart shopping site url on the web driver\n",
    "url = \"https://www.flipkart.com/\"\n",
    "driver.get(url)"
   ]
  },
  {
   "cell_type": "code",
   "execution_count": 64,
   "metadata": {},
   "outputs": [],
   "source": [
    "# code to write sneakers in the search box\n",
    "search_prod = driver.find_element_by_xpath('//input[@class=\"_3704LK\"]')\n",
    "search_prod.send_keys(\"Sneakers\")"
   ]
  },
  {
   "cell_type": "code",
   "execution_count": 65,
   "metadata": {},
   "outputs": [],
   "source": [
    "# code to click on the search button\n",
    "search_btn = driver.find_element_by_xpath('//button[@class=\"L0Z3Pu\"]')\n",
    "search_btn.click()"
   ]
  },
  {
   "cell_type": "code",
   "execution_count": 66,
   "metadata": {},
   "outputs": [],
   "source": [
    "url = driver.find_elements_by_xpath('//nav[@class=\"yFHi8N\"]//a')\n",
    "\n",
    "# extract all the product search links from the above search result\n",
    "prod_urls=[]\n",
    "for i in url[:5]:\n",
    "    prod_urls.append(i.get_attribute('href'))"
   ]
  },
  {
   "cell_type": "code",
   "execution_count": 67,
   "metadata": {},
   "outputs": [],
   "source": [
    "# code to extract brand details\n",
    "brand = []\n",
    "for i in prod_urls:\n",
    "    driver.get(i)\n",
    "    try:\n",
    "        prod_brand = driver.find_elements_by_xpath('//div[@class=\"_2WkVRV\"]')\n",
    "        for j in prod_brand:\n",
    "            brand.append(j.text)\n",
    "    except:\n",
    "        brand.append(\"---\")"
   ]
  },
  {
   "cell_type": "code",
   "execution_count": 68,
   "metadata": {},
   "outputs": [],
   "source": [
    "# code to extract product description\n",
    "descriptn = []\n",
    "for i in prod_urls:\n",
    "    driver.get(i)\n",
    "    try:\n",
    "        prod_descriptn = driver.find_elements_by_xpath('//a[@class=\"IRpwTa\"]')\n",
    "        for j in prod_descriptn:\n",
    "            descriptn.append(j.text)\n",
    "    except:\n",
    "        descriptn.append(\"---\")"
   ]
  },
  {
   "cell_type": "code",
   "execution_count": 69,
   "metadata": {},
   "outputs": [],
   "source": [
    "# code to extract price of the product\n",
    "price = []\n",
    "for i in prod_urls:\n",
    "    driver.get(i)\n",
    "    try:\n",
    "        prod_price = driver.find_elements_by_xpath('//div[@class=\"_30jeq3\"]')\n",
    "        for j in prod_price:\n",
    "            price.append(j.text)\n",
    "    except:\n",
    "        price.append(\"---\")"
   ]
  },
  {
   "cell_type": "code",
   "execution_count": 70,
   "metadata": {},
   "outputs": [],
   "source": [
    "# code to extract the discount percentage\n",
    "discount = []\n",
    "for i in prod_urls:\n",
    "    driver.get(i)\n",
    "    try:\n",
    "        prod_discount = driver.find_elements_by_xpath('//div[@class=\"_3Ay6Sb\"]//span')\n",
    "        for j in prod_discount:\n",
    "            discount.append(j.text)\n",
    "    except:\n",
    "        discount.append(\"---\")"
   ]
  },
  {
   "cell_type": "code",
   "execution_count": 71,
   "metadata": {},
   "outputs": [
    {
     "name": "stdout",
     "output_type": "stream",
     "text": [
      "Lengths of columns: 200 156 200 200\n"
     ]
    }
   ],
   "source": [
    "# checking the length to get the data frame\n",
    "print(\"Lengths of columns:\", len(brand), len(descriptn), len(price), len(discount))"
   ]
  },
  {
   "cell_type": "code",
   "execution_count": 72,
   "metadata": {},
   "outputs": [
    {
     "data": {
      "text/html": [
       "<div>\n",
       "<style scoped>\n",
       "    .dataframe tbody tr th:only-of-type {\n",
       "        vertical-align: middle;\n",
       "    }\n",
       "\n",
       "    .dataframe tbody tr th {\n",
       "        vertical-align: top;\n",
       "    }\n",
       "\n",
       "    .dataframe thead th {\n",
       "        text-align: right;\n",
       "    }\n",
       "</style>\n",
       "<table border=\"1\" class=\"dataframe\">\n",
       "  <thead>\n",
       "    <tr style=\"text-align: right;\">\n",
       "      <th></th>\n",
       "      <th>Sneaker Brand</th>\n",
       "      <th>Sneaker Description</th>\n",
       "      <th>Sneaker Price</th>\n",
       "      <th>Sneaker Discount</th>\n",
       "    </tr>\n",
       "  </thead>\n",
       "  <tbody>\n",
       "    <tr>\n",
       "      <th>0</th>\n",
       "      <td>HRX by Hrithik Roshan</td>\n",
       "      <td>Sneakers For Men</td>\n",
       "      <td>₹3,218</td>\n",
       "      <td>23% off</td>\n",
       "    </tr>\n",
       "    <tr>\n",
       "      <th>1</th>\n",
       "      <td>Kirjak</td>\n",
       "      <td>men's black sneakers lace-up trendy casual Sne...</td>\n",
       "      <td>₹472</td>\n",
       "      <td>62% off</td>\n",
       "    </tr>\n",
       "    <tr>\n",
       "      <th>2</th>\n",
       "      <td>Magnolia</td>\n",
       "      <td>Sneakers For Men</td>\n",
       "      <td>₹398</td>\n",
       "      <td>60% off</td>\n",
       "    </tr>\n",
       "    <tr>\n",
       "      <th>3</th>\n",
       "      <td>luxury fashion</td>\n",
       "      <td>Luxury Fashionable casual sneaker shoes Sneake...</td>\n",
       "      <td>₹449</td>\n",
       "      <td>65% off</td>\n",
       "    </tr>\n",
       "    <tr>\n",
       "      <th>4</th>\n",
       "      <td>Extoes</td>\n",
       "      <td>Modern Trendy Shoes Combo pack of 4 Sneakers F...</td>\n",
       "      <td>₹898</td>\n",
       "      <td>40% off</td>\n",
       "    </tr>\n",
       "    <tr>\n",
       "      <th>...</th>\n",
       "      <td>...</td>\n",
       "      <td>...</td>\n",
       "      <td>...</td>\n",
       "      <td>...</td>\n",
       "    </tr>\n",
       "    <tr>\n",
       "      <th>95</th>\n",
       "      <td>Echor</td>\n",
       "      <td>CUBIC_1 Sneakers For Men</td>\n",
       "      <td>₹472</td>\n",
       "      <td>27% off</td>\n",
       "    </tr>\n",
       "    <tr>\n",
       "      <th>96</th>\n",
       "      <td>HOCKWOOD</td>\n",
       "      <td>Sneakers For Men</td>\n",
       "      <td>₹749</td>\n",
       "      <td>25% off</td>\n",
       "    </tr>\n",
       "    <tr>\n",
       "      <th>97</th>\n",
       "      <td>Bond Street By Red Tape</td>\n",
       "      <td>Sneakers For Men</td>\n",
       "      <td>₹1,259</td>\n",
       "      <td>70% off</td>\n",
       "    </tr>\n",
       "    <tr>\n",
       "      <th>98</th>\n",
       "      <td>Airland</td>\n",
       "      <td>Comfortable &amp; Ultra Light Weight Sneaker Sneak...</td>\n",
       "      <td>₹235</td>\n",
       "      <td>52% off</td>\n",
       "    </tr>\n",
       "    <tr>\n",
       "      <th>99</th>\n",
       "      <td>BLANCCY</td>\n",
       "      <td>Luxury Branded Fashionable Men's Casual Walkin...</td>\n",
       "      <td>₹499</td>\n",
       "      <td>33% off</td>\n",
       "    </tr>\n",
       "  </tbody>\n",
       "</table>\n",
       "<p>100 rows × 4 columns</p>\n",
       "</div>"
      ],
      "text/plain": [
       "              Sneaker Brand  \\\n",
       "0     HRX by Hrithik Roshan   \n",
       "1                    Kirjak   \n",
       "2                  Magnolia   \n",
       "3            luxury fashion   \n",
       "4                    Extoes   \n",
       "..                      ...   \n",
       "95                    Echor   \n",
       "96                 HOCKWOOD   \n",
       "97  Bond Street By Red Tape   \n",
       "98                  Airland   \n",
       "99                  BLANCCY   \n",
       "\n",
       "                                  Sneaker Description Sneaker Price  \\\n",
       "0                                    Sneakers For Men        ₹3,218   \n",
       "1   men's black sneakers lace-up trendy casual Sne...          ₹472   \n",
       "2                                    Sneakers For Men          ₹398   \n",
       "3   Luxury Fashionable casual sneaker shoes Sneake...          ₹449   \n",
       "4   Modern Trendy Shoes Combo pack of 4 Sneakers F...          ₹898   \n",
       "..                                                ...           ...   \n",
       "95                           CUBIC_1 Sneakers For Men          ₹472   \n",
       "96                                   Sneakers For Men          ₹749   \n",
       "97                                   Sneakers For Men        ₹1,259   \n",
       "98  Comfortable & Ultra Light Weight Sneaker Sneak...          ₹235   \n",
       "99  Luxury Branded Fashionable Men's Casual Walkin...          ₹499   \n",
       "\n",
       "   Sneaker Discount  \n",
       "0           23% off  \n",
       "1           62% off  \n",
       "2           60% off  \n",
       "3           65% off  \n",
       "4           40% off  \n",
       "..              ...  \n",
       "95          27% off  \n",
       "96          25% off  \n",
       "97          70% off  \n",
       "98          52% off  \n",
       "99          33% off  \n",
       "\n",
       "[100 rows x 4 columns]"
      ]
     },
     "execution_count": 72,
     "metadata": {},
     "output_type": "execute_result"
    }
   ],
   "source": [
    "# creating the data frame now\n",
    "df = pd.DataFrame({})\n",
    "df['Sneaker Brand']=brand[:100]\n",
    "df['Sneaker Description']=descriptn[:100]\n",
    "df['Sneaker Price']=price[:100]\n",
    "df['Sneaker Discount']=discount[:100]\n",
    "df"
   ]
  },
  {
   "cell_type": "markdown",
   "metadata": {},
   "source": [
    "## Question 7"
   ]
  },
  {
   "cell_type": "code",
   "execution_count": 87,
   "metadata": {},
   "outputs": [],
   "source": [
    "# getting the myntra shoes site url on the web driver\n",
    "url = \"https://www.myntra.com/shoes\"\n",
    "driver.get(url)"
   ]
  },
  {
   "cell_type": "code",
   "execution_count": 88,
   "metadata": {},
   "outputs": [],
   "source": [
    "# code to click on the color filter for \"Black\"\n",
    "color_filter = driver.find_element_by_xpath('/html/body/div[2]/div/div[1]/main/div[3]/div[1]/section/div/div[6]/ul/li[1]/label/div')\n",
    "color_filter.click()"
   ]
  },
  {
   "cell_type": "code",
   "execution_count": 89,
   "metadata": {},
   "outputs": [],
   "source": [
    "# code to click on the price filter for \"Rs. 5387 to Rs. 10525\" as “Rs. 6649 to Rs. 13099” is not available\n",
    "price_filter = driver.find_element_by_xpath('/html/body/div[2]/div/div[1]/main/div[3]/div[1]/section/div/div[5]/ul/li[2]/label/div')\n",
    "price_filter.click()"
   ]
  },
  {
   "cell_type": "code",
   "execution_count": 90,
   "metadata": {},
   "outputs": [],
   "source": [
    "url = driver.find_elements_by_xpath('//li[@class=\"pagination-number\"]//a')\n",
    "\n",
    "# extract all the shoe links from the above search result\n",
    "shoe_urls=[]\n",
    "for i in url[:5]:\n",
    "    shoe_urls.append(i.get_attribute('href'))"
   ]
  },
  {
   "cell_type": "code",
   "execution_count": 91,
   "metadata": {},
   "outputs": [],
   "source": [
    "# code to extract shoe brand details\n",
    "sbrand = []\n",
    "for i in shoe_urls:\n",
    "    driver.get(i)\n",
    "    try:\n",
    "        shoe_brand = driver.find_elements_by_xpath('//div[@class=\"product-productMetaInfo\"]//h3')\n",
    "        for j in shoe_brand:\n",
    "            sbrand.append(j.text)\n",
    "    except:\n",
    "        sbrand.append(\"---\")"
   ]
  },
  {
   "cell_type": "code",
   "execution_count": 92,
   "metadata": {},
   "outputs": [],
   "source": [
    "# code to extract shoe description\n",
    "sdescriptn = []\n",
    "for i in shoe_urls:\n",
    "    driver.get(i)\n",
    "    try:\n",
    "        shoe_descriptn = driver.find_elements_by_xpath('//div[@class=\"product-productMetaInfo\"]//h4')\n",
    "        for j in shoe_descriptn:\n",
    "            sdescriptn.append(j.text)\n",
    "    except:\n",
    "        sdescriptn.append(\"---\")\n",
    "description=[]\n",
    "for i in range(0, len(sdescriptn), 2):\n",
    "    description.append(sdescriptn[i])\n"
   ]
  },
  {
   "cell_type": "code",
   "execution_count": 93,
   "metadata": {},
   "outputs": [],
   "source": [
    "# code to extract shoe price\n",
    "sprice = []\n",
    "for i in shoe_urls:\n",
    "    driver.get(i)\n",
    "    try:\n",
    "        shoe_price = driver.find_elements_by_xpath('//span[@class=\"product-discountedPrice\"]')\n",
    "        for j in shoe_price:\n",
    "            sprice.append(j.text)\n",
    "    except:\n",
    "        sprice.append(\"---\")"
   ]
  },
  {
   "cell_type": "code",
   "execution_count": 94,
   "metadata": {},
   "outputs": [
    {
     "name": "stdout",
     "output_type": "stream",
     "text": [
      "Lengths of columns: 250 250 122\n"
     ]
    }
   ],
   "source": [
    "# checking the length to get the data frame\n",
    "print(\"Lengths of columns:\", len(sbrand), len(description), len(sprice))\n"
   ]
  },
  {
   "cell_type": "code",
   "execution_count": 95,
   "metadata": {},
   "outputs": [
    {
     "data": {
      "text/html": [
       "<div>\n",
       "<style scoped>\n",
       "    .dataframe tbody tr th:only-of-type {\n",
       "        vertical-align: middle;\n",
       "    }\n",
       "\n",
       "    .dataframe tbody tr th {\n",
       "        vertical-align: top;\n",
       "    }\n",
       "\n",
       "    .dataframe thead th {\n",
       "        text-align: right;\n",
       "    }\n",
       "</style>\n",
       "<table border=\"1\" class=\"dataframe\">\n",
       "  <thead>\n",
       "    <tr style=\"text-align: right;\">\n",
       "      <th></th>\n",
       "      <th>Shoe Brand</th>\n",
       "      <th>Shoe Description</th>\n",
       "      <th>Shoe Price</th>\n",
       "    </tr>\n",
       "  </thead>\n",
       "  <tbody>\n",
       "    <tr>\n",
       "      <th>0</th>\n",
       "      <td>Saint G</td>\n",
       "      <td>Leather Wedge Heeled Boots with Buckles</td>\n",
       "      <td>Rs. 13410</td>\n",
       "    </tr>\n",
       "    <tr>\n",
       "      <th>1</th>\n",
       "      <td>Saint G</td>\n",
       "      <td>Suede Party Block Heeled Boots</td>\n",
       "      <td>Rs. 13410</td>\n",
       "    </tr>\n",
       "    <tr>\n",
       "      <th>2</th>\n",
       "      <td>Saint G</td>\n",
       "      <td>Suede High-Top Flatform Heeled Boots</td>\n",
       "      <td>Rs. 12150</td>\n",
       "    </tr>\n",
       "    <tr>\n",
       "      <th>3</th>\n",
       "      <td>Saint G</td>\n",
       "      <td>Block Heeled Boots</td>\n",
       "      <td>Rs. 10500</td>\n",
       "    </tr>\n",
       "    <tr>\n",
       "      <th>4</th>\n",
       "      <td>Heel &amp; Buckle London</td>\n",
       "      <td>Suede Flatform Heeled Boots</td>\n",
       "      <td>Rs. 9546</td>\n",
       "    </tr>\n",
       "    <tr>\n",
       "      <th>...</th>\n",
       "      <td>...</td>\n",
       "      <td>...</td>\n",
       "      <td>...</td>\n",
       "    </tr>\n",
       "    <tr>\n",
       "      <th>95</th>\n",
       "      <td>Saint G</td>\n",
       "      <td>Textured Leather Heeled Boots</td>\n",
       "      <td>Rs. 10710</td>\n",
       "    </tr>\n",
       "    <tr>\n",
       "      <th>96</th>\n",
       "      <td>Heel &amp; Buckle London</td>\n",
       "      <td>Men Brown Leather Loafers</td>\n",
       "      <td>Rs. 13674</td>\n",
       "    </tr>\n",
       "    <tr>\n",
       "      <th>97</th>\n",
       "      <td>Saint G</td>\n",
       "      <td>Suede Party High-Top Block Heeled Boots</td>\n",
       "      <td>Rs. 13050</td>\n",
       "    </tr>\n",
       "    <tr>\n",
       "      <th>98</th>\n",
       "      <td>Heel &amp; Buckle London</td>\n",
       "      <td>Men Solid Leather Formal Loafers</td>\n",
       "      <td>Rs. 12905</td>\n",
       "    </tr>\n",
       "    <tr>\n",
       "      <th>99</th>\n",
       "      <td>Saint G</td>\n",
       "      <td>Textured Leather Party Kitten Heeled Boots</td>\n",
       "      <td>Rs. 7921</td>\n",
       "    </tr>\n",
       "  </tbody>\n",
       "</table>\n",
       "<p>100 rows × 3 columns</p>\n",
       "</div>"
      ],
      "text/plain": [
       "              Shoe Brand                            Shoe Description  \\\n",
       "0                Saint G     Leather Wedge Heeled Boots with Buckles   \n",
       "1                Saint G              Suede Party Block Heeled Boots   \n",
       "2                Saint G        Suede High-Top Flatform Heeled Boots   \n",
       "3                Saint G                          Block Heeled Boots   \n",
       "4   Heel & Buckle London                 Suede Flatform Heeled Boots   \n",
       "..                   ...                                         ...   \n",
       "95               Saint G               Textured Leather Heeled Boots   \n",
       "96  Heel & Buckle London                   Men Brown Leather Loafers   \n",
       "97               Saint G     Suede Party High-Top Block Heeled Boots   \n",
       "98  Heel & Buckle London            Men Solid Leather Formal Loafers   \n",
       "99               Saint G  Textured Leather Party Kitten Heeled Boots   \n",
       "\n",
       "   Shoe Price  \n",
       "0   Rs. 13410  \n",
       "1   Rs. 13410  \n",
       "2   Rs. 12150  \n",
       "3   Rs. 10500  \n",
       "4    Rs. 9546  \n",
       "..        ...  \n",
       "95  Rs. 10710  \n",
       "96  Rs. 13674  \n",
       "97  Rs. 13050  \n",
       "98  Rs. 12905  \n",
       "99   Rs. 7921  \n",
       "\n",
       "[100 rows x 3 columns]"
      ]
     },
     "execution_count": 95,
     "metadata": {},
     "output_type": "execute_result"
    }
   ],
   "source": [
    "# creating the data frame now\n",
    "df = pd.DataFrame({})\n",
    "df['Shoe Brand']=sbrand[:100]\n",
    "df['Shoe Description']=description[:100]\n",
    "df['Shoe Price']=sprice[:100]\n",
    "df"
   ]
  },
  {
   "cell_type": "markdown",
   "metadata": {},
   "source": [
    "## Question 8"
   ]
  },
  {
   "cell_type": "code",
   "execution_count": 109,
   "metadata": {},
   "outputs": [],
   "source": [
    "# getting the amazon shopping site url on the web driver\n",
    "url = \"https://www.amazon.in/\"\n",
    "driver.get(url)"
   ]
  },
  {
   "cell_type": "code",
   "execution_count": 110,
   "metadata": {},
   "outputs": [],
   "source": [
    "# code to write laptop in the search box\n",
    "search_prod = driver.find_element_by_xpath('//input[@id=\"twotabsearchtextbox\"]')\n",
    "search_prod.send_keys(\"Laptop\")"
   ]
  },
  {
   "cell_type": "code",
   "execution_count": 111,
   "metadata": {},
   "outputs": [],
   "source": [
    "# code to click on the search button\n",
    "search_btn = driver.find_element_by_xpath('//input[@id=\"nav-search-submit-button\"]')\n",
    "search_btn.click()"
   ]
  },
  {
   "cell_type": "code",
   "execution_count": 116,
   "metadata": {},
   "outputs": [],
   "source": [
    "# code to click on the CPU filter for \"Intel Core i7\"\n",
    "CPU1 = driver.find_element_by_xpath('/html/body/div[1]/div[2]/div[1]/div[2]/div/div[3]/span/div[1]/span/div/div/div[6]/ul[1]/li[2]/span/a/div/label/i')\n",
    "CPU1.click()"
   ]
  },
  {
   "cell_type": "code",
   "execution_count": 117,
   "metadata": {},
   "outputs": [],
   "source": [
    "# code to click on the CPU filter for \"Intel Core i9\"\n",
    "CPU2 = driver.find_element_by_xpath('/html/body/div[1]/div[2]/div[1]/div[2]/div/div[3]/span/div[1]/span/div/div/div[5]/ul[1]/li[2]/span/a/div/label/i')\n",
    "CPU2.click()"
   ]
  },
  {
   "cell_type": "code",
   "execution_count": 118,
   "metadata": {},
   "outputs": [],
   "source": [
    "# code to extract laptop title\n",
    "ltitle=[]\n",
    "lappy_title = driver.find_elements_by_xpath('//span[@class=\"a-size-medium a-color-base a-text-normal\"]')\n",
    "for i in lappy_title[:10]:\n",
    "    ltitle.append(i.text)\n"
   ]
  },
  {
   "cell_type": "code",
   "execution_count": 119,
   "metadata": {},
   "outputs": [],
   "source": [
    "# code to extract laptop rating\n",
    "lrating=[]\n",
    "lappy_rating = driver.find_elements_by_class_name(\"a-icon-alt\")\n",
    "for i in lappy_rating[:10]:\n",
    "    lrating.append(i.get_attribute('textContent'))"
   ]
  },
  {
   "cell_type": "code",
   "execution_count": 120,
   "metadata": {},
   "outputs": [],
   "source": [
    "# code to extract laptop price\n",
    "lprice=[]\n",
    "lappy_price = driver.find_elements_by_xpath('//span[@class=\"a-price-whole\"]')\n",
    "for i in lappy_price[:10]:\n",
    "    lprice.append(i.text)"
   ]
  },
  {
   "cell_type": "code",
   "execution_count": 123,
   "metadata": {},
   "outputs": [
    {
     "name": "stdout",
     "output_type": "stream",
     "text": [
      "Lengths of columns: 10 10 10\n"
     ]
    }
   ],
   "source": [
    " # checking the length to get the data frame\n",
    "print(\"Lengths of columns:\", len(ltitle), len(lrating), len(lprice))"
   ]
  },
  {
   "cell_type": "code",
   "execution_count": 124,
   "metadata": {},
   "outputs": [
    {
     "data": {
      "text/html": [
       "<div>\n",
       "<style scoped>\n",
       "    .dataframe tbody tr th:only-of-type {\n",
       "        vertical-align: middle;\n",
       "    }\n",
       "\n",
       "    .dataframe tbody tr th {\n",
       "        vertical-align: top;\n",
       "    }\n",
       "\n",
       "    .dataframe thead th {\n",
       "        text-align: right;\n",
       "    }\n",
       "</style>\n",
       "<table border=\"1\" class=\"dataframe\">\n",
       "  <thead>\n",
       "    <tr style=\"text-align: right;\">\n",
       "      <th></th>\n",
       "      <th>Laptop Title</th>\n",
       "      <th>Laptop Rating</th>\n",
       "      <th>Laptop Price</th>\n",
       "    </tr>\n",
       "  </thead>\n",
       "  <tbody>\n",
       "    <tr>\n",
       "      <th>0</th>\n",
       "      <td>Dell 14 (2021) i7-1195G7 2in1 Touch Screen Lap...</td>\n",
       "      <td>4.2 out of 5 stars.</td>\n",
       "      <td>94,790</td>\n",
       "    </tr>\n",
       "    <tr>\n",
       "      <th>1</th>\n",
       "      <td>HP 15s 11th Gen Intel Core i3 15.6 inches(39.6...</td>\n",
       "      <td>3.8 out of 5 stars.</td>\n",
       "      <td>41,990</td>\n",
       "    </tr>\n",
       "    <tr>\n",
       "      <th>2</th>\n",
       "      <td>Lenovo Chromebook 14e 14.0\" FHD Business Lapto...</td>\n",
       "      <td>4.4 out of 5 stars.</td>\n",
       "      <td>21,990</td>\n",
       "    </tr>\n",
       "    <tr>\n",
       "      <th>3</th>\n",
       "      <td>Lenovo IdeaPad Slim 1 Intel Celeron N4020 11.6...</td>\n",
       "      <td>4.6 out of 5 stars</td>\n",
       "      <td>27,490</td>\n",
       "    </tr>\n",
       "    <tr>\n",
       "      <th>4</th>\n",
       "      <td>AVITA Cosmos 2 in 1 Intel Celeron Dual Core 11...</td>\n",
       "      <td>3.8 out of 5 stars</td>\n",
       "      <td>16,990</td>\n",
       "    </tr>\n",
       "    <tr>\n",
       "      <th>5</th>\n",
       "      <td>HP Chromebook 14 inches Thin &amp; Light Touchscre...</td>\n",
       "      <td>3.6 out of 5 stars</td>\n",
       "      <td>26,490</td>\n",
       "    </tr>\n",
       "    <tr>\n",
       "      <th>6</th>\n",
       "      <td>Lenovo V15 Intel Celeron N4020 15.6\" FHD (1080...</td>\n",
       "      <td>4.1 out of 5 stars</td>\n",
       "      <td>28,770</td>\n",
       "    </tr>\n",
       "    <tr>\n",
       "      <th>7</th>\n",
       "      <td>HP 15s 11th Gen Intel Core i3 15.6 inches(39.6...</td>\n",
       "      <td>3.7 out of 5 stars</td>\n",
       "      <td>41,990</td>\n",
       "    </tr>\n",
       "    <tr>\n",
       "      <th>8</th>\n",
       "      <td>HP Chromebook Intel Celeron N4020 14 inches To...</td>\n",
       "      <td>3.7 out of 5 stars</td>\n",
       "      <td>25,990</td>\n",
       "    </tr>\n",
       "    <tr>\n",
       "      <th>9</th>\n",
       "      <td>ASUS VivoBook 14 (2021), Intel Core i3-1115G4 ...</td>\n",
       "      <td>3.3 out of 5 stars</td>\n",
       "      <td>39,990</td>\n",
       "    </tr>\n",
       "  </tbody>\n",
       "</table>\n",
       "</div>"
      ],
      "text/plain": [
       "                                        Laptop Title        Laptop Rating  \\\n",
       "0  Dell 14 (2021) i7-1195G7 2in1 Touch Screen Lap...  4.2 out of 5 stars.   \n",
       "1  HP 15s 11th Gen Intel Core i3 15.6 inches(39.6...  3.8 out of 5 stars.   \n",
       "2  Lenovo Chromebook 14e 14.0\" FHD Business Lapto...  4.4 out of 5 stars.   \n",
       "3  Lenovo IdeaPad Slim 1 Intel Celeron N4020 11.6...   4.6 out of 5 stars   \n",
       "4  AVITA Cosmos 2 in 1 Intel Celeron Dual Core 11...   3.8 out of 5 stars   \n",
       "5  HP Chromebook 14 inches Thin & Light Touchscre...   3.6 out of 5 stars   \n",
       "6  Lenovo V15 Intel Celeron N4020 15.6\" FHD (1080...   4.1 out of 5 stars   \n",
       "7  HP 15s 11th Gen Intel Core i3 15.6 inches(39.6...   3.7 out of 5 stars   \n",
       "8  HP Chromebook Intel Celeron N4020 14 inches To...   3.7 out of 5 stars   \n",
       "9  ASUS VivoBook 14 (2021), Intel Core i3-1115G4 ...   3.3 out of 5 stars   \n",
       "\n",
       "  Laptop Price  \n",
       "0       94,790  \n",
       "1       41,990  \n",
       "2       21,990  \n",
       "3       27,490  \n",
       "4       16,990  \n",
       "5       26,490  \n",
       "6       28,770  \n",
       "7       41,990  \n",
       "8       25,990  \n",
       "9       39,990  "
      ]
     },
     "execution_count": 124,
     "metadata": {},
     "output_type": "execute_result"
    }
   ],
   "source": [
    "# creating the data frame now\n",
    "df = pd.DataFrame({})\n",
    "df['Laptop Title']=ltitle\n",
    "df['Laptop Rating']=lrating\n",
    "df['Laptop Price']=lprice\n",
    "df"
   ]
  },
  {
   "cell_type": "markdown",
   "metadata": {},
   "source": [
    "## Question 9"
   ]
  },
  {
   "cell_type": "code",
   "execution_count": 235,
   "metadata": {},
   "outputs": [],
   "source": [
    "url = \"https://www.ambitionbox.com/\"\n",
    "driver.get(url)"
   ]
  },
  {
   "cell_type": "code",
   "execution_count": 236,
   "metadata": {},
   "outputs": [
    {
     "data": {
      "text/plain": [
       "<selenium.webdriver.remote.webelement.WebElement (session=\"33ef6c8e2d92d8127d973f2aa5a83084\", element=\"72de8a10-0cd9-497f-a604-fadf809bae34\")>"
      ]
     },
     "execution_count": 236,
     "metadata": {},
     "output_type": "execute_result"
    }
   ],
   "source": [
    "jobs =  driver.find_element_by_xpath('/html/body/div[1]/nav/nav/a[6]')\n",
    "jobs"
   ]
  },
  {
   "cell_type": "code",
   "execution_count": 237,
   "metadata": {},
   "outputs": [],
   "source": [
    "jobs.click()"
   ]
  },
  {
   "cell_type": "code",
   "execution_count": 238,
   "metadata": {},
   "outputs": [
    {
     "data": {
      "text/plain": [
       "<selenium.webdriver.remote.webelement.WebElement (session=\"33ef6c8e2d92d8127d973f2aa5a83084\", element=\"09b75cf3-4a74-4a1a-8192-9f4fb02329b2\")>"
      ]
     },
     "execution_count": 238,
     "metadata": {},
     "output_type": "execute_result"
    }
   ],
   "source": [
    "# finding web element for search  job bar\n",
    "search_job = driver.find_element_by_xpath('/html/body/div/div/div/div[2]/div[1]/div/div/div/div/span/input')\n",
    "search_job  "
   ]
  },
  {
   "cell_type": "code",
   "execution_count": 239,
   "metadata": {},
   "outputs": [],
   "source": [
    "# write on search bar\n",
    "search_job.send_keys(\"Data Scientist\")"
   ]
  },
  {
   "cell_type": "code",
   "execution_count": 240,
   "metadata": {},
   "outputs": [
    {
     "data": {
      "text/plain": [
       "<selenium.webdriver.remote.webelement.WebElement (session=\"33ef6c8e2d92d8127d973f2aa5a83084\", element=\"45449176-7b70-434f-b207-248afb865372\")>"
      ]
     },
     "execution_count": 240,
     "metadata": {},
     "output_type": "execute_result"
    }
   ],
   "source": [
    "# finding web element for search button using absolute path\n",
    "search_btn = driver.find_element_by_xpath('/html/body/div/div/div/div[2]/div[1]/div/div/div/button/span')\n",
    "search_btn"
   ]
  },
  {
   "cell_type": "code",
   "execution_count": 241,
   "metadata": {},
   "outputs": [],
   "source": [
    "search_btn.click()"
   ]
  },
  {
   "cell_type": "code",
   "execution_count": 242,
   "metadata": {},
   "outputs": [
    {
     "data": {
      "text/plain": [
       "<selenium.webdriver.remote.webelement.WebElement (session=\"33ef6c8e2d92d8127d973f2aa5a83084\", element=\"90bcf500-ae99-479f-b716-33f39d72aba2\")>"
      ]
     },
     "execution_count": 242,
     "metadata": {},
     "output_type": "execute_result"
    }
   ],
   "source": [
    "locn =driver.find_element_by_xpath('/html/body/div/div/div/div[2]/div[2]/div[1]/div/div/div/div[2]/div[1]/p')\n",
    "locn"
   ]
  },
  {
   "cell_type": "code",
   "execution_count": 243,
   "metadata": {},
   "outputs": [],
   "source": [
    "locn.click()"
   ]
  },
  {
   "cell_type": "code",
   "execution_count": 244,
   "metadata": {},
   "outputs": [
    {
     "data": {
      "text/plain": [
       "<selenium.webdriver.remote.webelement.WebElement (session=\"33ef6c8e2d92d8127d973f2aa5a83084\", element=\"93ad294c-41f9-41e1-a242-c5daf890b005\")>"
      ]
     },
     "execution_count": 244,
     "metadata": {},
     "output_type": "execute_result"
    }
   ],
   "source": [
    "# finding web element for search locn bar using absolute path\n",
    "search_locn = driver.find_element_by_xpath('/html/body/div/div/div/div[2]/div[2]/div[1]/div/div/div/div[2]/div[2]/div/div[2]/input')\n",
    "search_locn"
   ]
  },
  {
   "cell_type": "code",
   "execution_count": 245,
   "metadata": {},
   "outputs": [],
   "source": [
    "# finding web element for job location bar\n",
    "search_locn.send_keys(\"Noida\")\n"
   ]
  },
  {
   "cell_type": "code",
   "execution_count": 246,
   "metadata": {},
   "outputs": [],
   "source": [
    "search_locn.click()"
   ]
  },
  {
   "cell_type": "code",
   "execution_count": 247,
   "metadata": {},
   "outputs": [
    {
     "data": {
      "text/plain": [
       "<selenium.webdriver.remote.webelement.WebElement (session=\"33ef6c8e2d92d8127d973f2aa5a83084\", element=\"4eb40a25-267b-4d93-989c-fcfe943fa0b4\")>"
      ]
     },
     "execution_count": 247,
     "metadata": {},
     "output_type": "execute_result"
    }
   ],
   "source": [
    "location = driver.find_element_by_xpath('/html/body/div/div/div/div[2]/div[2]/div[1]/div/div/div/div[2]/div[2]/div/div[3]/div[1]/div[1]/div/label')\n",
    "location"
   ]
  },
  {
   "cell_type": "code",
   "execution_count": 248,
   "metadata": {},
   "outputs": [],
   "source": [
    "location.click()"
   ]
  },
  {
   "cell_type": "code",
   "execution_count": 273,
   "metadata": {},
   "outputs": [],
   "source": [
    "# Creating empty list\n",
    "ambitionbox_company_name = []\n",
    "ambitionbox_days_when_job_was_posted = []\n",
    "ambitionbox_rating = []"
   ]
  },
  {
   "cell_type": "code",
   "execution_count": 274,
   "metadata": {},
   "outputs": [
    {
     "data": {
      "text/plain": [
       "[<selenium.webdriver.remote.webelement.WebElement (session=\"33ef6c8e2d92d8127d973f2aa5a83084\", element=\"2a1262b9-1ef6-47ca-a53d-98fcadef1453\")>,\n",
       " <selenium.webdriver.remote.webelement.WebElement (session=\"33ef6c8e2d92d8127d973f2aa5a83084\", element=\"40cb9d53-a1f5-452b-ad0c-683f75053664\")>,\n",
       " <selenium.webdriver.remote.webelement.WebElement (session=\"33ef6c8e2d92d8127d973f2aa5a83084\", element=\"19cd7017-4c3e-43d2-9fbd-b1b7716ad030\")>,\n",
       " <selenium.webdriver.remote.webelement.WebElement (session=\"33ef6c8e2d92d8127d973f2aa5a83084\", element=\"2cf1cd3e-965c-4934-a407-5e89c42265c2\")>]"
      ]
     },
     "execution_count": 274,
     "metadata": {},
     "output_type": "execute_result"
    }
   ],
   "source": [
    "# Scraping data for company name\n",
    "ambitionbox_company_name_tag = driver.find_elements_by_xpath(\"//p[@class='company body-medium']\")\n",
    "ambitionbox_company_name_tag[0:4]"
   ]
  },
  {
   "cell_type": "code",
   "execution_count": 275,
   "metadata": {},
   "outputs": [
    {
     "data": {
      "text/plain": [
       "['Nokia Solutions and Networks India (P)Ltd.',\n",
       " 'LG Electronics India Pvt. Ltd.',\n",
       " 'Paytm',\n",
       " 'Jubilant Foodworks Limited']"
      ]
     },
     "execution_count": 275,
     "metadata": {},
     "output_type": "execute_result"
    }
   ],
   "source": [
    "# Insert all company name data into list\n",
    "for i in ambitionbox_company_name_tag:\n",
    "    ambitionbox_company_name_ = i.text\n",
    "    ambitionbox_company_name.append(ambitionbox_company_name_)\n",
    "ambitionbox_company_name[0:4]    "
   ]
  },
  {
   "cell_type": "code",
   "execution_count": 276,
   "metadata": {},
   "outputs": [
    {
     "data": {
      "text/plain": [
       "[<selenium.webdriver.remote.webelement.WebElement (session=\"33ef6c8e2d92d8127d973f2aa5a83084\", element=\"75e46b82-2dc7-48ab-abb9-1be1b9160a20\")>,\n",
       " <selenium.webdriver.remote.webelement.WebElement (session=\"33ef6c8e2d92d8127d973f2aa5a83084\", element=\"5851fcad-fd6a-4bd3-9422-2c528dd68010\")>,\n",
       " <selenium.webdriver.remote.webelement.WebElement (session=\"33ef6c8e2d92d8127d973f2aa5a83084\", element=\"453d44d6-a225-4f0c-89e2-18d8421cca48\")>,\n",
       " <selenium.webdriver.remote.webelement.WebElement (session=\"33ef6c8e2d92d8127d973f2aa5a83084\", element=\"c14f9a11-2b27-4103-adc5-774056f9ca4b\")>]"
      ]
     },
     "execution_count": 276,
     "metadata": {},
     "output_type": "execute_result"
    }
   ],
   "source": [
    "# Scraping data for no of days ago when job was posted\n",
    "ambitionbox_days_when_job_was_posted_tag = driver.find_elements_by_xpath(\"//div[@class='other-info']/span[1]\")\n",
    "ambitionbox_days_when_job_was_posted_tag[0:4]"
   ]
  },
  {
   "cell_type": "code",
   "execution_count": 277,
   "metadata": {},
   "outputs": [
    {
     "data": {
      "text/plain": [
       "['11d ago', '1mon ago', '5d ago', '22d ago']"
      ]
     },
     "execution_count": 277,
     "metadata": {},
     "output_type": "execute_result"
    }
   ],
   "source": [
    "# Insert all no of days into list\n",
    "for i in ambitionbox_days_when_job_was_posted_tag:\n",
    "    ambitionbox_days_when_job_was_posted_ = i.text\n",
    "    ambitionbox_days_when_job_was_posted.append(ambitionbox_days_when_job_was_posted_)\n",
    "ambitionbox_days_when_job_was_posted[0:4]    "
   ]
  },
  {
   "cell_type": "code",
   "execution_count": 278,
   "metadata": {},
   "outputs": [
    {
     "data": {
      "text/plain": [
       "[<selenium.webdriver.remote.webelement.WebElement (session=\"33ef6c8e2d92d8127d973f2aa5a83084\", element=\"3408cbeb-b344-4739-919f-8fe83eec79a3\")>,\n",
       " <selenium.webdriver.remote.webelement.WebElement (session=\"33ef6c8e2d92d8127d973f2aa5a83084\", element=\"4c493320-6e60-46aa-8141-499aad823138\")>,\n",
       " <selenium.webdriver.remote.webelement.WebElement (session=\"33ef6c8e2d92d8127d973f2aa5a83084\", element=\"c5871a50-0746-4705-99a5-1578f61959d4\")>,\n",
       " <selenium.webdriver.remote.webelement.WebElement (session=\"33ef6c8e2d92d8127d973f2aa5a83084\", element=\"c26d0d73-b896-409b-8f1a-685d1f108a7d\")>]"
      ]
     },
     "execution_count": 278,
     "metadata": {},
     "output_type": "execute_result"
    }
   ],
   "source": [
    "# Scraping data for company rating\n",
    "ambitionbox_rating_tag = driver.find_elements_by_xpath(\"//span[@class='body-small']\")\n",
    "ambitionbox_rating_tag[0:4]"
   ]
  },
  {
   "cell_type": "code",
   "execution_count": 279,
   "metadata": {},
   "outputs": [
    {
     "data": {
      "text/plain": [
       "['4.3', '4.1', '3.7', '3.9']"
      ]
     },
     "execution_count": 279,
     "metadata": {},
     "output_type": "execute_result"
    }
   ],
   "source": [
    "# Insert all rating data into list\n",
    "for i in ambitionbox_rating_tag:\n",
    "    ambitionbox_rating_ = i.text\n",
    "    ambitionbox_rating.append(ambitionbox_rating_)\n",
    "ambitionbox_rating[0:4]    "
   ]
  },
  {
   "cell_type": "code",
   "execution_count": 280,
   "metadata": {},
   "outputs": [
    {
     "name": "stdout",
     "output_type": "stream",
     "text": [
      "10 10 10\n"
     ]
    }
   ],
   "source": [
    "# Print the length of each list\n",
    "print(len(ambitionbox_company_name),len(ambitionbox_days_when_job_was_posted),len(ambitionbox_rating))"
   ]
  },
  {
   "cell_type": "code",
   "execution_count": 281,
   "metadata": {},
   "outputs": [],
   "source": [
    "# Creating empty data frame\n",
    "ambitionbox_9 = pd.DataFrame({})\n",
    "\n",
    "# Adding column into data frame\n",
    "ambitionbox_9['Company Name'] = ambitionbox_company_name\n",
    "ambitionbox_9['No. Of Days Ago When Job Was Posted'] = ambitionbox_days_when_job_was_posted\n",
    "ambitionbox_9['Rating Of The Company'] = ambitionbox_rating"
   ]
  },
  {
   "cell_type": "code",
   "execution_count": 282,
   "metadata": {},
   "outputs": [
    {
     "data": {
      "text/html": [
       "<div>\n",
       "<style scoped>\n",
       "    .dataframe tbody tr th:only-of-type {\n",
       "        vertical-align: middle;\n",
       "    }\n",
       "\n",
       "    .dataframe tbody tr th {\n",
       "        vertical-align: top;\n",
       "    }\n",
       "\n",
       "    .dataframe thead th {\n",
       "        text-align: right;\n",
       "    }\n",
       "</style>\n",
       "<table border=\"1\" class=\"dataframe\">\n",
       "  <thead>\n",
       "    <tr style=\"text-align: right;\">\n",
       "      <th></th>\n",
       "      <th>Company Name</th>\n",
       "      <th>No. Of Days Ago When Job Was Posted</th>\n",
       "      <th>Rating Of The Company</th>\n",
       "    </tr>\n",
       "  </thead>\n",
       "  <tbody>\n",
       "    <tr>\n",
       "      <th>0</th>\n",
       "      <td>Nokia Solutions and Networks India (P)Ltd.</td>\n",
       "      <td>11d ago</td>\n",
       "      <td>4.3</td>\n",
       "    </tr>\n",
       "    <tr>\n",
       "      <th>1</th>\n",
       "      <td>LG Electronics India Pvt. Ltd.</td>\n",
       "      <td>1mon ago</td>\n",
       "      <td>4.1</td>\n",
       "    </tr>\n",
       "    <tr>\n",
       "      <th>2</th>\n",
       "      <td>Paytm</td>\n",
       "      <td>5d ago</td>\n",
       "      <td>3.7</td>\n",
       "    </tr>\n",
       "    <tr>\n",
       "      <th>3</th>\n",
       "      <td>Jubilant Foodworks Limited</td>\n",
       "      <td>22d ago</td>\n",
       "      <td>3.9</td>\n",
       "    </tr>\n",
       "    <tr>\n",
       "      <th>4</th>\n",
       "      <td>CHT Sapiense</td>\n",
       "      <td>6d ago</td>\n",
       "      <td>3.7</td>\n",
       "    </tr>\n",
       "    <tr>\n",
       "      <th>5</th>\n",
       "      <td>CHT Sapiense</td>\n",
       "      <td>7d ago</td>\n",
       "      <td>3.7</td>\n",
       "    </tr>\n",
       "    <tr>\n",
       "      <th>6</th>\n",
       "      <td>GI Group</td>\n",
       "      <td>18d ago</td>\n",
       "      <td>4.1</td>\n",
       "    </tr>\n",
       "    <tr>\n",
       "      <th>7</th>\n",
       "      <td>GI Group</td>\n",
       "      <td>18d ago</td>\n",
       "      <td>4.1</td>\n",
       "    </tr>\n",
       "    <tr>\n",
       "      <th>8</th>\n",
       "      <td>GI Group</td>\n",
       "      <td>18d ago</td>\n",
       "      <td>4.1</td>\n",
       "    </tr>\n",
       "    <tr>\n",
       "      <th>9</th>\n",
       "      <td>Paytm</td>\n",
       "      <td>26d ago</td>\n",
       "      <td>3.7</td>\n",
       "    </tr>\n",
       "  </tbody>\n",
       "</table>\n",
       "</div>"
      ],
      "text/plain": [
       "                                 Company Name  \\\n",
       "0  Nokia Solutions and Networks India (P)Ltd.   \n",
       "1              LG Electronics India Pvt. Ltd.   \n",
       "2                                       Paytm   \n",
       "3                  Jubilant Foodworks Limited   \n",
       "4                                CHT Sapiense   \n",
       "5                                CHT Sapiense   \n",
       "6                                    GI Group   \n",
       "7                                    GI Group   \n",
       "8                                    GI Group   \n",
       "9                                       Paytm   \n",
       "\n",
       "  No. Of Days Ago When Job Was Posted Rating Of The Company  \n",
       "0                             11d ago                   4.3  \n",
       "1                            1mon ago                   4.1  \n",
       "2                              5d ago                   3.7  \n",
       "3                             22d ago                   3.9  \n",
       "4                              6d ago                   3.7  \n",
       "5                              7d ago                   3.7  \n",
       "6                             18d ago                   4.1  \n",
       "7                             18d ago                   4.1  \n",
       "8                             18d ago                   4.1  \n",
       "9                             26d ago                   3.7  "
      ]
     },
     "execution_count": 282,
     "metadata": {},
     "output_type": "execute_result"
    }
   ],
   "source": [
    "# Displaying data frame\n",
    "ambitionbox_9"
   ]
  },
  {
   "cell_type": "markdown",
   "metadata": {},
   "source": [
    "## Question 10"
   ]
  },
  {
   "cell_type": "code",
   "execution_count": 283,
   "metadata": {},
   "outputs": [],
   "source": [
    "# Open url by driver\n",
    "driver.get('https://www.ambitionbox.com/')"
   ]
  },
  {
   "cell_type": "code",
   "execution_count": 284,
   "metadata": {},
   "outputs": [],
   "source": [
    "# Clicking the salary option\n",
    "driver.find_element_by_xpath(\"//a[@class='link salaries']\").click()"
   ]
  },
  {
   "cell_type": "code",
   "execution_count": 285,
   "metadata": {},
   "outputs": [],
   "source": [
    "# Entering the 'Data Scientist' in 'Search Job Profile'\n",
    "search_job = driver.find_element_by_id('jobProfileSearchbox')\n",
    "search_job.send_keys('Data Scientist')"
   ]
  },
  {
   "cell_type": "code",
   "execution_count": 286,
   "metadata": {},
   "outputs": [],
   "source": [
    "# After entering clicking on 'Data Scientist'\n",
    "driver.find_element_by_xpath(\"//p[@class='tt_text']\").click()"
   ]
  },
  {
   "cell_type": "code",
   "execution_count": 287,
   "metadata": {},
   "outputs": [],
   "source": [
    "# Creating empty list\n",
    "ambitionbox_salary_company_name = []\n",
    "ambitionbox_salary_record = []\n",
    "ambitionbox_salary_avg = []\n",
    "ambitionbox_salary_max = []\n",
    "ambitionbox_salary_min = []"
   ]
  },
  {
   "cell_type": "code",
   "execution_count": 288,
   "metadata": {},
   "outputs": [
    {
     "data": {
      "text/plain": [
       "[<selenium.webdriver.remote.webelement.WebElement (session=\"33ef6c8e2d92d8127d973f2aa5a83084\", element=\"d1d57926-2128-4a1e-a541-df353c87be19\")>,\n",
       " <selenium.webdriver.remote.webelement.WebElement (session=\"33ef6c8e2d92d8127d973f2aa5a83084\", element=\"6771ad94-af58-4143-81f2-f3d4b373da05\")>,\n",
       " <selenium.webdriver.remote.webelement.WebElement (session=\"33ef6c8e2d92d8127d973f2aa5a83084\", element=\"d9c431f6-16dc-4412-8c96-063045dab1bd\")>,\n",
       " <selenium.webdriver.remote.webelement.WebElement (session=\"33ef6c8e2d92d8127d973f2aa5a83084\", element=\"3f6efcaf-b8e8-41a8-b086-814c300e5216\")>]"
      ]
     },
     "execution_count": 288,
     "metadata": {},
     "output_type": "execute_result"
    }
   ],
   "source": [
    "# Scraping data for company name\n",
    "ambitionbox_salary_company_name_tag = driver.find_elements_by_xpath(\"//div[@class='name']/a[1]\")\n",
    "ambitionbox_salary_company_name_tag[0:4]"
   ]
  },
  {
   "cell_type": "code",
   "execution_count": 289,
   "metadata": {},
   "outputs": [
    {
     "data": {
      "text/plain": [
       "['Walmart', 'Ab Inbev', 'ZS', 'Fractal Analytics']"
      ]
     },
     "execution_count": 289,
     "metadata": {},
     "output_type": "execute_result"
    }
   ],
   "source": [
    "# Insert all company name data into list\n",
    "for i in ambitionbox_salary_company_name_tag:\n",
    "    ambitionbox_salary_company_name_ = i.text\n",
    "    ambitionbox_salary_company_name.append(ambitionbox_salary_company_name_)\n",
    "ambitionbox_salary_company_name[0:4]    "
   ]
  },
  {
   "cell_type": "code",
   "execution_count": 290,
   "metadata": {},
   "outputs": [
    {
     "data": {
      "text/plain": [
       "[<selenium.webdriver.remote.webelement.WebElement (session=\"33ef6c8e2d92d8127d973f2aa5a83084\", element=\"bcd513c5-fcc7-4d9c-8809-d3a7e05c9256\")>,\n",
       " <selenium.webdriver.remote.webelement.WebElement (session=\"33ef6c8e2d92d8127d973f2aa5a83084\", element=\"fb50edd0-5278-4296-803d-7e74f6085541\")>,\n",
       " <selenium.webdriver.remote.webelement.WebElement (session=\"33ef6c8e2d92d8127d973f2aa5a83084\", element=\"66378f71-a063-486e-9e97-3e7e117484a6\")>,\n",
       " <selenium.webdriver.remote.webelement.WebElement (session=\"33ef6c8e2d92d8127d973f2aa5a83084\", element=\"2653c135-aede-4894-a305-2240b4f2087b\")>]"
      ]
     },
     "execution_count": 290,
     "metadata": {},
     "output_type": "execute_result"
    }
   ],
   "source": [
    "# Scraping data for total salary record\n",
    "ambitionbox_salary_record_tag = driver.find_elements_by_xpath(\"//div[@class='name']/span[1]\")\n",
    "ambitionbox_salary_record_tag[0:4]"
   ]
  },
  {
   "cell_type": "code",
   "execution_count": 291,
   "metadata": {},
   "outputs": [
    {
     "data": {
      "text/plain": [
       "['based on 10 salaries',\n",
       " 'based on 22 salaries',\n",
       " 'based on 14 salaries',\n",
       " 'based on 72 salaries']"
      ]
     },
     "execution_count": 291,
     "metadata": {},
     "output_type": "execute_result"
    }
   ],
   "source": [
    "# Insert all total salary record into list\n",
    "for i in ambitionbox_salary_record_tag:\n",
    "    ambitionbox_salary_record_ = i.text\n",
    "    ambitionbox_salary_record.append(ambitionbox_salary_record_)\n",
    "ambitionbox_salary_record[0:4]    "
   ]
  },
  {
   "cell_type": "code",
   "execution_count": 292,
   "metadata": {},
   "outputs": [],
   "source": [
    "# Creating empty list for required experience\n",
    "ambitionbox_salary_experience_required = []"
   ]
  },
  {
   "cell_type": "code",
   "execution_count": 293,
   "metadata": {},
   "outputs": [
    {
     "data": {
      "text/plain": [
       "[<selenium.webdriver.remote.webelement.WebElement (session=\"33ef6c8e2d92d8127d973f2aa5a83084\", element=\"dcd8b18c-9776-467d-b240-7e1031bd96a5\")>,\n",
       " <selenium.webdriver.remote.webelement.WebElement (session=\"33ef6c8e2d92d8127d973f2aa5a83084\", element=\"bce6820a-0fa1-446e-a468-226825dd605a\")>,\n",
       " <selenium.webdriver.remote.webelement.WebElement (session=\"33ef6c8e2d92d8127d973f2aa5a83084\", element=\"b3b01dfa-2650-477a-9913-8b6655220e36\")>,\n",
       " <selenium.webdriver.remote.webelement.WebElement (session=\"33ef6c8e2d92d8127d973f2aa5a83084\", element=\"2a63141e-2fb0-4cca-ba00-6abd2ae8218a\")>]"
      ]
     },
     "execution_count": 293,
     "metadata": {},
     "output_type": "execute_result"
    }
   ],
   "source": [
    "# Scraping data for required experience\n",
    "ambitionbox_salary_experience_required_tag = driver.find_elements_by_xpath(\"//div[@class='salaries sbold-list-header']\")\n",
    "ambitionbox_salary_experience_required_tag[0:4]"
   ]
  },
  {
   "cell_type": "code",
   "execution_count": 294,
   "metadata": {},
   "outputs": [
    {
     "data": {
      "text/plain": [
       "['Data Scientist\\n . \\n3 yrs exp',\n",
       " 'Data Scientist\\n . \\n3-4 yrs exp',\n",
       " 'Data Scientist\\n . \\n2 yrs exp',\n",
       " 'Data Scientist\\n . \\n2-4 yrs exp']"
      ]
     },
     "execution_count": 294,
     "metadata": {},
     "output_type": "execute_result"
    }
   ],
   "source": [
    "# Insert all required experience data into list\n",
    "for i in ambitionbox_salary_experience_required_tag:\n",
    "    ambitionbox_salary_experience_required_ = i.text\n",
    "    ambitionbox_salary_experience_required.append(ambitionbox_salary_experience_required_)\n",
    "ambitionbox_salary_experience_required[0:4]    "
   ]
  },
  {
   "cell_type": "code",
   "execution_count": 295,
   "metadata": {},
   "outputs": [
    {
     "data": {
      "text/plain": [
       "[<selenium.webdriver.remote.webelement.WebElement (session=\"33ef6c8e2d92d8127d973f2aa5a83084\", element=\"13714a2b-7d76-4fa4-a4d0-ee096d4d77ca\")>,\n",
       " <selenium.webdriver.remote.webelement.WebElement (session=\"33ef6c8e2d92d8127d973f2aa5a83084\", element=\"4a411383-3d7e-4fa6-bda8-c173b6f8649a\")>,\n",
       " <selenium.webdriver.remote.webelement.WebElement (session=\"33ef6c8e2d92d8127d973f2aa5a83084\", element=\"7f7fbf17-68af-41c3-81e1-0ad9a2c87e44\")>,\n",
       " <selenium.webdriver.remote.webelement.WebElement (session=\"33ef6c8e2d92d8127d973f2aa5a83084\", element=\"e016e52a-3752-4955-9ff4-432b8e63e268\")>]"
      ]
     },
     "execution_count": 295,
     "metadata": {},
     "output_type": "execute_result"
    }
   ],
   "source": [
    "# Scraping data for minimum salary\n",
    "ambitionbox_salary_min_tag = driver.find_elements_by_xpath(\"//div[@class='salary-values']/div[1]\")\n",
    "ambitionbox_salary_min_tag[0:4]"
   ]
  },
  {
   "cell_type": "code",
   "execution_count": 296,
   "metadata": {},
   "outputs": [
    {
     "data": {
      "text/plain": [
       "['₹ 17.7L', '₹ 15.0L', '₹ 9.8L', '₹ 9.5L']"
      ]
     },
     "execution_count": 296,
     "metadata": {},
     "output_type": "execute_result"
    }
   ],
   "source": [
    "# Insert all minimum salary data into list\n",
    "for i in ambitionbox_salary_min_tag:\n",
    "    ambitionbox_salary_min_ = i.text\n",
    "    ambitionbox_salary_min.append(ambitionbox_salary_min_)\n",
    "ambitionbox_salary_min[0:4]   "
   ]
  },
  {
   "cell_type": "code",
   "execution_count": 297,
   "metadata": {},
   "outputs": [
    {
     "data": {
      "text/plain": [
       "[<selenium.webdriver.remote.webelement.WebElement (session=\"33ef6c8e2d92d8127d973f2aa5a83084\", element=\"4ed03054-6b77-424f-8ecb-5f75fa12836e\")>,\n",
       " <selenium.webdriver.remote.webelement.WebElement (session=\"33ef6c8e2d92d8127d973f2aa5a83084\", element=\"b9e0950a-4d44-4311-b3de-b8462735d10a\")>,\n",
       " <selenium.webdriver.remote.webelement.WebElement (session=\"33ef6c8e2d92d8127d973f2aa5a83084\", element=\"2bc85982-0d0f-46bd-8505-288400f1b6db\")>,\n",
       " <selenium.webdriver.remote.webelement.WebElement (session=\"33ef6c8e2d92d8127d973f2aa5a83084\", element=\"aebba3bc-3efe-4c5b-b2bb-ac825e189e83\")>]"
      ]
     },
     "execution_count": 297,
     "metadata": {},
     "output_type": "execute_result"
    }
   ],
   "source": [
    "# Scraping data for maximum salary\n",
    "ambitionbox_salary_max_tag = driver.find_elements_by_xpath(\"//div[@class='salary-values']/div[2]\")\n",
    "ambitionbox_salary_max_tag[0:4]"
   ]
  },
  {
   "cell_type": "code",
   "execution_count": 298,
   "metadata": {},
   "outputs": [
    {
     "data": {
      "text/plain": [
       "['₹ 35.0L', '₹ 25.0L', '₹ 20.0L', '₹ 22.0L']"
      ]
     },
     "execution_count": 298,
     "metadata": {},
     "output_type": "execute_result"
    }
   ],
   "source": [
    "# Insert all maximum salary data into list\n",
    "for i in ambitionbox_salary_max_tag:\n",
    "    ambitionbox_salary_max_ = i.text\n",
    "    ambitionbox_salary_max.append(ambitionbox_salary_max_)\n",
    "ambitionbox_salary_max[0:4]    "
   ]
  },
  {
   "cell_type": "code",
   "execution_count": 299,
   "metadata": {},
   "outputs": [
    {
     "data": {
      "text/plain": [
       "[<selenium.webdriver.remote.webelement.WebElement (session=\"33ef6c8e2d92d8127d973f2aa5a83084\", element=\"4a1ea4cc-eac2-43c5-813f-1282ccadaefa\")>,\n",
       " <selenium.webdriver.remote.webelement.WebElement (session=\"33ef6c8e2d92d8127d973f2aa5a83084\", element=\"17762115-9353-4cca-9dfa-ffd8fc8ab628\")>,\n",
       " <selenium.webdriver.remote.webelement.WebElement (session=\"33ef6c8e2d92d8127d973f2aa5a83084\", element=\"e4fc07b8-51af-4e13-ad16-acd83bc6296e\")>,\n",
       " <selenium.webdriver.remote.webelement.WebElement (session=\"33ef6c8e2d92d8127d973f2aa5a83084\", element=\"c3e13f87-6439-4dee-867e-5ff967d625cc\")>]"
      ]
     },
     "execution_count": 299,
     "metadata": {},
     "output_type": "execute_result"
    }
   ],
   "source": [
    "# Scraping data for average salary\n",
    "ambitionbox_salary_avg_tag = driver.find_elements_by_xpath(\"//p[@class='averageCtc']\")\n",
    "ambitionbox_salary_avg_tag[0:4]"
   ]
  },
  {
   "cell_type": "code",
   "execution_count": 300,
   "metadata": {},
   "outputs": [
    {
     "data": {
      "text/plain": [
       "['₹ 28.7L', '₹ 19.5L', '₹ 15.8L', '₹ 15.0L']"
      ]
     },
     "execution_count": 300,
     "metadata": {},
     "output_type": "execute_result"
    }
   ],
   "source": [
    "# Insert all average salary data into list\n",
    "for i in ambitionbox_salary_avg_tag:\n",
    "    ambitionbox_salary_avg_ = i.text\n",
    "    ambitionbox_salary_avg.append(ambitionbox_salary_avg_)\n",
    "ambitionbox_salary_avg[0:4]   "
   ]
  },
  {
   "cell_type": "code",
   "execution_count": 301,
   "metadata": {},
   "outputs": [],
   "source": [
    "# Creating empty data frame\n",
    "ambitionbox_salary_comparision = pd.DataFrame({})\n",
    "\n",
    "# Adding column into data frame\n",
    "ambitionbox_salary_comparision['Company Name'] = ambitionbox_salary_company_name\n",
    "ambitionbox_salary_comparision['Total Salary Record'] = ambitionbox_salary_record\n",
    "ambitionbox_salary_comparision['Average Salary'] = ambitionbox_salary_avg\n",
    "ambitionbox_salary_comparision['Minimum Salary'] = ambitionbox_salary_min\n",
    "ambitionbox_salary_comparision['Maximum Salary'] = ambitionbox_salary_max\n",
    "ambitionbox_salary_comparision['Experience Required'] = ambitionbox_salary_experience_required"
   ]
  },
  {
   "cell_type": "code",
   "execution_count": 302,
   "metadata": {},
   "outputs": [
    {
     "data": {
      "text/html": [
       "<div>\n",
       "<style scoped>\n",
       "    .dataframe tbody tr th:only-of-type {\n",
       "        vertical-align: middle;\n",
       "    }\n",
       "\n",
       "    .dataframe tbody tr th {\n",
       "        vertical-align: top;\n",
       "    }\n",
       "\n",
       "    .dataframe thead th {\n",
       "        text-align: right;\n",
       "    }\n",
       "</style>\n",
       "<table border=\"1\" class=\"dataframe\">\n",
       "  <thead>\n",
       "    <tr style=\"text-align: right;\">\n",
       "      <th></th>\n",
       "      <th>Company Name</th>\n",
       "      <th>Total Salary Record</th>\n",
       "      <th>Average Salary</th>\n",
       "      <th>Minimum Salary</th>\n",
       "      <th>Maximum Salary</th>\n",
       "      <th>Experience Required</th>\n",
       "    </tr>\n",
       "  </thead>\n",
       "  <tbody>\n",
       "    <tr>\n",
       "      <th>0</th>\n",
       "      <td>Walmart</td>\n",
       "      <td>based on 10 salaries</td>\n",
       "      <td>₹ 28.7L</td>\n",
       "      <td>₹ 17.7L</td>\n",
       "      <td>₹ 35.0L</td>\n",
       "      <td>Data Scientist\\n . \\n3 yrs exp</td>\n",
       "    </tr>\n",
       "    <tr>\n",
       "      <th>1</th>\n",
       "      <td>Ab Inbev</td>\n",
       "      <td>based on 22 salaries</td>\n",
       "      <td>₹ 19.5L</td>\n",
       "      <td>₹ 15.0L</td>\n",
       "      <td>₹ 25.0L</td>\n",
       "      <td>Data Scientist\\n . \\n3-4 yrs exp</td>\n",
       "    </tr>\n",
       "    <tr>\n",
       "      <th>2</th>\n",
       "      <td>ZS</td>\n",
       "      <td>based on 14 salaries</td>\n",
       "      <td>₹ 15.8L</td>\n",
       "      <td>₹ 9.8L</td>\n",
       "      <td>₹ 20.0L</td>\n",
       "      <td>Data Scientist\\n . \\n2 yrs exp</td>\n",
       "    </tr>\n",
       "    <tr>\n",
       "      <th>3</th>\n",
       "      <td>Fractal Analytics</td>\n",
       "      <td>based on 72 salaries</td>\n",
       "      <td>₹ 15.0L</td>\n",
       "      <td>₹ 9.5L</td>\n",
       "      <td>₹ 22.0L</td>\n",
       "      <td>Data Scientist\\n . \\n2-4 yrs exp</td>\n",
       "    </tr>\n",
       "    <tr>\n",
       "      <th>4</th>\n",
       "      <td>Optum</td>\n",
       "      <td>based on 23 salaries</td>\n",
       "      <td>₹ 15.0L</td>\n",
       "      <td>₹ 11.0L</td>\n",
       "      <td>₹ 21.3L</td>\n",
       "      <td>Data Scientist\\n . \\n3-4 yrs exp</td>\n",
       "    </tr>\n",
       "    <tr>\n",
       "      <th>5</th>\n",
       "      <td>UnitedHealth</td>\n",
       "      <td>based on 49 salaries</td>\n",
       "      <td>₹ 13.5L</td>\n",
       "      <td>₹ 7.2L</td>\n",
       "      <td>₹ 20.5L</td>\n",
       "      <td>Data Scientist\\n . \\n2-4 yrs exp</td>\n",
       "    </tr>\n",
       "    <tr>\n",
       "      <th>6</th>\n",
       "      <td>Tiger Analytics</td>\n",
       "      <td>based on 27 salaries</td>\n",
       "      <td>₹ 13.5L</td>\n",
       "      <td>₹ 8.3L</td>\n",
       "      <td>₹ 18.5L</td>\n",
       "      <td>Data Scientist\\n . \\n3-4 yrs exp</td>\n",
       "    </tr>\n",
       "    <tr>\n",
       "      <th>7</th>\n",
       "      <td>Verizon</td>\n",
       "      <td>based on 14 salaries</td>\n",
       "      <td>₹ 12.7L</td>\n",
       "      <td>₹ 10.0L</td>\n",
       "      <td>₹ 21.0L</td>\n",
       "      <td>Data Scientist\\n . \\n4 yrs exp</td>\n",
       "    </tr>\n",
       "    <tr>\n",
       "      <th>8</th>\n",
       "      <td>Ganit Business Solutions</td>\n",
       "      <td>based on 13 salaries</td>\n",
       "      <td>₹ 12.4L</td>\n",
       "      <td>₹ 8.5L</td>\n",
       "      <td>₹ 15.0L</td>\n",
       "      <td>Data Scientist\\n . \\n4 yrs exp</td>\n",
       "    </tr>\n",
       "    <tr>\n",
       "      <th>9</th>\n",
       "      <td>Ericsson</td>\n",
       "      <td>based on 42 salaries</td>\n",
       "      <td>₹ 11.9L</td>\n",
       "      <td>₹ 5.8L</td>\n",
       "      <td>₹ 21.5L</td>\n",
       "      <td>Data Scientist\\n . \\n3-4 yrs exp</td>\n",
       "    </tr>\n",
       "  </tbody>\n",
       "</table>\n",
       "</div>"
      ],
      "text/plain": [
       "               Company Name   Total Salary Record Average Salary  \\\n",
       "0                   Walmart  based on 10 salaries        ₹ 28.7L   \n",
       "1                  Ab Inbev  based on 22 salaries        ₹ 19.5L   \n",
       "2                        ZS  based on 14 salaries        ₹ 15.8L   \n",
       "3         Fractal Analytics  based on 72 salaries        ₹ 15.0L   \n",
       "4                     Optum  based on 23 salaries        ₹ 15.0L   \n",
       "5              UnitedHealth  based on 49 salaries        ₹ 13.5L   \n",
       "6           Tiger Analytics  based on 27 salaries        ₹ 13.5L   \n",
       "7                   Verizon  based on 14 salaries        ₹ 12.7L   \n",
       "8  Ganit Business Solutions  based on 13 salaries        ₹ 12.4L   \n",
       "9                  Ericsson  based on 42 salaries        ₹ 11.9L   \n",
       "\n",
       "  Minimum Salary Maximum Salary               Experience Required  \n",
       "0        ₹ 17.7L        ₹ 35.0L    Data Scientist\\n . \\n3 yrs exp  \n",
       "1        ₹ 15.0L        ₹ 25.0L  Data Scientist\\n . \\n3-4 yrs exp  \n",
       "2         ₹ 9.8L        ₹ 20.0L    Data Scientist\\n . \\n2 yrs exp  \n",
       "3         ₹ 9.5L        ₹ 22.0L  Data Scientist\\n . \\n2-4 yrs exp  \n",
       "4        ₹ 11.0L        ₹ 21.3L  Data Scientist\\n . \\n3-4 yrs exp  \n",
       "5         ₹ 7.2L        ₹ 20.5L  Data Scientist\\n . \\n2-4 yrs exp  \n",
       "6         ₹ 8.3L        ₹ 18.5L  Data Scientist\\n . \\n3-4 yrs exp  \n",
       "7        ₹ 10.0L        ₹ 21.0L    Data Scientist\\n . \\n4 yrs exp  \n",
       "8         ₹ 8.5L        ₹ 15.0L    Data Scientist\\n . \\n4 yrs exp  \n",
       "9         ₹ 5.8L        ₹ 21.5L  Data Scientist\\n . \\n3-4 yrs exp  "
      ]
     },
     "execution_count": 302,
     "metadata": {},
     "output_type": "execute_result"
    }
   ],
   "source": [
    "# Displaying data frame\n",
    "ambitionbox_salary_comparision"
   ]
  },
  {
   "cell_type": "code",
   "execution_count": 303,
   "metadata": {},
   "outputs": [],
   "source": [
    "# Removing extra value from 'Experience Required' except experience\n",
    "ambitionbox_salary_comparision['Experience Required'] = ambitionbox_salary_comparision['Experience Required'].str.partition('. \\n')[2]"
   ]
  },
  {
   "cell_type": "code",
   "execution_count": 304,
   "metadata": {},
   "outputs": [
    {
     "data": {
      "text/html": [
       "<div>\n",
       "<style scoped>\n",
       "    .dataframe tbody tr th:only-of-type {\n",
       "        vertical-align: middle;\n",
       "    }\n",
       "\n",
       "    .dataframe tbody tr th {\n",
       "        vertical-align: top;\n",
       "    }\n",
       "\n",
       "    .dataframe thead th {\n",
       "        text-align: right;\n",
       "    }\n",
       "</style>\n",
       "<table border=\"1\" class=\"dataframe\">\n",
       "  <thead>\n",
       "    <tr style=\"text-align: right;\">\n",
       "      <th></th>\n",
       "      <th>Company Name</th>\n",
       "      <th>Total Salary Record</th>\n",
       "      <th>Average Salary</th>\n",
       "      <th>Minimum Salary</th>\n",
       "      <th>Maximum Salary</th>\n",
       "      <th>Experience Required</th>\n",
       "    </tr>\n",
       "  </thead>\n",
       "  <tbody>\n",
       "    <tr>\n",
       "      <th>0</th>\n",
       "      <td>Walmart</td>\n",
       "      <td>based on 10 salaries</td>\n",
       "      <td>₹ 28.7L</td>\n",
       "      <td>₹ 17.7L</td>\n",
       "      <td>₹ 35.0L</td>\n",
       "      <td>3 yrs exp</td>\n",
       "    </tr>\n",
       "    <tr>\n",
       "      <th>1</th>\n",
       "      <td>Ab Inbev</td>\n",
       "      <td>based on 22 salaries</td>\n",
       "      <td>₹ 19.5L</td>\n",
       "      <td>₹ 15.0L</td>\n",
       "      <td>₹ 25.0L</td>\n",
       "      <td>3-4 yrs exp</td>\n",
       "    </tr>\n",
       "    <tr>\n",
       "      <th>2</th>\n",
       "      <td>ZS</td>\n",
       "      <td>based on 14 salaries</td>\n",
       "      <td>₹ 15.8L</td>\n",
       "      <td>₹ 9.8L</td>\n",
       "      <td>₹ 20.0L</td>\n",
       "      <td>2 yrs exp</td>\n",
       "    </tr>\n",
       "    <tr>\n",
       "      <th>3</th>\n",
       "      <td>Fractal Analytics</td>\n",
       "      <td>based on 72 salaries</td>\n",
       "      <td>₹ 15.0L</td>\n",
       "      <td>₹ 9.5L</td>\n",
       "      <td>₹ 22.0L</td>\n",
       "      <td>2-4 yrs exp</td>\n",
       "    </tr>\n",
       "    <tr>\n",
       "      <th>4</th>\n",
       "      <td>Optum</td>\n",
       "      <td>based on 23 salaries</td>\n",
       "      <td>₹ 15.0L</td>\n",
       "      <td>₹ 11.0L</td>\n",
       "      <td>₹ 21.3L</td>\n",
       "      <td>3-4 yrs exp</td>\n",
       "    </tr>\n",
       "    <tr>\n",
       "      <th>5</th>\n",
       "      <td>UnitedHealth</td>\n",
       "      <td>based on 49 salaries</td>\n",
       "      <td>₹ 13.5L</td>\n",
       "      <td>₹ 7.2L</td>\n",
       "      <td>₹ 20.5L</td>\n",
       "      <td>2-4 yrs exp</td>\n",
       "    </tr>\n",
       "    <tr>\n",
       "      <th>6</th>\n",
       "      <td>Tiger Analytics</td>\n",
       "      <td>based on 27 salaries</td>\n",
       "      <td>₹ 13.5L</td>\n",
       "      <td>₹ 8.3L</td>\n",
       "      <td>₹ 18.5L</td>\n",
       "      <td>3-4 yrs exp</td>\n",
       "    </tr>\n",
       "    <tr>\n",
       "      <th>7</th>\n",
       "      <td>Verizon</td>\n",
       "      <td>based on 14 salaries</td>\n",
       "      <td>₹ 12.7L</td>\n",
       "      <td>₹ 10.0L</td>\n",
       "      <td>₹ 21.0L</td>\n",
       "      <td>4 yrs exp</td>\n",
       "    </tr>\n",
       "    <tr>\n",
       "      <th>8</th>\n",
       "      <td>Ganit Business Solutions</td>\n",
       "      <td>based on 13 salaries</td>\n",
       "      <td>₹ 12.4L</td>\n",
       "      <td>₹ 8.5L</td>\n",
       "      <td>₹ 15.0L</td>\n",
       "      <td>4 yrs exp</td>\n",
       "    </tr>\n",
       "    <tr>\n",
       "      <th>9</th>\n",
       "      <td>Ericsson</td>\n",
       "      <td>based on 42 salaries</td>\n",
       "      <td>₹ 11.9L</td>\n",
       "      <td>₹ 5.8L</td>\n",
       "      <td>₹ 21.5L</td>\n",
       "      <td>3-4 yrs exp</td>\n",
       "    </tr>\n",
       "  </tbody>\n",
       "</table>\n",
       "</div>"
      ],
      "text/plain": [
       "               Company Name   Total Salary Record Average Salary  \\\n",
       "0                   Walmart  based on 10 salaries        ₹ 28.7L   \n",
       "1                  Ab Inbev  based on 22 salaries        ₹ 19.5L   \n",
       "2                        ZS  based on 14 salaries        ₹ 15.8L   \n",
       "3         Fractal Analytics  based on 72 salaries        ₹ 15.0L   \n",
       "4                     Optum  based on 23 salaries        ₹ 15.0L   \n",
       "5              UnitedHealth  based on 49 salaries        ₹ 13.5L   \n",
       "6           Tiger Analytics  based on 27 salaries        ₹ 13.5L   \n",
       "7                   Verizon  based on 14 salaries        ₹ 12.7L   \n",
       "8  Ganit Business Solutions  based on 13 salaries        ₹ 12.4L   \n",
       "9                  Ericsson  based on 42 salaries        ₹ 11.9L   \n",
       "\n",
       "  Minimum Salary Maximum Salary Experience Required  \n",
       "0        ₹ 17.7L        ₹ 35.0L           3 yrs exp  \n",
       "1        ₹ 15.0L        ₹ 25.0L         3-4 yrs exp  \n",
       "2         ₹ 9.8L        ₹ 20.0L           2 yrs exp  \n",
       "3         ₹ 9.5L        ₹ 22.0L         2-4 yrs exp  \n",
       "4        ₹ 11.0L        ₹ 21.3L         3-4 yrs exp  \n",
       "5         ₹ 7.2L        ₹ 20.5L         2-4 yrs exp  \n",
       "6         ₹ 8.3L        ₹ 18.5L         3-4 yrs exp  \n",
       "7        ₹ 10.0L        ₹ 21.0L           4 yrs exp  \n",
       "8         ₹ 8.5L        ₹ 15.0L           4 yrs exp  \n",
       "9         ₹ 5.8L        ₹ 21.5L         3-4 yrs exp  "
      ]
     },
     "execution_count": 304,
     "metadata": {},
     "output_type": "execute_result"
    }
   ],
   "source": [
    "# Displaying data frame\n",
    "ambitionbox_salary_comparision"
   ]
  },
  {
   "cell_type": "code",
   "execution_count": null,
   "metadata": {},
   "outputs": [],
   "source": []
  }
 ],
 "metadata": {
  "kernelspec": {
   "display_name": "Python 3",
   "language": "python",
   "name": "python3"
  },
  "language_info": {
   "codemirror_mode": {
    "name": "ipython",
    "version": 3
   },
   "file_extension": ".py",
   "mimetype": "text/x-python",
   "name": "python",
   "nbconvert_exporter": "python",
   "pygments_lexer": "ipython3",
   "version": "3.8.5"
  }
 },
 "nbformat": 4,
 "nbformat_minor": 4
}
